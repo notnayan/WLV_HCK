{
  "nbformat": 4,
  "nbformat_minor": 0,
  "metadata": {
    "colab": {
      "provenance": []
    },
    "kernelspec": {
      "name": "python3",
      "display_name": "Python 3"
    },
    "language_info": {
      "name": "python"
    }
  },
  "cells": [
    {
      "cell_type": "code",
      "source": [
        "# Mount the drive\n",
        "from google.colab import drive\n",
        "drive.mount('/content/drive')"
      ],
      "metadata": {
        "colab": {
          "base_uri": "https://localhost:8080/"
        },
        "id": "oDTkIQ64fKHI",
        "outputId": "c8587297-b893-49b3-f2b1-7d18e3592ad4"
      },
      "execution_count": 477,
      "outputs": [
        {
          "output_type": "stream",
          "name": "stdout",
          "text": [
            "Drive already mounted at /content/drive; to attempt to forcibly remount, call drive.mount(\"/content/drive\", force_remount=True).\n"
          ]
        }
      ]
    },
    {
      "cell_type": "code",
      "source": [
        "# Import Numpy library to work with arrays\n",
        "import numpy as np\n",
        "# Import pandas library to work with data sets\n",
        "import pandas as pd\n",
        "# Import Matplotlib library to create 2D graphs and plots\n",
        "import matplotlib.pyplot as plt\n",
        "# Import Axes3D class to create 3D plots\n",
        "from mpl_toolkits.mplot3d import Axes3D\n",
        "# Import LabelEncoder to convert categorical variables, represented as strings, into numerical values\n",
        "from sklearn.preprocessing import LabelEncoder\n",
        "# Import StandardScaler class to standardize the columns of a dataset by subtracting the mean and dividing by the standard deviation\n",
        "from sklearn.preprocessing import StandardScaler\n",
        "# Import Lasso class which is a linear regression algorithm that uses L1 regularization\n",
        "from sklearn.linear_model import Lasso\n",
        "# Import mean_squared_error, r2_score functions to calculate the mean squared error and to calculate the coefficient of determination respectively\n",
        "from sklearn.metrics import mean_squared_error, r2_score\n",
        "# Import PCA module from the sklearn library to perform PCA\n",
        "from sklearn.decomposition import PCA\n",
        "# Import Seaborn library for drawing attractive and informative statistical graphics\n",
        "import seaborn as sns\n",
        "# Import train_test_split function to split a dataset into two parts\n",
        "from sklearn.model_selection import train_test_split\n",
        "# Import LogisticRegression class for binary classification problems\n",
        "from sklearn.linear_model import LogisticRegression\n",
        "# Import accuracy_score function to evaluate the performance of a binary classification model\n",
        "from sklearn.metrics import accuracy_score"
      ],
      "metadata": {
        "id": "He_QX5o9tTAe"
      },
      "execution_count": 478,
      "outputs": []
    },
    {
      "cell_type": "markdown",
      "source": [
        "#**Part-I**: Multiple Linear Regression:"
      ],
      "metadata": {
        "id": "xVlQRe3ZSFxh"
      }
    },
    {
      "cell_type": "markdown",
      "source": [
        "##**1. Data Understanding, Cleaning and Transformation:**"
      ],
      "metadata": {
        "id": "AhFtN_lwSYH-"
      }
    },
    {
      "cell_type": "markdown",
      "source": [
        "Understand what is data about and why do you think the data was collected, and what research questions\n",
        "data can answers. "
      ],
      "metadata": {
        "id": "hNeaLj4TSeaX"
      }
    },
    {
      "cell_type": "markdown",
      "source": [
        "**(a) You can explain your logic in the text cell of your notebook.<br>**\n"
      ],
      "metadata": {
        "id": "oPkAmHmMShM3"
      }
    },
    {
      "cell_type": "markdown",
      "source": [
        "According to my understanding the data contains information about video games and it includes things like rankings, game genres, sales numbers in different places, and who made the game. This information can help answer questions like: which games sold the most, what types of games are popular, and does where the game is sold affect its sales.\n"
      ],
      "metadata": {
        "id": "nrRszI1dYFms"
      }
    },
    {
      "cell_type": "markdown",
      "source": [
        "**(b) Based on your research questions Identify Dependent and Independent Variables.<br>**\n"
      ],
      "metadata": {
        "id": "sUZ5iDvcX1G0"
      }
    },
    {
      "cell_type": "markdown",
      "source": [
        "Based on the information provided, the global sales of video games are a dependent variable on this data, and we are attempting to predict it. On the other hand, independent variables include the rank, name, platform, genre, publishers, NA, JP, and other sales, all of which have an impact on the global sales of video games."
      ],
      "metadata": {
        "id": "iunPOWw4efyQ"
      }
    },
    {
      "cell_type": "markdown",
      "source": [
        "**(c) Use pandas to load your dataset and observe the data.**"
      ],
      "metadata": {
        "id": "7sHsVgjrZsPY"
      }
    },
    {
      "cell_type": "code",
      "source": [
        "# Read CSV file\n",
        "df = pd.read_csv('/content/drive/MyDrive/Regression Portfolio/7.csv')\n",
        "# Set the maximum number of columns to be displayed to \"None\", hence all columns will be shown\n",
        "pd.options.display.max_columns = None\n",
        "# Show the dataframe\n",
        "df"
      ],
      "metadata": {
        "id": "L1FAVDzCfool",
        "colab": {
          "base_uri": "https://localhost:8080/",
          "height": 424
        },
        "outputId": "f27d2af5-0f3c-45ca-cc03-169d05669b7f"
      },
      "execution_count": 479,
      "outputs": [
        {
          "output_type": "execute_result",
          "data": {
            "text/plain": [
              "        Rank                                              Name Platform  \\\n",
              "0          1                                        Wii Sports      Wii   \n",
              "1          2                                 Super Mario Bros.      NES   \n",
              "2          3                                    Mario Kart Wii      Wii   \n",
              "3          4                                 Wii Sports Resort      Wii   \n",
              "4          5                          Pokemon Red/Pokemon Blue       GB   \n",
              "...      ...                                               ...      ...   \n",
              "16593  16596                Woody Woodpecker in Crazy Castle 5      GBA   \n",
              "16594  16597                     Men in Black II: Alien Escape       GC   \n",
              "16595  16598  SCORE International Baja 1000: The Official Game      PS2   \n",
              "16596  16599                                        Know How 2       DS   \n",
              "16597  16600                                  Spirits & Spells      GBA   \n",
              "\n",
              "              Genre   Publisher  NA_Sales  EU_Sales  JP_Sales  Other_Sales  \\\n",
              "0            Sports    Nintendo     41.49     29.02      3.77         8.46   \n",
              "1          Platform    Nintendo     29.08      3.58      6.81         0.77   \n",
              "2            Racing    Nintendo     15.85     12.88      3.79         3.31   \n",
              "3            Sports    Nintendo     15.75     11.01      3.28         2.96   \n",
              "4      Role-Playing    Nintendo     11.27      8.89     10.22         1.00   \n",
              "...             ...         ...       ...       ...       ...          ...   \n",
              "16593      Platform       Kemco      0.01      0.00      0.00         0.00   \n",
              "16594       Shooter  Infogrames      0.01      0.00      0.00         0.00   \n",
              "16595        Racing  Activision      0.00      0.00      0.00         0.00   \n",
              "16596        Puzzle    7G//AMES      0.00      0.01      0.00         0.00   \n",
              "16597      Platform     Wanadoo      0.01      0.00      0.00         0.00   \n",
              "\n",
              "       Global_Sales  \n",
              "0             82.74  \n",
              "1             40.24  \n",
              "2             35.82  \n",
              "3             33.00  \n",
              "4             31.37  \n",
              "...             ...  \n",
              "16593          0.01  \n",
              "16594          0.01  \n",
              "16595          0.01  \n",
              "16596          0.01  \n",
              "16597          0.01  \n",
              "\n",
              "[16598 rows x 10 columns]"
            ],
            "text/html": [
              "\n",
              "  <div id=\"df-230a25bd-2a6b-4f7f-ba62-251fc681659b\">\n",
              "    <div class=\"colab-df-container\">\n",
              "      <div>\n",
              "<style scoped>\n",
              "    .dataframe tbody tr th:only-of-type {\n",
              "        vertical-align: middle;\n",
              "    }\n",
              "\n",
              "    .dataframe tbody tr th {\n",
              "        vertical-align: top;\n",
              "    }\n",
              "\n",
              "    .dataframe thead th {\n",
              "        text-align: right;\n",
              "    }\n",
              "</style>\n",
              "<table border=\"1\" class=\"dataframe\">\n",
              "  <thead>\n",
              "    <tr style=\"text-align: right;\">\n",
              "      <th></th>\n",
              "      <th>Rank</th>\n",
              "      <th>Name</th>\n",
              "      <th>Platform</th>\n",
              "      <th>Genre</th>\n",
              "      <th>Publisher</th>\n",
              "      <th>NA_Sales</th>\n",
              "      <th>EU_Sales</th>\n",
              "      <th>JP_Sales</th>\n",
              "      <th>Other_Sales</th>\n",
              "      <th>Global_Sales</th>\n",
              "    </tr>\n",
              "  </thead>\n",
              "  <tbody>\n",
              "    <tr>\n",
              "      <th>0</th>\n",
              "      <td>1</td>\n",
              "      <td>Wii Sports</td>\n",
              "      <td>Wii</td>\n",
              "      <td>Sports</td>\n",
              "      <td>Nintendo</td>\n",
              "      <td>41.49</td>\n",
              "      <td>29.02</td>\n",
              "      <td>3.77</td>\n",
              "      <td>8.46</td>\n",
              "      <td>82.74</td>\n",
              "    </tr>\n",
              "    <tr>\n",
              "      <th>1</th>\n",
              "      <td>2</td>\n",
              "      <td>Super Mario Bros.</td>\n",
              "      <td>NES</td>\n",
              "      <td>Platform</td>\n",
              "      <td>Nintendo</td>\n",
              "      <td>29.08</td>\n",
              "      <td>3.58</td>\n",
              "      <td>6.81</td>\n",
              "      <td>0.77</td>\n",
              "      <td>40.24</td>\n",
              "    </tr>\n",
              "    <tr>\n",
              "      <th>2</th>\n",
              "      <td>3</td>\n",
              "      <td>Mario Kart Wii</td>\n",
              "      <td>Wii</td>\n",
              "      <td>Racing</td>\n",
              "      <td>Nintendo</td>\n",
              "      <td>15.85</td>\n",
              "      <td>12.88</td>\n",
              "      <td>3.79</td>\n",
              "      <td>3.31</td>\n",
              "      <td>35.82</td>\n",
              "    </tr>\n",
              "    <tr>\n",
              "      <th>3</th>\n",
              "      <td>4</td>\n",
              "      <td>Wii Sports Resort</td>\n",
              "      <td>Wii</td>\n",
              "      <td>Sports</td>\n",
              "      <td>Nintendo</td>\n",
              "      <td>15.75</td>\n",
              "      <td>11.01</td>\n",
              "      <td>3.28</td>\n",
              "      <td>2.96</td>\n",
              "      <td>33.00</td>\n",
              "    </tr>\n",
              "    <tr>\n",
              "      <th>4</th>\n",
              "      <td>5</td>\n",
              "      <td>Pokemon Red/Pokemon Blue</td>\n",
              "      <td>GB</td>\n",
              "      <td>Role-Playing</td>\n",
              "      <td>Nintendo</td>\n",
              "      <td>11.27</td>\n",
              "      <td>8.89</td>\n",
              "      <td>10.22</td>\n",
              "      <td>1.00</td>\n",
              "      <td>31.37</td>\n",
              "    </tr>\n",
              "    <tr>\n",
              "      <th>...</th>\n",
              "      <td>...</td>\n",
              "      <td>...</td>\n",
              "      <td>...</td>\n",
              "      <td>...</td>\n",
              "      <td>...</td>\n",
              "      <td>...</td>\n",
              "      <td>...</td>\n",
              "      <td>...</td>\n",
              "      <td>...</td>\n",
              "      <td>...</td>\n",
              "    </tr>\n",
              "    <tr>\n",
              "      <th>16593</th>\n",
              "      <td>16596</td>\n",
              "      <td>Woody Woodpecker in Crazy Castle 5</td>\n",
              "      <td>GBA</td>\n",
              "      <td>Platform</td>\n",
              "      <td>Kemco</td>\n",
              "      <td>0.01</td>\n",
              "      <td>0.00</td>\n",
              "      <td>0.00</td>\n",
              "      <td>0.00</td>\n",
              "      <td>0.01</td>\n",
              "    </tr>\n",
              "    <tr>\n",
              "      <th>16594</th>\n",
              "      <td>16597</td>\n",
              "      <td>Men in Black II: Alien Escape</td>\n",
              "      <td>GC</td>\n",
              "      <td>Shooter</td>\n",
              "      <td>Infogrames</td>\n",
              "      <td>0.01</td>\n",
              "      <td>0.00</td>\n",
              "      <td>0.00</td>\n",
              "      <td>0.00</td>\n",
              "      <td>0.01</td>\n",
              "    </tr>\n",
              "    <tr>\n",
              "      <th>16595</th>\n",
              "      <td>16598</td>\n",
              "      <td>SCORE International Baja 1000: The Official Game</td>\n",
              "      <td>PS2</td>\n",
              "      <td>Racing</td>\n",
              "      <td>Activision</td>\n",
              "      <td>0.00</td>\n",
              "      <td>0.00</td>\n",
              "      <td>0.00</td>\n",
              "      <td>0.00</td>\n",
              "      <td>0.01</td>\n",
              "    </tr>\n",
              "    <tr>\n",
              "      <th>16596</th>\n",
              "      <td>16599</td>\n",
              "      <td>Know How 2</td>\n",
              "      <td>DS</td>\n",
              "      <td>Puzzle</td>\n",
              "      <td>7G//AMES</td>\n",
              "      <td>0.00</td>\n",
              "      <td>0.01</td>\n",
              "      <td>0.00</td>\n",
              "      <td>0.00</td>\n",
              "      <td>0.01</td>\n",
              "    </tr>\n",
              "    <tr>\n",
              "      <th>16597</th>\n",
              "      <td>16600</td>\n",
              "      <td>Spirits &amp; Spells</td>\n",
              "      <td>GBA</td>\n",
              "      <td>Platform</td>\n",
              "      <td>Wanadoo</td>\n",
              "      <td>0.01</td>\n",
              "      <td>0.00</td>\n",
              "      <td>0.00</td>\n",
              "      <td>0.00</td>\n",
              "      <td>0.01</td>\n",
              "    </tr>\n",
              "  </tbody>\n",
              "</table>\n",
              "<p>16598 rows × 10 columns</p>\n",
              "</div>\n",
              "      <button class=\"colab-df-convert\" onclick=\"convertToInteractive('df-230a25bd-2a6b-4f7f-ba62-251fc681659b')\"\n",
              "              title=\"Convert this dataframe to an interactive table.\"\n",
              "              style=\"display:none;\">\n",
              "        \n",
              "  <svg xmlns=\"http://www.w3.org/2000/svg\" height=\"24px\"viewBox=\"0 0 24 24\"\n",
              "       width=\"24px\">\n",
              "    <path d=\"M0 0h24v24H0V0z\" fill=\"none\"/>\n",
              "    <path d=\"M18.56 5.44l.94 2.06.94-2.06 2.06-.94-2.06-.94-.94-2.06-.94 2.06-2.06.94zm-11 1L8.5 8.5l.94-2.06 2.06-.94-2.06-.94L8.5 2.5l-.94 2.06-2.06.94zm10 10l.94 2.06.94-2.06 2.06-.94-2.06-.94-.94-2.06-.94 2.06-2.06.94z\"/><path d=\"M17.41 7.96l-1.37-1.37c-.4-.4-.92-.59-1.43-.59-.52 0-1.04.2-1.43.59L10.3 9.45l-7.72 7.72c-.78.78-.78 2.05 0 2.83L4 21.41c.39.39.9.59 1.41.59.51 0 1.02-.2 1.41-.59l7.78-7.78 2.81-2.81c.8-.78.8-2.07 0-2.86zM5.41 20L4 18.59l7.72-7.72 1.47 1.35L5.41 20z\"/>\n",
              "  </svg>\n",
              "      </button>\n",
              "      \n",
              "  <style>\n",
              "    .colab-df-container {\n",
              "      display:flex;\n",
              "      flex-wrap:wrap;\n",
              "      gap: 12px;\n",
              "    }\n",
              "\n",
              "    .colab-df-convert {\n",
              "      background-color: #E8F0FE;\n",
              "      border: none;\n",
              "      border-radius: 50%;\n",
              "      cursor: pointer;\n",
              "      display: none;\n",
              "      fill: #1967D2;\n",
              "      height: 32px;\n",
              "      padding: 0 0 0 0;\n",
              "      width: 32px;\n",
              "    }\n",
              "\n",
              "    .colab-df-convert:hover {\n",
              "      background-color: #E2EBFA;\n",
              "      box-shadow: 0px 1px 2px rgba(60, 64, 67, 0.3), 0px 1px 3px 1px rgba(60, 64, 67, 0.15);\n",
              "      fill: #174EA6;\n",
              "    }\n",
              "\n",
              "    [theme=dark] .colab-df-convert {\n",
              "      background-color: #3B4455;\n",
              "      fill: #D2E3FC;\n",
              "    }\n",
              "\n",
              "    [theme=dark] .colab-df-convert:hover {\n",
              "      background-color: #434B5C;\n",
              "      box-shadow: 0px 1px 3px 1px rgba(0, 0, 0, 0.15);\n",
              "      filter: drop-shadow(0px 1px 2px rgba(0, 0, 0, 0.3));\n",
              "      fill: #FFFFFF;\n",
              "    }\n",
              "  </style>\n",
              "\n",
              "      <script>\n",
              "        const buttonEl =\n",
              "          document.querySelector('#df-230a25bd-2a6b-4f7f-ba62-251fc681659b button.colab-df-convert');\n",
              "        buttonEl.style.display =\n",
              "          google.colab.kernel.accessAllowed ? 'block' : 'none';\n",
              "\n",
              "        async function convertToInteractive(key) {\n",
              "          const element = document.querySelector('#df-230a25bd-2a6b-4f7f-ba62-251fc681659b');\n",
              "          const dataTable =\n",
              "            await google.colab.kernel.invokeFunction('convertToInteractive',\n",
              "                                                     [key], {});\n",
              "          if (!dataTable) return;\n",
              "\n",
              "          const docLinkHtml = 'Like what you see? Visit the ' +\n",
              "            '<a target=\"_blank\" href=https://colab.research.google.com/notebooks/data_table.ipynb>data table notebook</a>'\n",
              "            + ' to learn more about interactive tables.';\n",
              "          element.innerHTML = '';\n",
              "          dataTable['output_type'] = 'display_data';\n",
              "          await google.colab.output.renderOutput(dataTable, element);\n",
              "          const docLink = document.createElement('div');\n",
              "          docLink.innerHTML = docLinkHtml;\n",
              "          element.appendChild(docLink);\n",
              "        }\n",
              "      </script>\n",
              "    </div>\n",
              "  </div>\n",
              "  "
            ]
          },
          "metadata": {},
          "execution_count": 479
        }
      ]
    },
    {
      "cell_type": "markdown",
      "source": [
        "If required perform basic data cleaning and Transformation the way you fits your task requirements."
      ],
      "metadata": {
        "id": "oiUk1c3DSnhu"
      }
    },
    {
      "cell_type": "code",
      "source": [
        "# Determining whether the dataset has any missing values\n",
        "df.isnull().sum()"
      ],
      "metadata": {
        "colab": {
          "base_uri": "https://localhost:8080/"
        },
        "id": "n8DYrehIfyBG",
        "outputId": "e4cc8c16-c235-423c-c16a-c25d737a2308"
      },
      "execution_count": 480,
      "outputs": [
        {
          "output_type": "execute_result",
          "data": {
            "text/plain": [
              "Rank             0\n",
              "Name             0\n",
              "Platform         0\n",
              "Genre            0\n",
              "Publisher       58\n",
              "NA_Sales         0\n",
              "EU_Sales         0\n",
              "JP_Sales         0\n",
              "Other_Sales      0\n",
              "Global_Sales     0\n",
              "dtype: int64"
            ]
          },
          "metadata": {},
          "execution_count": 480
        }
      ]
    },
    {
      "cell_type": "code",
      "source": [
        "# Display data from start\n",
        "df.head()"
      ],
      "metadata": {
        "colab": {
          "base_uri": "https://localhost:8080/",
          "height": 206
        },
        "id": "M207Xp0Fse63",
        "outputId": "bd60cfc2-2a01-44f3-c798-4d774ccb82b7"
      },
      "execution_count": 481,
      "outputs": [
        {
          "output_type": "execute_result",
          "data": {
            "text/plain": [
              "   Rank                      Name Platform         Genre Publisher  NA_Sales  \\\n",
              "0     1                Wii Sports      Wii        Sports  Nintendo     41.49   \n",
              "1     2         Super Mario Bros.      NES      Platform  Nintendo     29.08   \n",
              "2     3            Mario Kart Wii      Wii        Racing  Nintendo     15.85   \n",
              "3     4         Wii Sports Resort      Wii        Sports  Nintendo     15.75   \n",
              "4     5  Pokemon Red/Pokemon Blue       GB  Role-Playing  Nintendo     11.27   \n",
              "\n",
              "   EU_Sales  JP_Sales  Other_Sales  Global_Sales  \n",
              "0     29.02      3.77         8.46         82.74  \n",
              "1      3.58      6.81         0.77         40.24  \n",
              "2     12.88      3.79         3.31         35.82  \n",
              "3     11.01      3.28         2.96         33.00  \n",
              "4      8.89     10.22         1.00         31.37  "
            ],
            "text/html": [
              "\n",
              "  <div id=\"df-8ff77396-fce9-4685-a8fd-e7bb8a29bc61\">\n",
              "    <div class=\"colab-df-container\">\n",
              "      <div>\n",
              "<style scoped>\n",
              "    .dataframe tbody tr th:only-of-type {\n",
              "        vertical-align: middle;\n",
              "    }\n",
              "\n",
              "    .dataframe tbody tr th {\n",
              "        vertical-align: top;\n",
              "    }\n",
              "\n",
              "    .dataframe thead th {\n",
              "        text-align: right;\n",
              "    }\n",
              "</style>\n",
              "<table border=\"1\" class=\"dataframe\">\n",
              "  <thead>\n",
              "    <tr style=\"text-align: right;\">\n",
              "      <th></th>\n",
              "      <th>Rank</th>\n",
              "      <th>Name</th>\n",
              "      <th>Platform</th>\n",
              "      <th>Genre</th>\n",
              "      <th>Publisher</th>\n",
              "      <th>NA_Sales</th>\n",
              "      <th>EU_Sales</th>\n",
              "      <th>JP_Sales</th>\n",
              "      <th>Other_Sales</th>\n",
              "      <th>Global_Sales</th>\n",
              "    </tr>\n",
              "  </thead>\n",
              "  <tbody>\n",
              "    <tr>\n",
              "      <th>0</th>\n",
              "      <td>1</td>\n",
              "      <td>Wii Sports</td>\n",
              "      <td>Wii</td>\n",
              "      <td>Sports</td>\n",
              "      <td>Nintendo</td>\n",
              "      <td>41.49</td>\n",
              "      <td>29.02</td>\n",
              "      <td>3.77</td>\n",
              "      <td>8.46</td>\n",
              "      <td>82.74</td>\n",
              "    </tr>\n",
              "    <tr>\n",
              "      <th>1</th>\n",
              "      <td>2</td>\n",
              "      <td>Super Mario Bros.</td>\n",
              "      <td>NES</td>\n",
              "      <td>Platform</td>\n",
              "      <td>Nintendo</td>\n",
              "      <td>29.08</td>\n",
              "      <td>3.58</td>\n",
              "      <td>6.81</td>\n",
              "      <td>0.77</td>\n",
              "      <td>40.24</td>\n",
              "    </tr>\n",
              "    <tr>\n",
              "      <th>2</th>\n",
              "      <td>3</td>\n",
              "      <td>Mario Kart Wii</td>\n",
              "      <td>Wii</td>\n",
              "      <td>Racing</td>\n",
              "      <td>Nintendo</td>\n",
              "      <td>15.85</td>\n",
              "      <td>12.88</td>\n",
              "      <td>3.79</td>\n",
              "      <td>3.31</td>\n",
              "      <td>35.82</td>\n",
              "    </tr>\n",
              "    <tr>\n",
              "      <th>3</th>\n",
              "      <td>4</td>\n",
              "      <td>Wii Sports Resort</td>\n",
              "      <td>Wii</td>\n",
              "      <td>Sports</td>\n",
              "      <td>Nintendo</td>\n",
              "      <td>15.75</td>\n",
              "      <td>11.01</td>\n",
              "      <td>3.28</td>\n",
              "      <td>2.96</td>\n",
              "      <td>33.00</td>\n",
              "    </tr>\n",
              "    <tr>\n",
              "      <th>4</th>\n",
              "      <td>5</td>\n",
              "      <td>Pokemon Red/Pokemon Blue</td>\n",
              "      <td>GB</td>\n",
              "      <td>Role-Playing</td>\n",
              "      <td>Nintendo</td>\n",
              "      <td>11.27</td>\n",
              "      <td>8.89</td>\n",
              "      <td>10.22</td>\n",
              "      <td>1.00</td>\n",
              "      <td>31.37</td>\n",
              "    </tr>\n",
              "  </tbody>\n",
              "</table>\n",
              "</div>\n",
              "      <button class=\"colab-df-convert\" onclick=\"convertToInteractive('df-8ff77396-fce9-4685-a8fd-e7bb8a29bc61')\"\n",
              "              title=\"Convert this dataframe to an interactive table.\"\n",
              "              style=\"display:none;\">\n",
              "        \n",
              "  <svg xmlns=\"http://www.w3.org/2000/svg\" height=\"24px\"viewBox=\"0 0 24 24\"\n",
              "       width=\"24px\">\n",
              "    <path d=\"M0 0h24v24H0V0z\" fill=\"none\"/>\n",
              "    <path d=\"M18.56 5.44l.94 2.06.94-2.06 2.06-.94-2.06-.94-.94-2.06-.94 2.06-2.06.94zm-11 1L8.5 8.5l.94-2.06 2.06-.94-2.06-.94L8.5 2.5l-.94 2.06-2.06.94zm10 10l.94 2.06.94-2.06 2.06-.94-2.06-.94-.94-2.06-.94 2.06-2.06.94z\"/><path d=\"M17.41 7.96l-1.37-1.37c-.4-.4-.92-.59-1.43-.59-.52 0-1.04.2-1.43.59L10.3 9.45l-7.72 7.72c-.78.78-.78 2.05 0 2.83L4 21.41c.39.39.9.59 1.41.59.51 0 1.02-.2 1.41-.59l7.78-7.78 2.81-2.81c.8-.78.8-2.07 0-2.86zM5.41 20L4 18.59l7.72-7.72 1.47 1.35L5.41 20z\"/>\n",
              "  </svg>\n",
              "      </button>\n",
              "      \n",
              "  <style>\n",
              "    .colab-df-container {\n",
              "      display:flex;\n",
              "      flex-wrap:wrap;\n",
              "      gap: 12px;\n",
              "    }\n",
              "\n",
              "    .colab-df-convert {\n",
              "      background-color: #E8F0FE;\n",
              "      border: none;\n",
              "      border-radius: 50%;\n",
              "      cursor: pointer;\n",
              "      display: none;\n",
              "      fill: #1967D2;\n",
              "      height: 32px;\n",
              "      padding: 0 0 0 0;\n",
              "      width: 32px;\n",
              "    }\n",
              "\n",
              "    .colab-df-convert:hover {\n",
              "      background-color: #E2EBFA;\n",
              "      box-shadow: 0px 1px 2px rgba(60, 64, 67, 0.3), 0px 1px 3px 1px rgba(60, 64, 67, 0.15);\n",
              "      fill: #174EA6;\n",
              "    }\n",
              "\n",
              "    [theme=dark] .colab-df-convert {\n",
              "      background-color: #3B4455;\n",
              "      fill: #D2E3FC;\n",
              "    }\n",
              "\n",
              "    [theme=dark] .colab-df-convert:hover {\n",
              "      background-color: #434B5C;\n",
              "      box-shadow: 0px 1px 3px 1px rgba(0, 0, 0, 0.15);\n",
              "      filter: drop-shadow(0px 1px 2px rgba(0, 0, 0, 0.3));\n",
              "      fill: #FFFFFF;\n",
              "    }\n",
              "  </style>\n",
              "\n",
              "      <script>\n",
              "        const buttonEl =\n",
              "          document.querySelector('#df-8ff77396-fce9-4685-a8fd-e7bb8a29bc61 button.colab-df-convert');\n",
              "        buttonEl.style.display =\n",
              "          google.colab.kernel.accessAllowed ? 'block' : 'none';\n",
              "\n",
              "        async function convertToInteractive(key) {\n",
              "          const element = document.querySelector('#df-8ff77396-fce9-4685-a8fd-e7bb8a29bc61');\n",
              "          const dataTable =\n",
              "            await google.colab.kernel.invokeFunction('convertToInteractive',\n",
              "                                                     [key], {});\n",
              "          if (!dataTable) return;\n",
              "\n",
              "          const docLinkHtml = 'Like what you see? Visit the ' +\n",
              "            '<a target=\"_blank\" href=https://colab.research.google.com/notebooks/data_table.ipynb>data table notebook</a>'\n",
              "            + ' to learn more about interactive tables.';\n",
              "          element.innerHTML = '';\n",
              "          dataTable['output_type'] = 'display_data';\n",
              "          await google.colab.output.renderOutput(dataTable, element);\n",
              "          const docLink = document.createElement('div');\n",
              "          docLink.innerHTML = docLinkHtml;\n",
              "          element.appendChild(docLink);\n",
              "        }\n",
              "      </script>\n",
              "    </div>\n",
              "  </div>\n",
              "  "
            ]
          },
          "metadata": {},
          "execution_count": 481
        }
      ]
    },
    {
      "cell_type": "code",
      "source": [
        "# Display data from end\n",
        "df.tail()"
      ],
      "metadata": {
        "colab": {
          "base_uri": "https://localhost:8080/",
          "height": 206
        },
        "id": "-dtX0i5HshXo",
        "outputId": "fd9e489e-4c75-495e-a9bf-b1f8dcec9094"
      },
      "execution_count": 482,
      "outputs": [
        {
          "output_type": "execute_result",
          "data": {
            "text/plain": [
              "        Rank                                              Name Platform  \\\n",
              "16593  16596                Woody Woodpecker in Crazy Castle 5      GBA   \n",
              "16594  16597                     Men in Black II: Alien Escape       GC   \n",
              "16595  16598  SCORE International Baja 1000: The Official Game      PS2   \n",
              "16596  16599                                        Know How 2       DS   \n",
              "16597  16600                                  Spirits & Spells      GBA   \n",
              "\n",
              "          Genre   Publisher  NA_Sales  EU_Sales  JP_Sales  Other_Sales  \\\n",
              "16593  Platform       Kemco      0.01      0.00       0.0          0.0   \n",
              "16594   Shooter  Infogrames      0.01      0.00       0.0          0.0   \n",
              "16595    Racing  Activision      0.00      0.00       0.0          0.0   \n",
              "16596    Puzzle    7G//AMES      0.00      0.01       0.0          0.0   \n",
              "16597  Platform     Wanadoo      0.01      0.00       0.0          0.0   \n",
              "\n",
              "       Global_Sales  \n",
              "16593          0.01  \n",
              "16594          0.01  \n",
              "16595          0.01  \n",
              "16596          0.01  \n",
              "16597          0.01  "
            ],
            "text/html": [
              "\n",
              "  <div id=\"df-12441762-be91-488c-ab52-5cd2fd7ffec6\">\n",
              "    <div class=\"colab-df-container\">\n",
              "      <div>\n",
              "<style scoped>\n",
              "    .dataframe tbody tr th:only-of-type {\n",
              "        vertical-align: middle;\n",
              "    }\n",
              "\n",
              "    .dataframe tbody tr th {\n",
              "        vertical-align: top;\n",
              "    }\n",
              "\n",
              "    .dataframe thead th {\n",
              "        text-align: right;\n",
              "    }\n",
              "</style>\n",
              "<table border=\"1\" class=\"dataframe\">\n",
              "  <thead>\n",
              "    <tr style=\"text-align: right;\">\n",
              "      <th></th>\n",
              "      <th>Rank</th>\n",
              "      <th>Name</th>\n",
              "      <th>Platform</th>\n",
              "      <th>Genre</th>\n",
              "      <th>Publisher</th>\n",
              "      <th>NA_Sales</th>\n",
              "      <th>EU_Sales</th>\n",
              "      <th>JP_Sales</th>\n",
              "      <th>Other_Sales</th>\n",
              "      <th>Global_Sales</th>\n",
              "    </tr>\n",
              "  </thead>\n",
              "  <tbody>\n",
              "    <tr>\n",
              "      <th>16593</th>\n",
              "      <td>16596</td>\n",
              "      <td>Woody Woodpecker in Crazy Castle 5</td>\n",
              "      <td>GBA</td>\n",
              "      <td>Platform</td>\n",
              "      <td>Kemco</td>\n",
              "      <td>0.01</td>\n",
              "      <td>0.00</td>\n",
              "      <td>0.0</td>\n",
              "      <td>0.0</td>\n",
              "      <td>0.01</td>\n",
              "    </tr>\n",
              "    <tr>\n",
              "      <th>16594</th>\n",
              "      <td>16597</td>\n",
              "      <td>Men in Black II: Alien Escape</td>\n",
              "      <td>GC</td>\n",
              "      <td>Shooter</td>\n",
              "      <td>Infogrames</td>\n",
              "      <td>0.01</td>\n",
              "      <td>0.00</td>\n",
              "      <td>0.0</td>\n",
              "      <td>0.0</td>\n",
              "      <td>0.01</td>\n",
              "    </tr>\n",
              "    <tr>\n",
              "      <th>16595</th>\n",
              "      <td>16598</td>\n",
              "      <td>SCORE International Baja 1000: The Official Game</td>\n",
              "      <td>PS2</td>\n",
              "      <td>Racing</td>\n",
              "      <td>Activision</td>\n",
              "      <td>0.00</td>\n",
              "      <td>0.00</td>\n",
              "      <td>0.0</td>\n",
              "      <td>0.0</td>\n",
              "      <td>0.01</td>\n",
              "    </tr>\n",
              "    <tr>\n",
              "      <th>16596</th>\n",
              "      <td>16599</td>\n",
              "      <td>Know How 2</td>\n",
              "      <td>DS</td>\n",
              "      <td>Puzzle</td>\n",
              "      <td>7G//AMES</td>\n",
              "      <td>0.00</td>\n",
              "      <td>0.01</td>\n",
              "      <td>0.0</td>\n",
              "      <td>0.0</td>\n",
              "      <td>0.01</td>\n",
              "    </tr>\n",
              "    <tr>\n",
              "      <th>16597</th>\n",
              "      <td>16600</td>\n",
              "      <td>Spirits &amp; Spells</td>\n",
              "      <td>GBA</td>\n",
              "      <td>Platform</td>\n",
              "      <td>Wanadoo</td>\n",
              "      <td>0.01</td>\n",
              "      <td>0.00</td>\n",
              "      <td>0.0</td>\n",
              "      <td>0.0</td>\n",
              "      <td>0.01</td>\n",
              "    </tr>\n",
              "  </tbody>\n",
              "</table>\n",
              "</div>\n",
              "      <button class=\"colab-df-convert\" onclick=\"convertToInteractive('df-12441762-be91-488c-ab52-5cd2fd7ffec6')\"\n",
              "              title=\"Convert this dataframe to an interactive table.\"\n",
              "              style=\"display:none;\">\n",
              "        \n",
              "  <svg xmlns=\"http://www.w3.org/2000/svg\" height=\"24px\"viewBox=\"0 0 24 24\"\n",
              "       width=\"24px\">\n",
              "    <path d=\"M0 0h24v24H0V0z\" fill=\"none\"/>\n",
              "    <path d=\"M18.56 5.44l.94 2.06.94-2.06 2.06-.94-2.06-.94-.94-2.06-.94 2.06-2.06.94zm-11 1L8.5 8.5l.94-2.06 2.06-.94-2.06-.94L8.5 2.5l-.94 2.06-2.06.94zm10 10l.94 2.06.94-2.06 2.06-.94-2.06-.94-.94-2.06-.94 2.06-2.06.94z\"/><path d=\"M17.41 7.96l-1.37-1.37c-.4-.4-.92-.59-1.43-.59-.52 0-1.04.2-1.43.59L10.3 9.45l-7.72 7.72c-.78.78-.78 2.05 0 2.83L4 21.41c.39.39.9.59 1.41.59.51 0 1.02-.2 1.41-.59l7.78-7.78 2.81-2.81c.8-.78.8-2.07 0-2.86zM5.41 20L4 18.59l7.72-7.72 1.47 1.35L5.41 20z\"/>\n",
              "  </svg>\n",
              "      </button>\n",
              "      \n",
              "  <style>\n",
              "    .colab-df-container {\n",
              "      display:flex;\n",
              "      flex-wrap:wrap;\n",
              "      gap: 12px;\n",
              "    }\n",
              "\n",
              "    .colab-df-convert {\n",
              "      background-color: #E8F0FE;\n",
              "      border: none;\n",
              "      border-radius: 50%;\n",
              "      cursor: pointer;\n",
              "      display: none;\n",
              "      fill: #1967D2;\n",
              "      height: 32px;\n",
              "      padding: 0 0 0 0;\n",
              "      width: 32px;\n",
              "    }\n",
              "\n",
              "    .colab-df-convert:hover {\n",
              "      background-color: #E2EBFA;\n",
              "      box-shadow: 0px 1px 2px rgba(60, 64, 67, 0.3), 0px 1px 3px 1px rgba(60, 64, 67, 0.15);\n",
              "      fill: #174EA6;\n",
              "    }\n",
              "\n",
              "    [theme=dark] .colab-df-convert {\n",
              "      background-color: #3B4455;\n",
              "      fill: #D2E3FC;\n",
              "    }\n",
              "\n",
              "    [theme=dark] .colab-df-convert:hover {\n",
              "      background-color: #434B5C;\n",
              "      box-shadow: 0px 1px 3px 1px rgba(0, 0, 0, 0.15);\n",
              "      filter: drop-shadow(0px 1px 2px rgba(0, 0, 0, 0.3));\n",
              "      fill: #FFFFFF;\n",
              "    }\n",
              "  </style>\n",
              "\n",
              "      <script>\n",
              "        const buttonEl =\n",
              "          document.querySelector('#df-12441762-be91-488c-ab52-5cd2fd7ffec6 button.colab-df-convert');\n",
              "        buttonEl.style.display =\n",
              "          google.colab.kernel.accessAllowed ? 'block' : 'none';\n",
              "\n",
              "        async function convertToInteractive(key) {\n",
              "          const element = document.querySelector('#df-12441762-be91-488c-ab52-5cd2fd7ffec6');\n",
              "          const dataTable =\n",
              "            await google.colab.kernel.invokeFunction('convertToInteractive',\n",
              "                                                     [key], {});\n",
              "          if (!dataTable) return;\n",
              "\n",
              "          const docLinkHtml = 'Like what you see? Visit the ' +\n",
              "            '<a target=\"_blank\" href=https://colab.research.google.com/notebooks/data_table.ipynb>data table notebook</a>'\n",
              "            + ' to learn more about interactive tables.';\n",
              "          element.innerHTML = '';\n",
              "          dataTable['output_type'] = 'display_data';\n",
              "          await google.colab.output.renderOutput(dataTable, element);\n",
              "          const docLink = document.createElement('div');\n",
              "          docLink.innerHTML = docLinkHtml;\n",
              "          element.appendChild(docLink);\n",
              "        }\n",
              "      </script>\n",
              "    </div>\n",
              "  </div>\n",
              "  "
            ]
          },
          "metadata": {},
          "execution_count": 482
        }
      ]
    },
    {
      "cell_type": "markdown",
      "source": [
        "##**2. Data Analysis and Visualization:**"
      ],
      "metadata": {
        "id": "k8LklG1kSvgI"
      }
    },
    {
      "cell_type": "markdown",
      "source": [
        "Find the descriptive statistics of your data using pandas and use matplotlib or any other library to make\n",
        "various plots to generate insights from dataset."
      ],
      "metadata": {
        "id": "aTARPkbwS0uG"
      }
    },
    {
      "cell_type": "markdown",
      "source": [
        "To generate better insights from the data make visualization and plot of your Independent variable against\n",
        "Dependent variable."
      ],
      "metadata": {
        "id": "QoguSmx6S3oR"
      }
    },
    {
      "cell_type": "code",
      "source": [
        "# Generate descriptive statistics of the DataFrame\n",
        "df.describe()"
      ],
      "metadata": {
        "id": "o8scj8MsTf9A",
        "colab": {
          "base_uri": "https://localhost:8080/",
          "height": 300
        },
        "outputId": "d2b85209-ff5b-4092-a2f7-1142208b55c4"
      },
      "execution_count": 483,
      "outputs": [
        {
          "output_type": "execute_result",
          "data": {
            "text/plain": [
              "               Rank      NA_Sales      EU_Sales      JP_Sales   Other_Sales  \\\n",
              "count  16598.000000  16598.000000  16598.000000  16598.000000  16598.000000   \n",
              "mean    8300.605254      0.264667      0.146652      0.077782      0.048063   \n",
              "std     4791.853933      0.816683      0.505351      0.309291      0.188588   \n",
              "min        1.000000      0.000000      0.000000      0.000000      0.000000   \n",
              "25%     4151.250000      0.000000      0.000000      0.000000      0.000000   \n",
              "50%     8300.500000      0.080000      0.020000      0.000000      0.010000   \n",
              "75%    12449.750000      0.240000      0.110000      0.040000      0.040000   \n",
              "max    16600.000000     41.490000     29.020000     10.220000     10.570000   \n",
              "\n",
              "       Global_Sales  \n",
              "count  16598.000000  \n",
              "mean       0.537441  \n",
              "std        1.555028  \n",
              "min        0.010000  \n",
              "25%        0.060000  \n",
              "50%        0.170000  \n",
              "75%        0.470000  \n",
              "max       82.740000  "
            ],
            "text/html": [
              "\n",
              "  <div id=\"df-7fbed54b-cd68-47b6-a898-cfa95f8e5214\">\n",
              "    <div class=\"colab-df-container\">\n",
              "      <div>\n",
              "<style scoped>\n",
              "    .dataframe tbody tr th:only-of-type {\n",
              "        vertical-align: middle;\n",
              "    }\n",
              "\n",
              "    .dataframe tbody tr th {\n",
              "        vertical-align: top;\n",
              "    }\n",
              "\n",
              "    .dataframe thead th {\n",
              "        text-align: right;\n",
              "    }\n",
              "</style>\n",
              "<table border=\"1\" class=\"dataframe\">\n",
              "  <thead>\n",
              "    <tr style=\"text-align: right;\">\n",
              "      <th></th>\n",
              "      <th>Rank</th>\n",
              "      <th>NA_Sales</th>\n",
              "      <th>EU_Sales</th>\n",
              "      <th>JP_Sales</th>\n",
              "      <th>Other_Sales</th>\n",
              "      <th>Global_Sales</th>\n",
              "    </tr>\n",
              "  </thead>\n",
              "  <tbody>\n",
              "    <tr>\n",
              "      <th>count</th>\n",
              "      <td>16598.000000</td>\n",
              "      <td>16598.000000</td>\n",
              "      <td>16598.000000</td>\n",
              "      <td>16598.000000</td>\n",
              "      <td>16598.000000</td>\n",
              "      <td>16598.000000</td>\n",
              "    </tr>\n",
              "    <tr>\n",
              "      <th>mean</th>\n",
              "      <td>8300.605254</td>\n",
              "      <td>0.264667</td>\n",
              "      <td>0.146652</td>\n",
              "      <td>0.077782</td>\n",
              "      <td>0.048063</td>\n",
              "      <td>0.537441</td>\n",
              "    </tr>\n",
              "    <tr>\n",
              "      <th>std</th>\n",
              "      <td>4791.853933</td>\n",
              "      <td>0.816683</td>\n",
              "      <td>0.505351</td>\n",
              "      <td>0.309291</td>\n",
              "      <td>0.188588</td>\n",
              "      <td>1.555028</td>\n",
              "    </tr>\n",
              "    <tr>\n",
              "      <th>min</th>\n",
              "      <td>1.000000</td>\n",
              "      <td>0.000000</td>\n",
              "      <td>0.000000</td>\n",
              "      <td>0.000000</td>\n",
              "      <td>0.000000</td>\n",
              "      <td>0.010000</td>\n",
              "    </tr>\n",
              "    <tr>\n",
              "      <th>25%</th>\n",
              "      <td>4151.250000</td>\n",
              "      <td>0.000000</td>\n",
              "      <td>0.000000</td>\n",
              "      <td>0.000000</td>\n",
              "      <td>0.000000</td>\n",
              "      <td>0.060000</td>\n",
              "    </tr>\n",
              "    <tr>\n",
              "      <th>50%</th>\n",
              "      <td>8300.500000</td>\n",
              "      <td>0.080000</td>\n",
              "      <td>0.020000</td>\n",
              "      <td>0.000000</td>\n",
              "      <td>0.010000</td>\n",
              "      <td>0.170000</td>\n",
              "    </tr>\n",
              "    <tr>\n",
              "      <th>75%</th>\n",
              "      <td>12449.750000</td>\n",
              "      <td>0.240000</td>\n",
              "      <td>0.110000</td>\n",
              "      <td>0.040000</td>\n",
              "      <td>0.040000</td>\n",
              "      <td>0.470000</td>\n",
              "    </tr>\n",
              "    <tr>\n",
              "      <th>max</th>\n",
              "      <td>16600.000000</td>\n",
              "      <td>41.490000</td>\n",
              "      <td>29.020000</td>\n",
              "      <td>10.220000</td>\n",
              "      <td>10.570000</td>\n",
              "      <td>82.740000</td>\n",
              "    </tr>\n",
              "  </tbody>\n",
              "</table>\n",
              "</div>\n",
              "      <button class=\"colab-df-convert\" onclick=\"convertToInteractive('df-7fbed54b-cd68-47b6-a898-cfa95f8e5214')\"\n",
              "              title=\"Convert this dataframe to an interactive table.\"\n",
              "              style=\"display:none;\">\n",
              "        \n",
              "  <svg xmlns=\"http://www.w3.org/2000/svg\" height=\"24px\"viewBox=\"0 0 24 24\"\n",
              "       width=\"24px\">\n",
              "    <path d=\"M0 0h24v24H0V0z\" fill=\"none\"/>\n",
              "    <path d=\"M18.56 5.44l.94 2.06.94-2.06 2.06-.94-2.06-.94-.94-2.06-.94 2.06-2.06.94zm-11 1L8.5 8.5l.94-2.06 2.06-.94-2.06-.94L8.5 2.5l-.94 2.06-2.06.94zm10 10l.94 2.06.94-2.06 2.06-.94-2.06-.94-.94-2.06-.94 2.06-2.06.94z\"/><path d=\"M17.41 7.96l-1.37-1.37c-.4-.4-.92-.59-1.43-.59-.52 0-1.04.2-1.43.59L10.3 9.45l-7.72 7.72c-.78.78-.78 2.05 0 2.83L4 21.41c.39.39.9.59 1.41.59.51 0 1.02-.2 1.41-.59l7.78-7.78 2.81-2.81c.8-.78.8-2.07 0-2.86zM5.41 20L4 18.59l7.72-7.72 1.47 1.35L5.41 20z\"/>\n",
              "  </svg>\n",
              "      </button>\n",
              "      \n",
              "  <style>\n",
              "    .colab-df-container {\n",
              "      display:flex;\n",
              "      flex-wrap:wrap;\n",
              "      gap: 12px;\n",
              "    }\n",
              "\n",
              "    .colab-df-convert {\n",
              "      background-color: #E8F0FE;\n",
              "      border: none;\n",
              "      border-radius: 50%;\n",
              "      cursor: pointer;\n",
              "      display: none;\n",
              "      fill: #1967D2;\n",
              "      height: 32px;\n",
              "      padding: 0 0 0 0;\n",
              "      width: 32px;\n",
              "    }\n",
              "\n",
              "    .colab-df-convert:hover {\n",
              "      background-color: #E2EBFA;\n",
              "      box-shadow: 0px 1px 2px rgba(60, 64, 67, 0.3), 0px 1px 3px 1px rgba(60, 64, 67, 0.15);\n",
              "      fill: #174EA6;\n",
              "    }\n",
              "\n",
              "    [theme=dark] .colab-df-convert {\n",
              "      background-color: #3B4455;\n",
              "      fill: #D2E3FC;\n",
              "    }\n",
              "\n",
              "    [theme=dark] .colab-df-convert:hover {\n",
              "      background-color: #434B5C;\n",
              "      box-shadow: 0px 1px 3px 1px rgba(0, 0, 0, 0.15);\n",
              "      filter: drop-shadow(0px 1px 2px rgba(0, 0, 0, 0.3));\n",
              "      fill: #FFFFFF;\n",
              "    }\n",
              "  </style>\n",
              "\n",
              "      <script>\n",
              "        const buttonEl =\n",
              "          document.querySelector('#df-7fbed54b-cd68-47b6-a898-cfa95f8e5214 button.colab-df-convert');\n",
              "        buttonEl.style.display =\n",
              "          google.colab.kernel.accessAllowed ? 'block' : 'none';\n",
              "\n",
              "        async function convertToInteractive(key) {\n",
              "          const element = document.querySelector('#df-7fbed54b-cd68-47b6-a898-cfa95f8e5214');\n",
              "          const dataTable =\n",
              "            await google.colab.kernel.invokeFunction('convertToInteractive',\n",
              "                                                     [key], {});\n",
              "          if (!dataTable) return;\n",
              "\n",
              "          const docLinkHtml = 'Like what you see? Visit the ' +\n",
              "            '<a target=\"_blank\" href=https://colab.research.google.com/notebooks/data_table.ipynb>data table notebook</a>'\n",
              "            + ' to learn more about interactive tables.';\n",
              "          element.innerHTML = '';\n",
              "          dataTable['output_type'] = 'display_data';\n",
              "          await google.colab.output.renderOutput(dataTable, element);\n",
              "          const docLink = document.createElement('div');\n",
              "          docLink.innerHTML = docLinkHtml;\n",
              "          element.appendChild(docLink);\n",
              "        }\n",
              "      </script>\n",
              "    </div>\n",
              "  </div>\n",
              "  "
            ]
          },
          "metadata": {},
          "execution_count": 483
        }
      ]
    },
    {
      "cell_type": "code",
      "source": [
        "# Create a 3D figure object\n",
        "figure = plt.figure()\n",
        "# Add a 3D axis to the figure\n",
        "axis = Axes3D(figure)\n",
        "# Create a scatter plot\n",
        "axis.scatter(df['Rank'], df['JP_Sales'], df['Global_Sales'], color='#FF00FF')\n",
        "# Display the plot\n",
        "plt.show()"
      ],
      "metadata": {
        "colab": {
          "base_uri": "https://localhost:8080/",
          "height": 319
        },
        "id": "ZtzqCAxWhF_L",
        "outputId": "bba5ae60-e0c2-4343-fc12-923e49c849d7"
      },
      "execution_count": 484,
      "outputs": [
        {
          "output_type": "display_data",
          "data": {
            "text/plain": [
              "<Figure size 432x288 with 1 Axes>"
            ],
            "image/png": "[encoded data removed]"
          },
          "metadata": {
            "needs_background": "light"
          }
        }
      ]
    },
    {
      "cell_type": "code",
      "source": [
        "# Create a 3D figure object\n",
        "figure = plt.figure()\n",
        "# Add a 3D axis to the figure\n",
        "axis = Axes3D(figure)\n",
        "# Create a scatter plot\n",
        "axis.scatter(df['Rank'], df['EU_Sales'], df['Global_Sales'], color='#FF00FF')\n",
        "# Display the plot\n",
        "plt.show()"
      ],
      "metadata": {
        "colab": {
          "base_uri": "https://localhost:8080/",
          "height": 319
        },
        "id": "pa861iSowQzB",
        "outputId": "7385eeb9-63b6-4b11-c9e1-b0f4a3ec5052"
      },
      "execution_count": 485,
      "outputs": [
        {
          "output_type": "display_data",
          "data": {
            "text/plain": [
              "<Figure size 432x288 with 1 Axes>"
            ],
            "image/png": "[encoded data removed]"
          },
          "metadata": {
            "needs_background": "light"
          }
        }
      ]
    },
    {
      "cell_type": "code",
      "source": [
        "# Create a 3D figure object\n",
        "figure = plt.figure()\n",
        "# Add a 3D axis to the figure\n",
        "axis = Axes3D(figure)\n",
        "# Create a scatter plot\n",
        "axis.scatter(df['Rank'], df['NA_Sales'], df['Global_Sales'], color='#FF00FF')\n",
        "# Display the plot\n",
        "plt.show()"
      ],
      "metadata": {
        "colab": {
          "base_uri": "https://localhost:8080/",
          "height": 319
        },
        "id": "NhzROab9wZ2P",
        "outputId": "5a091dfe-f10b-407b-dc23-5b72a31a0a07"
      },
      "execution_count": 486,
      "outputs": [
        {
          "output_type": "display_data",
          "data": {
            "text/plain": [
              "<Figure size 432x288 with 1 Axes>"
            ],
            "image/png": "[encoded data removed]"
          },
          "metadata": {
            "needs_background": "light"
          }
        }
      ]
    },
    {
      "cell_type": "code",
      "source": [
        "# Create a 3D figure object\n",
        "figure = plt.figure()\n",
        "# Add a 3D axis to the figure\n",
        "axis = Axes3D(figure)\n",
        "# Create a scatter plot\n",
        "axis.scatter(df['Rank'], df['Other_Sales'], df['Global_Sales'], color='#FF00FF')\n",
        "# Display the plot\n",
        "plt.show()"
      ],
      "metadata": {
        "colab": {
          "base_uri": "https://localhost:8080/",
          "height": 319
        },
        "id": "jikDeYAxweD_",
        "outputId": "e9d38ad8-5301-4ac1-e3a7-7f9dbc53d3c6"
      },
      "execution_count": 487,
      "outputs": [
        {
          "output_type": "display_data",
          "data": {
            "text/plain": [
              "<Figure size 432x288 with 1 Axes>"
            ],
            "image/png": "[encoded data removed]"
          },
          "metadata": {
            "needs_background": "light"
          }
        }
      ]
    },
    {
      "cell_type": "code",
      "source": [
        "# List of columns to be created\n",
        "columns = ['NA_Sales', 'EU_Sales', 'JP_Sales', 'Other_Sales']\n",
        "# Loop through the columns list and plot a histogram for each column\n",
        "for column in columns:\n",
        "    plt.figure()\n",
        "    df[column].hist(bins=20)\n",
        "    plt.xlabel(column)\n",
        "    plt.ylabel('Frequency')\n",
        "# Plot a histogram for the Global_Sales column\n",
        "df['Global_Sales'].hist(bins=20)    \n",
        "# Label x and y respectively\n",
        "plt.xlabel('Global Sales')\n",
        "plt.ylabel('Frequency')\n",
        "# Show the plot\n",
        "plt.show()"
      ],
      "metadata": {
        "colab": {
          "base_uri": "https://localhost:8080/",
          "height": 1000
        },
        "id": "uA2tyN0KmdN0",
        "outputId": "f22f2f0c-1b60-4bd5-d428-6260180faf08"
      },
      "execution_count": 488,
      "outputs": [
        {
          "output_type": "display_data",
          "data": {
            "text/plain": [
              "<Figure size 432x288 with 1 Axes>"
            ],
            "image/png": "[encoded data removed]"
          },
          "metadata": {
            "needs_background": "light"
          }
        },
        {
          "output_type": "display_data",
          "data": {
            "text/plain": [
              "<Figure size 432x288 with 1 Axes>"
            ],
            "image/png": "[encoded data removed]"
          },
          "metadata": {
            "needs_background": "light"
          }
        },
        {
          "output_type": "display_data",
          "data": {
            "text/plain": [
              "<Figure size 432x288 with 1 Axes>"
            ],
            "image/png": "[encoded data removed]"
          },
          "metadata": {
            "needs_background": "light"
          }
        },
        {
          "output_type": "display_data",
          "data": {
            "text/plain": [
              "<Figure size 432x288 with 1 Axes>"
            ],
            "image/png": "[encoded data removed]"
          },
          "metadata": {
            "needs_background": "light"
          }
        }
      ]
    },
    {
      "cell_type": "markdown",
      "source": [
        "##**3. Build Primary Model[Multiple Linear Regression]:**"
      ],
      "metadata": {
        "id": "Q1-T4vvrS6J4"
      }
    },
    {
      "cell_type": "code",
      "source": [
        "# Determining whether the dataset has any missing values\n",
        "df.isnull()"
      ],
      "metadata": {
        "colab": {
          "base_uri": "https://localhost:8080/",
          "height": 424
        },
        "id": "ciFkkhv0JiLx",
        "outputId": "b124312b-dcf3-4f49-c537-953f55d49981"
      },
      "execution_count": 489,
      "outputs": [
        {
          "output_type": "execute_result",
          "data": {
            "text/plain": [
              "        Rank   Name  Platform  Genre  Publisher  NA_Sales  EU_Sales  JP_Sales  \\\n",
              "0      False  False     False  False      False     False     False     False   \n",
              "1      False  False     False  False      False     False     False     False   \n",
              "2      False  False     False  False      False     False     False     False   \n",
              "3      False  False     False  False      False     False     False     False   \n",
              "4      False  False     False  False      False     False     False     False   \n",
              "...      ...    ...       ...    ...        ...       ...       ...       ...   \n",
              "16593  False  False     False  False      False     False     False     False   \n",
              "16594  False  False     False  False      False     False     False     False   \n",
              "16595  False  False     False  False      False     False     False     False   \n",
              "16596  False  False     False  False      False     False     False     False   \n",
              "16597  False  False     False  False      False     False     False     False   \n",
              "\n",
              "       Other_Sales  Global_Sales  \n",
              "0            False         False  \n",
              "1            False         False  \n",
              "2            False         False  \n",
              "3            False         False  \n",
              "4            False         False  \n",
              "...            ...           ...  \n",
              "16593        False         False  \n",
              "16594        False         False  \n",
              "16595        False         False  \n",
              "16596        False         False  \n",
              "16597        False         False  \n",
              "\n",
              "[16598 rows x 10 columns]"
            ],
            "text/html": [
              "\n",
              "  <div id=\"df-67ac538d-1c11-4e78-9ce3-7dba3c341c90\">\n",
              "    <div class=\"colab-df-container\">\n",
              "      <div>\n",
              "<style scoped>\n",
              "    .dataframe tbody tr th:only-of-type {\n",
              "        vertical-align: middle;\n",
              "    }\n",
              "\n",
              "    .dataframe tbody tr th {\n",
              "        vertical-align: top;\n",
              "    }\n",
              "\n",
              "    .dataframe thead th {\n",
              "        text-align: right;\n",
              "    }\n",
              "</style>\n",
              "<table border=\"1\" class=\"dataframe\">\n",
              "  <thead>\n",
              "    <tr style=\"text-align: right;\">\n",
              "      <th></th>\n",
              "      <th>Rank</th>\n",
              "      <th>Name</th>\n",
              "      <th>Platform</th>\n",
              "      <th>Genre</th>\n",
              "      <th>Publisher</th>\n",
              "      <th>NA_Sales</th>\n",
              "      <th>EU_Sales</th>\n",
              "      <th>JP_Sales</th>\n",
              "      <th>Other_Sales</th>\n",
              "      <th>Global_Sales</th>\n",
              "    </tr>\n",
              "  </thead>\n",
              "  <tbody>\n",
              "    <tr>\n",
              "      <th>0</th>\n",
              "      <td>False</td>\n",
              "      <td>False</td>\n",
              "      <td>False</td>\n",
              "      <td>False</td>\n",
              "      <td>False</td>\n",
              "      <td>False</td>\n",
              "      <td>False</td>\n",
              "      <td>False</td>\n",
              "      <td>False</td>\n",
              "      <td>False</td>\n",
              "    </tr>\n",
              "    <tr>\n",
              "      <th>1</th>\n",
              "      <td>False</td>\n",
              "      <td>False</td>\n",
              "      <td>False</td>\n",
              "      <td>False</td>\n",
              "      <td>False</td>\n",
              "      <td>False</td>\n",
              "      <td>False</td>\n",
              "      <td>False</td>\n",
              "      <td>False</td>\n",
              "      <td>False</td>\n",
              "    </tr>\n",
              "    <tr>\n",
              "      <th>2</th>\n",
              "      <td>False</td>\n",
              "      <td>False</td>\n",
              "      <td>False</td>\n",
              "      <td>False</td>\n",
              "      <td>False</td>\n",
              "      <td>False</td>\n",
              "      <td>False</td>\n",
              "      <td>False</td>\n",
              "      <td>False</td>\n",
              "      <td>False</td>\n",
              "    </tr>\n",
              "    <tr>\n",
              "      <th>3</th>\n",
              "      <td>False</td>\n",
              "      <td>False</td>\n",
              "      <td>False</td>\n",
              "      <td>False</td>\n",
              "      <td>False</td>\n",
              "      <td>False</td>\n",
              "      <td>False</td>\n",
              "      <td>False</td>\n",
              "      <td>False</td>\n",
              "      <td>False</td>\n",
              "    </tr>\n",
              "    <tr>\n",
              "      <th>4</th>\n",
              "      <td>False</td>\n",
              "      <td>False</td>\n",
              "      <td>False</td>\n",
              "      <td>False</td>\n",
              "      <td>False</td>\n",
              "      <td>False</td>\n",
              "      <td>False</td>\n",
              "      <td>False</td>\n",
              "      <td>False</td>\n",
              "      <td>False</td>\n",
              "    </tr>\n",
              "    <tr>\n",
              "      <th>...</th>\n",
              "      <td>...</td>\n",
              "      <td>...</td>\n",
              "      <td>...</td>\n",
              "      <td>...</td>\n",
              "      <td>...</td>\n",
              "      <td>...</td>\n",
              "      <td>...</td>\n",
              "      <td>...</td>\n",
              "      <td>...</td>\n",
              "      <td>...</td>\n",
              "    </tr>\n",
              "    <tr>\n",
              "      <th>16593</th>\n",
              "      <td>False</td>\n",
              "      <td>False</td>\n",
              "      <td>False</td>\n",
              "      <td>False</td>\n",
              "      <td>False</td>\n",
              "      <td>False</td>\n",
              "      <td>False</td>\n",
              "      <td>False</td>\n",
              "      <td>False</td>\n",
              "      <td>False</td>\n",
              "    </tr>\n",
              "    <tr>\n",
              "      <th>16594</th>\n",
              "      <td>False</td>\n",
              "      <td>False</td>\n",
              "      <td>False</td>\n",
              "      <td>False</td>\n",
              "      <td>False</td>\n",
              "      <td>False</td>\n",
              "      <td>False</td>\n",
              "      <td>False</td>\n",
              "      <td>False</td>\n",
              "      <td>False</td>\n",
              "    </tr>\n",
              "    <tr>\n",
              "      <th>16595</th>\n",
              "      <td>False</td>\n",
              "      <td>False</td>\n",
              "      <td>False</td>\n",
              "      <td>False</td>\n",
              "      <td>False</td>\n",
              "      <td>False</td>\n",
              "      <td>False</td>\n",
              "      <td>False</td>\n",
              "      <td>False</td>\n",
              "      <td>False</td>\n",
              "    </tr>\n",
              "    <tr>\n",
              "      <th>16596</th>\n",
              "      <td>False</td>\n",
              "      <td>False</td>\n",
              "      <td>False</td>\n",
              "      <td>False</td>\n",
              "      <td>False</td>\n",
              "      <td>False</td>\n",
              "      <td>False</td>\n",
              "      <td>False</td>\n",
              "      <td>False</td>\n",
              "      <td>False</td>\n",
              "    </tr>\n",
              "    <tr>\n",
              "      <th>16597</th>\n",
              "      <td>False</td>\n",
              "      <td>False</td>\n",
              "      <td>False</td>\n",
              "      <td>False</td>\n",
              "      <td>False</td>\n",
              "      <td>False</td>\n",
              "      <td>False</td>\n",
              "      <td>False</td>\n",
              "      <td>False</td>\n",
              "      <td>False</td>\n",
              "    </tr>\n",
              "  </tbody>\n",
              "</table>\n",
              "<p>16598 rows × 10 columns</p>\n",
              "</div>\n",
              "      <button class=\"colab-df-convert\" onclick=\"convertToInteractive('df-67ac538d-1c11-4e78-9ce3-7dba3c341c90')\"\n",
              "              title=\"Convert this dataframe to an interactive table.\"\n",
              "              style=\"display:none;\">\n",
              "        \n",
              "  <svg xmlns=\"http://www.w3.org/2000/svg\" height=\"24px\"viewBox=\"0 0 24 24\"\n",
              "       width=\"24px\">\n",
              "    <path d=\"M0 0h24v24H0V0z\" fill=\"none\"/>\n",
              "    <path d=\"M18.56 5.44l.94 2.06.94-2.06 2.06-.94-2.06-.94-.94-2.06-.94 2.06-2.06.94zm-11 1L8.5 8.5l.94-2.06 2.06-.94-2.06-.94L8.5 2.5l-.94 2.06-2.06.94zm10 10l.94 2.06.94-2.06 2.06-.94-2.06-.94-.94-2.06-.94 2.06-2.06.94z\"/><path d=\"M17.41 7.96l-1.37-1.37c-.4-.4-.92-.59-1.43-.59-.52 0-1.04.2-1.43.59L10.3 9.45l-7.72 7.72c-.78.78-.78 2.05 0 2.83L4 21.41c.39.39.9.59 1.41.59.51 0 1.02-.2 1.41-.59l7.78-7.78 2.81-2.81c.8-.78.8-2.07 0-2.86zM5.41 20L4 18.59l7.72-7.72 1.47 1.35L5.41 20z\"/>\n",
              "  </svg>\n",
              "      </button>\n",
              "      \n",
              "  <style>\n",
              "    .colab-df-container {\n",
              "      display:flex;\n",
              "      flex-wrap:wrap;\n",
              "      gap: 12px;\n",
              "    }\n",
              "\n",
              "    .colab-df-convert {\n",
              "      background-color: #E8F0FE;\n",
              "      border: none;\n",
              "      border-radius: 50%;\n",
              "      cursor: pointer;\n",
              "      display: none;\n",
              "      fill: #1967D2;\n",
              "      height: 32px;\n",
              "      padding: 0 0 0 0;\n",
              "      width: 32px;\n",
              "    }\n",
              "\n",
              "    .colab-df-convert:hover {\n",
              "      background-color: #E2EBFA;\n",
              "      box-shadow: 0px 1px 2px rgba(60, 64, 67, 0.3), 0px 1px 3px 1px rgba(60, 64, 67, 0.15);\n",
              "      fill: #174EA6;\n",
              "    }\n",
              "\n",
              "    [theme=dark] .colab-df-convert {\n",
              "      background-color: #3B4455;\n",
              "      fill: #D2E3FC;\n",
              "    }\n",
              "\n",
              "    [theme=dark] .colab-df-convert:hover {\n",
              "      background-color: #434B5C;\n",
              "      box-shadow: 0px 1px 3px 1px rgba(0, 0, 0, 0.15);\n",
              "      filter: drop-shadow(0px 1px 2px rgba(0, 0, 0, 0.3));\n",
              "      fill: #FFFFFF;\n",
              "    }\n",
              "  </style>\n",
              "\n",
              "      <script>\n",
              "        const buttonEl =\n",
              "          document.querySelector('#df-67ac538d-1c11-4e78-9ce3-7dba3c341c90 button.colab-df-convert');\n",
              "        buttonEl.style.display =\n",
              "          google.colab.kernel.accessAllowed ? 'block' : 'none';\n",
              "\n",
              "        async function convertToInteractive(key) {\n",
              "          const element = document.querySelector('#df-67ac538d-1c11-4e78-9ce3-7dba3c341c90');\n",
              "          const dataTable =\n",
              "            await google.colab.kernel.invokeFunction('convertToInteractive',\n",
              "                                                     [key], {});\n",
              "          if (!dataTable) return;\n",
              "\n",
              "          const docLinkHtml = 'Like what you see? Visit the ' +\n",
              "            '<a target=\"_blank\" href=https://colab.research.google.com/notebooks/data_table.ipynb>data table notebook</a>'\n",
              "            + ' to learn more about interactive tables.';\n",
              "          element.innerHTML = '';\n",
              "          dataTable['output_type'] = 'display_data';\n",
              "          await google.colab.output.renderOutput(dataTable, element);\n",
              "          const docLink = document.createElement('div');\n",
              "          docLink.innerHTML = docLinkHtml;\n",
              "          element.appendChild(docLink);\n",
              "        }\n",
              "      </script>\n",
              "    </div>\n",
              "  </div>\n",
              "  "
            ]
          },
          "metadata": {},
          "execution_count": 489
        }
      ]
    },
    {
      "cell_type": "code",
      "source": [
        "# Create an instance of the LabelEncoder class\n",
        "number = LabelEncoder()\n",
        "# Convert columns into numeric values to perform machine learning as string or object values can't be fed\n",
        "df['Platform'] = number.fit_transform(df['Platform'].astype('str'))\n",
        "df['Genre'] = number.fit_transform(df['Genre'].astype('str'))\n",
        "df['Publisher'] = number.fit_transform(df['Publisher'].astype('str'))\n",
        "# Show the dataframe\n",
        "df"
      ],
      "metadata": {
        "colab": {
          "base_uri": "https://localhost:8080/",
          "height": 424
        },
        "id": "dwtXPRXPLs29",
        "outputId": "906991ad-72b8-410c-9e30-4ff0775c7686"
      },
      "execution_count": 490,
      "outputs": [
        {
          "output_type": "execute_result",
          "data": {
            "text/plain": [
              "        Rank                                              Name  Platform  \\\n",
              "0          1                                        Wii Sports        26   \n",
              "1          2                                 Super Mario Bros.        11   \n",
              "2          3                                    Mario Kart Wii        26   \n",
              "3          4                                 Wii Sports Resort        26   \n",
              "4          5                          Pokemon Red/Pokemon Blue         5   \n",
              "...      ...                                               ...       ...   \n",
              "16593  16596                Woody Woodpecker in Crazy Castle 5         6   \n",
              "16594  16597                     Men in Black II: Alien Escape         7   \n",
              "16595  16598  SCORE International Baja 1000: The Official Game        16   \n",
              "16596  16599                                        Know How 2         4   \n",
              "16597  16600                                  Spirits & Spells         6   \n",
              "\n",
              "       Genre  Publisher  NA_Sales  EU_Sales  JP_Sales  Other_Sales  \\\n",
              "0         10        359     41.49     29.02      3.77         8.46   \n",
              "1          4        359     29.08      3.58      6.81         0.77   \n",
              "2          6        359     15.85     12.88      3.79         3.31   \n",
              "3         10        359     15.75     11.01      3.28         2.96   \n",
              "4          7        359     11.27      8.89     10.22         1.00   \n",
              "...      ...        ...       ...       ...       ...          ...   \n",
              "16593      4        269      0.01      0.00      0.00         0.00   \n",
              "16594      8        241      0.01      0.00      0.00         0.00   \n",
              "16595      6         21      0.00      0.00      0.00         0.00   \n",
              "16596      5          8      0.00      0.01      0.00         0.00   \n",
              "16597      4        546      0.01      0.00      0.00         0.00   \n",
              "\n",
              "       Global_Sales  \n",
              "0             82.74  \n",
              "1             40.24  \n",
              "2             35.82  \n",
              "3             33.00  \n",
              "4             31.37  \n",
              "...             ...  \n",
              "16593          0.01  \n",
              "16594          0.01  \n",
              "16595          0.01  \n",
              "16596          0.01  \n",
              "16597          0.01  \n",
              "\n",
              "[16598 rows x 10 columns]"
            ],
            "text/html": [
              "\n",
              "  <div id=\"df-c974f219-36ea-49f5-a345-04e3ff0d972b\">\n",
              "    <div class=\"colab-df-container\">\n",
              "      <div>\n",
              "<style scoped>\n",
              "    .dataframe tbody tr th:only-of-type {\n",
              "        vertical-align: middle;\n",
              "    }\n",
              "\n",
              "    .dataframe tbody tr th {\n",
              "        vertical-align: top;\n",
              "    }\n",
              "\n",
              "    .dataframe thead th {\n",
              "        text-align: right;\n",
              "    }\n",
              "</style>\n",
              "<table border=\"1\" class=\"dataframe\">\n",
              "  <thead>\n",
              "    <tr style=\"text-align: right;\">\n",
              "      <th></th>\n",
              "      <th>Rank</th>\n",
              "      <th>Name</th>\n",
              "      <th>Platform</th>\n",
              "      <th>Genre</th>\n",
              "      <th>Publisher</th>\n",
              "      <th>NA_Sales</th>\n",
              "      <th>EU_Sales</th>\n",
              "      <th>JP_Sales</th>\n",
              "      <th>Other_Sales</th>\n",
              "      <th>Global_Sales</th>\n",
              "    </tr>\n",
              "  </thead>\n",
              "  <tbody>\n",
              "    <tr>\n",
              "      <th>0</th>\n",
              "      <td>1</td>\n",
              "      <td>Wii Sports</td>\n",
              "      <td>26</td>\n",
              "      <td>10</td>\n",
              "      <td>359</td>\n",
              "      <td>41.49</td>\n",
              "      <td>29.02</td>\n",
              "      <td>3.77</td>\n",
              "      <td>8.46</td>\n",
              "      <td>82.74</td>\n",
              "    </tr>\n",
              "    <tr>\n",
              "      <th>1</th>\n",
              "      <td>2</td>\n",
              "      <td>Super Mario Bros.</td>\n",
              "      <td>11</td>\n",
              "      <td>4</td>\n",
              "      <td>359</td>\n",
              "      <td>29.08</td>\n",
              "      <td>3.58</td>\n",
              "      <td>6.81</td>\n",
              "      <td>0.77</td>\n",
              "      <td>40.24</td>\n",
              "    </tr>\n",
              "    <tr>\n",
              "      <th>2</th>\n",
              "      <td>3</td>\n",
              "      <td>Mario Kart Wii</td>\n",
              "      <td>26</td>\n",
              "      <td>6</td>\n",
              "      <td>359</td>\n",
              "      <td>15.85</td>\n",
              "      <td>12.88</td>\n",
              "      <td>3.79</td>\n",
              "      <td>3.31</td>\n",
              "      <td>35.82</td>\n",
              "    </tr>\n",
              "    <tr>\n",
              "      <th>3</th>\n",
              "      <td>4</td>\n",
              "      <td>Wii Sports Resort</td>\n",
              "      <td>26</td>\n",
              "      <td>10</td>\n",
              "      <td>359</td>\n",
              "      <td>15.75</td>\n",
              "      <td>11.01</td>\n",
              "      <td>3.28</td>\n",
              "      <td>2.96</td>\n",
              "      <td>33.00</td>\n",
              "    </tr>\n",
              "    <tr>\n",
              "      <th>4</th>\n",
              "      <td>5</td>\n",
              "      <td>Pokemon Red/Pokemon Blue</td>\n",
              "      <td>5</td>\n",
              "      <td>7</td>\n",
              "      <td>359</td>\n",
              "      <td>11.27</td>\n",
              "      <td>8.89</td>\n",
              "      <td>10.22</td>\n",
              "      <td>1.00</td>\n",
              "      <td>31.37</td>\n",
              "    </tr>\n",
              "    <tr>\n",
              "      <th>...</th>\n",
              "      <td>...</td>\n",
              "      <td>...</td>\n",
              "      <td>...</td>\n",
              "      <td>...</td>\n",
              "      <td>...</td>\n",
              "      <td>...</td>\n",
              "      <td>...</td>\n",
              "      <td>...</td>\n",
              "      <td>...</td>\n",
              "      <td>...</td>\n",
              "    </tr>\n",
              "    <tr>\n",
              "      <th>16593</th>\n",
              "      <td>16596</td>\n",
              "      <td>Woody Woodpecker in Crazy Castle 5</td>\n",
              "      <td>6</td>\n",
              "      <td>4</td>\n",
              "      <td>269</td>\n",
              "      <td>0.01</td>\n",
              "      <td>0.00</td>\n",
              "      <td>0.00</td>\n",
              "      <td>0.00</td>\n",
              "      <td>0.01</td>\n",
              "    </tr>\n",
              "    <tr>\n",
              "      <th>16594</th>\n",
              "      <td>16597</td>\n",
              "      <td>Men in Black II: Alien Escape</td>\n",
              "      <td>7</td>\n",
              "      <td>8</td>\n",
              "      <td>241</td>\n",
              "      <td>0.01</td>\n",
              "      <td>0.00</td>\n",
              "      <td>0.00</td>\n",
              "      <td>0.00</td>\n",
              "      <td>0.01</td>\n",
              "    </tr>\n",
              "    <tr>\n",
              "      <th>16595</th>\n",
              "      <td>16598</td>\n",
              "      <td>SCORE International Baja 1000: The Official Game</td>\n",
              "      <td>16</td>\n",
              "      <td>6</td>\n",
              "      <td>21</td>\n",
              "      <td>0.00</td>\n",
              "      <td>0.00</td>\n",
              "      <td>0.00</td>\n",
              "      <td>0.00</td>\n",
              "      <td>0.01</td>\n",
              "    </tr>\n",
              "    <tr>\n",
              "      <th>16596</th>\n",
              "      <td>16599</td>\n",
              "      <td>Know How 2</td>\n",
              "      <td>4</td>\n",
              "      <td>5</td>\n",
              "      <td>8</td>\n",
              "      <td>0.00</td>\n",
              "      <td>0.01</td>\n",
              "      <td>0.00</td>\n",
              "      <td>0.00</td>\n",
              "      <td>0.01</td>\n",
              "    </tr>\n",
              "    <tr>\n",
              "      <th>16597</th>\n",
              "      <td>16600</td>\n",
              "      <td>Spirits &amp; Spells</td>\n",
              "      <td>6</td>\n",
              "      <td>4</td>\n",
              "      <td>546</td>\n",
              "      <td>0.01</td>\n",
              "      <td>0.00</td>\n",
              "      <td>0.00</td>\n",
              "      <td>0.00</td>\n",
              "      <td>0.01</td>\n",
              "    </tr>\n",
              "  </tbody>\n",
              "</table>\n",
              "<p>16598 rows × 10 columns</p>\n",
              "</div>\n",
              "      <button class=\"colab-df-convert\" onclick=\"convertToInteractive('df-c974f219-36ea-49f5-a345-04e3ff0d972b')\"\n",
              "              title=\"Convert this dataframe to an interactive table.\"\n",
              "              style=\"display:none;\">\n",
              "        \n",
              "  <svg xmlns=\"http://www.w3.org/2000/svg\" height=\"24px\"viewBox=\"0 0 24 24\"\n",
              "       width=\"24px\">\n",
              "    <path d=\"M0 0h24v24H0V0z\" fill=\"none\"/>\n",
              "    <path d=\"M18.56 5.44l.94 2.06.94-2.06 2.06-.94-2.06-.94-.94-2.06-.94 2.06-2.06.94zm-11 1L8.5 8.5l.94-2.06 2.06-.94-2.06-.94L8.5 2.5l-.94 2.06-2.06.94zm10 10l.94 2.06.94-2.06 2.06-.94-2.06-.94-.94-2.06-.94 2.06-2.06.94z\"/><path d=\"M17.41 7.96l-1.37-1.37c-.4-.4-.92-.59-1.43-.59-.52 0-1.04.2-1.43.59L10.3 9.45l-7.72 7.72c-.78.78-.78 2.05 0 2.83L4 21.41c.39.39.9.59 1.41.59.51 0 1.02-.2 1.41-.59l7.78-7.78 2.81-2.81c.8-.78.8-2.07 0-2.86zM5.41 20L4 18.59l7.72-7.72 1.47 1.35L5.41 20z\"/>\n",
              "  </svg>\n",
              "      </button>\n",
              "      \n",
              "  <style>\n",
              "    .colab-df-container {\n",
              "      display:flex;\n",
              "      flex-wrap:wrap;\n",
              "      gap: 12px;\n",
              "    }\n",
              "\n",
              "    .colab-df-convert {\n",
              "      background-color: #E8F0FE;\n",
              "      border: none;\n",
              "      border-radius: 50%;\n",
              "      cursor: pointer;\n",
              "      display: none;\n",
              "      fill: #1967D2;\n",
              "      height: 32px;\n",
              "      padding: 0 0 0 0;\n",
              "      width: 32px;\n",
              "    }\n",
              "\n",
              "    .colab-df-convert:hover {\n",
              "      background-color: #E2EBFA;\n",
              "      box-shadow: 0px 1px 2px rgba(60, 64, 67, 0.3), 0px 1px 3px 1px rgba(60, 64, 67, 0.15);\n",
              "      fill: #174EA6;\n",
              "    }\n",
              "\n",
              "    [theme=dark] .colab-df-convert {\n",
              "      background-color: #3B4455;\n",
              "      fill: #D2E3FC;\n",
              "    }\n",
              "\n",
              "    [theme=dark] .colab-df-convert:hover {\n",
              "      background-color: #434B5C;\n",
              "      box-shadow: 0px 1px 3px 1px rgba(0, 0, 0, 0.15);\n",
              "      filter: drop-shadow(0px 1px 2px rgba(0, 0, 0, 0.3));\n",
              "      fill: #FFFFFF;\n",
              "    }\n",
              "  </style>\n",
              "\n",
              "      <script>\n",
              "        const buttonEl =\n",
              "          document.querySelector('#df-c974f219-36ea-49f5-a345-04e3ff0d972b button.colab-df-convert');\n",
              "        buttonEl.style.display =\n",
              "          google.colab.kernel.accessAllowed ? 'block' : 'none';\n",
              "\n",
              "        async function convertToInteractive(key) {\n",
              "          const element = document.querySelector('#df-c974f219-36ea-49f5-a345-04e3ff0d972b');\n",
              "          const dataTable =\n",
              "            await google.colab.kernel.invokeFunction('convertToInteractive',\n",
              "                                                     [key], {});\n",
              "          if (!dataTable) return;\n",
              "\n",
              "          const docLinkHtml = 'Like what you see? Visit the ' +\n",
              "            '<a target=\"_blank\" href=https://colab.research.google.com/notebooks/data_table.ipynb>data table notebook</a>'\n",
              "            + ' to learn more about interactive tables.';\n",
              "          element.innerHTML = '';\n",
              "          dataTable['output_type'] = 'display_data';\n",
              "          await google.colab.output.renderOutput(dataTable, element);\n",
              "          const docLink = document.createElement('div');\n",
              "          docLink.innerHTML = docLinkHtml;\n",
              "          element.appendChild(docLink);\n",
              "        }\n",
              "      </script>\n",
              "    </div>\n",
              "  </div>\n",
              "  "
            ]
          },
          "metadata": {},
          "execution_count": 490
        }
      ]
    },
    {
      "cell_type": "markdown",
      "source": [
        "Once you have cleaned, transformed and Visualize your data build Multiple Linear Regression Model from\n",
        "Scratch."
      ],
      "metadata": {
        "id": "TpOsEeLNS-Fu"
      }
    },
    {
      "cell_type": "markdown",
      "source": [
        "### Storing the arrays in the Matrix Form:\n",
        "Implement Following Equations:\n",
        "\n",
        "\\begin{align}\n",
        "        \\mathbf{Y} = \\theta^T X + \\theta_0\n",
        "    \\end{align}\n",
        "In Machine Learning parameters $\\theta$ are also called weights, so from this step onwards we represent $\\theta$ as $\\textbf{W}$.\n",
        "\n",
        "Here-Now:\n",
        "\\begin{align}\n",
        "        \\mathbf{Y} = W^T X + W_0\n",
        "    \\end{align}\n",
        "\n",
        "\\begin{align}\n",
        "        \\mathbf{W} = [\\theta_o, \\theta_1, ...., \\theta_n]^T\n",
        "    \\end{align}\n",
        "\\begin{align}\n",
        "        \\mathbf{X} = [x_o, x_1, ...., x_n]^T\n",
        "    \\end{align}"
      ],
      "metadata": {
        "id": "O8jlJ1g0xdUm"
      }
    },
    {
      "cell_type": "code",
      "source": [
        "# Create an instance of StandardScaler\n",
        "scaler = StandardScaler()\n",
        "# Scale the columns of the dataframe\n",
        "df[['Rank', 'NA_Sales', 'EU_Sales', 'JP_Sales', 'Other_Sales']] = scaler.fit_transform(df[['Rank', 'NA_Sales', 'EU_Sales', 'JP_Sales', 'Other_Sales']])\n",
        "# Arrays being stored as a matrix\n",
        "X = np.array(df[['Platform','Genre', 'NA_Sales', 'EU_Sales', 'Publisher', 'Other_Sales']])\n",
        "Y = np.array(df['Global_Sales'])\n",
        "# Using Lasso Regression with Regularization\n",
        "reg = Lasso(alpha=0.1)\n",
        "reg.fit(X, Y)\n",
        "# Utilizing the model to predict the values of Y\n",
        "Y_pred = reg.predict(X)\n",
        "# Model Evaluation - RMSE\n",
        "rmse = np.sqrt(mean_squared_error(Y, Y_pred))\n",
        "print(\"Root Mean Squared Error:\", rmse)\n",
        "# Model Evaluation - R2 Score\n",
        "r2 = r2_score(Y, Y_pred)\n",
        "print(\"R Squared Error:\", r2)"
      ],
      "metadata": {
        "id": "42_VtADdTgbX",
        "colab": {
          "base_uri": "https://localhost:8080/"
        },
        "outputId": "d4331707-23e0-4767-b8b0-ab9244ad8c32"
      },
      "execution_count": 491,
      "outputs": [
        {
          "output_type": "stream",
          "name": "stdout",
          "text": [
            "Root Mean Squared Error: 0.2925894665254572\n",
            "R Squared Error: 0.9645947920391902\n"
          ]
        }
      ]
    },
    {
      "cell_type": "markdown",
      "source": [
        "## Step-2: Implement a Error/Cost Function.\n",
        "\n",
        "We will use the Cost function: Mean Square Error i.e.\n",
        "\\begin{align}\n",
        "        \\mathbf{J(\\theta)}  = \\frac{1}{2m} \\sum_{i=1}^m(y_{pred} - y_i)^2\n",
        "    \\end{align}\n",
        "\n",
        "Further Simplifications:\n",
        "\n",
        "\\begin{align}\n",
        "        \\mathbf{J(\\theta)}  = \\frac{1}{2m} \\sum_{i=1}^m(h_\\theta(x_i) - y_i)^2\n",
        "    \\end{align}\n",
        "Here:\n",
        "\\begin{align}\n",
        "  h_\\theta = \\theta_1*x \n",
        "    \\end{align}\n",
        "\n",
        "Note:\n",
        "In Machine Learning, m: denotes the length of the array (total No of rows in our case).\n"
      ],
      "metadata": {
        "id": "SVCrTEHIxUk-"
      }
    },
    {
      "cell_type": "code",
      "source": [
        "def cost_function(X, Y, W):\n",
        "  \"\"\" Parameters:\n",
        "  This function finds the Mean Square Error.\n",
        "  Input parameters:\n",
        "  X: Feature Matrix\n",
        "  Y: Target Matrix\n",
        "  W: Weight Matrix\n",
        "  Output Parameters:\n",
        "  J: accumulated mean square error.\n",
        "  \"\"\"\n",
        "  m = len(Y) # len of data in your datasets\n",
        "  J = np.sum((X.dot(W) - Y) ** 2)/(2 * m)\n",
        "  return J\n",
        "  x0 = np.ones(len(df))\n",
        "  X = np.array([x0, df['Rank'], df['NA_Sales'], df['EU_Sales'], df['JP_Sales'], df['Other_Sales']]).T\n",
        "  Y = np.array(df['Global_Sales'])\n",
        "  W = np.array([0, 0, 0, 0, 0, 0])\n",
        "  initial_cost = cost_function(X, Y, W)\n",
        "  print(initial_cost)"
      ],
      "metadata": {
        "id": "EK1Y-dFKxxY9"
      },
      "execution_count": 492,
      "outputs": []
    },
    {
      "cell_type": "markdown",
      "source": [
        "## Step-3: Optimization Algorithm\n",
        "\n",
        "Our goal in this task is to minimize our error function with each input of examples(input data). \n",
        "One of the most suitable methods to do the same is \n",
        "\\begin{align}\n",
        "$\\color{red}{\\textbf{GRADIENT DESCENT ALGOROTHIM.}}$\n",
        "\\end{align}\n",
        "\n",
        "Implement GDA from Scratch.\n",
        "\n",
        "Function to estimate: \n",
        "  *   $h_\\theta(x) = \\theta^T x$\n",
        "\n",
        "Loss function to minimize:\n",
        "  *   $(h_\\theta(x) - y)^2$\n",
        "\n",
        "Gradient: Decsent update:\n",
        "  *   $\\theta_(j+1)   = \\theta_j - LR(D_\\theta)$\n",
        "  *   $D(\\theta) = 1/m * (\\theta^T * X)$ i.e. Derivative of parameters/weights.\n",
        "\n",
        "\n",
        "\n"
      ],
      "metadata": {
        "id": "Ve2MvlKayvnk"
      }
    },
    {
      "cell_type": "code",
      "source": [
        "def gradient_descent(X, Y, W, alpha, iterations):\n",
        "    \"\"\"\n",
        "    Parameters:\n",
        "    This function performs gradient descent on the given data to find the optimal weights for the linear regression model.\n",
        "    Input parameters:\n",
        "      X: Feature Matrix\n",
        "      Y: Target Matrix\n",
        "      W: Weight Matrix\n",
        "      alpha: learning rate\n",
        "      iterations: number of iterations for gradient descent\n",
        "    Output Parameters:\n",
        "      W_update: optimized weight matrix\n",
        "      cost_history: history of cost values at each iteration\n",
        "    \"\"\"\n",
        "    m = len(Y)\n",
        "    cost_history = [0] * iterations\n",
        "    \n",
        "    for iteration in range(iterations):\n",
        "        # Hypothesis Values\n",
        "        Y_pred = X.dot(W)\n",
        "        # Difference between Hypothesis and Actual Y\n",
        "        loss = Y_pred - Y\n",
        "        # Gradient Calculation\n",
        "        dW = (X.T.dot(loss) ) / (m)\n",
        "        # Changing Values of W using Gradient\n",
        "        W_update = W - alpha * dW\n",
        "        # New Cost Value\n",
        "        cost = cost_function(X, Y, W_update)\n",
        "        cost_history[iteration] = cost\n",
        "        \n",
        "    return W_update, cost_history"
      ],
      "metadata": {
        "id": "GeFOePSGyAlE"
      },
      "execution_count": 493,
      "outputs": []
    },
    {
      "cell_type": "code",
      "source": [
        "def cost_function(X, Y, W):\n",
        "  \"\"\" Parameters:\n",
        "  This function finds the Mean Square Error.\n",
        "  Input parameters:\n",
        "  X: Feature Matrix\n",
        "  Y: Target Matrix\n",
        "  W: Weight Matrix\n",
        "  Output Parameters:\n",
        "  J: accumulated mean square error.\n",
        "  \"\"\"\n",
        "  m = len(Y) # len of data in your datasets\n",
        "  J = np.sum((X.dot(W) - Y) ** 2)/(2 * m)\n",
        "  return J\n",
        "\n",
        "x0 = np.ones(len(df))\n",
        "X = np.array([x0, df['Rank'], df['NA_Sales'], df['EU_Sales'], df['JP_Sales'], df['Other_Sales']]).T\n",
        "Y = np.array(df['Global_Sales'])\n",
        "#w are set to values zero to optimise the process with gradient algorithm\n",
        "W = np.array([0, 0, 0, 0, 0, 0])\n",
        "\n",
        "initial_cost = cost_function(X, Y, W)\n",
        "print(\"Initial Cost: \", initial_cost)\n",
        "\n",
        "# 100000 Iterations\n",
        "alpha = 0.0001 # Learning Rate.\n",
        "new_weights, cost_history = gradient_descent(X, Y, W, alpha, 100000)\n",
        "# New Values of\n",
        "print(\"Optimized Weights: \", new_weights)\n",
        "\n",
        "# Final Cost of our Iterations.\n",
        "print(\"Final Cost: \", cost_history[-1])"
      ],
      "metadata": {
        "colab": {
          "base_uri": "https://localhost:8080/"
        },
        "id": "LoeMK9g9zIcq",
        "outputId": "b0b1cb0e-9af8-4601-f76a-83c325bf4b29"
      },
      "execution_count": 494,
      "outputs": [
        {
          "output_type": "stream",
          "name": "stdout",
          "text": [
            "Initial Cost:  1.3534043258223882\n",
            "Optimized Weights:  [ 5.37440656e-05 -6.64609194e-05  1.46331085e-04  1.40389262e-04\n",
            "  9.51361562e-05  1.16364032e-04]\n",
            "Final Cost:  1.352694237922864\n"
          ]
        }
      ]
    },
    {
      "cell_type": "markdown",
      "source": [
        "##**4. Model Evaluation:**"
      ],
      "metadata": {
        "id": "SUsr2AKcS_1n"
      }
    },
    {
      "cell_type": "markdown",
      "source": [
        "Pick an appropriate evaluation metric to evaluate your model on the test set."
      ],
      "metadata": {
        "id": "ZU6pu789TC-H"
      }
    },
    {
      "cell_type": "code",
      "source": [
        "# Model Evaluation - RMSE\n",
        "def rmse(Y, Y_pred):\n",
        "    \"\"\"\n",
        "    This Function calculates the Root Mean Squre.\n",
        "    Input Arguments:\n",
        "        Y: Array of actual(Target) Dependent Varaibles.\n",
        "        Y_pred: Array of predeicted Dependent Varaibles.\n",
        "    Output Arguments:\n",
        "        rmse: Root Mean Square.\n",
        "    \"\"\"\n",
        "    rmse = np.sqrt(np.mean((Y - Y_pred) ** 2))\n",
        "    return rmse\n",
        "\n",
        "# Model Evaluation - R2\n",
        "def r2(Y, Y_pred):\n",
        "  \"\"\"\n",
        "  This Function calculates the R Squared Error.\n",
        "  Input Arguments:\n",
        "  Y: Array of actual(Target) Dependent Variables.\n",
        "  Y_pred: Array of predicted Dependent Variables.\n",
        "  Output Arguments:\n",
        "  rsquared: R Squared Error.\n",
        "  \"\"\"\n",
        "  mean_y = np.mean(Y)\n",
        "  ss_tot = np.sum((Y - mean_y) ** 2)\n",
        "  ss_res = np.sum((Y - Y_pred) ** 2)\n",
        "  r2 = 1 - (ss_res / ss_tot)\n",
        "  return r2"
      ],
      "metadata": {
        "id": "1RDhRZVATgz3"
      },
      "execution_count": 495,
      "outputs": []
    },
    {
      "cell_type": "code",
      "source": [
        "# Initialize the target variable as numpy array\n",
        "Y = np.array(df['Global_Sales'])\n",
        "# Calculate the predicted values of Y\n",
        "Y_pred = X.dot(W)\n",
        "# Calculate the root mean squared error and the R2 score respectively\n",
        "rmse_value = rmse(Y, Y_pred)\n",
        "r2_value = r2(Y, Y_pred)\n",
        "# Print the root mean squared error value and R2 score respectively\n",
        "print(\"RMSE:\", rmse_value)\n",
        "print(\"R2:\", r2_value)"
      ],
      "metadata": {
        "colab": {
          "base_uri": "https://localhost:8080/"
        },
        "id": "wohdfXTZv0iM",
        "outputId": "4fc050f9-6ae0-4b35-93a8-a6c0ad061525"
      },
      "execution_count": 496,
      "outputs": [
        {
          "output_type": "stream",
          "name": "stdout",
          "text": [
            "RMSE: 1.6452381747469806\n",
            "R2: -0.11945678106098212\n"
          ]
        }
      ]
    },
    {
      "cell_type": "markdown",
      "source": [
        "##**5. Dimensionality Reduction:**"
      ],
      "metadata": {
        "id": "q-qbZHZSTFL_"
      }
    },
    {
      "cell_type": "markdown",
      "source": [
        "Apply Principal Component Analysis to reduce the dimension and rebuild the model with reduced fea-\n",
        "tures,evaluate the model and Compare the output with the evaluation from step 4."
      ],
      "metadata": {
        "id": "62UPRsTgTONf"
      }
    },
    {
      "cell_type": "code",
      "source": [
        "# Initializing the PCA\n",
        "pca = PCA(n_components=3)\n",
        "\n",
        "# Fitting the PCA to the data\n",
        "X_reduced = pca.fit_transform(X)\n",
        "\n",
        "# Storing the arrays in Matrix form\n",
        "X = X_reduced\n",
        "Y = np.array(df['Global_Sales'])\n",
        "\n",
        "# Using Lasso Regression with Regularization\n",
        "reg = Lasso(alpha=0.1)\n",
        "reg.fit(X, Y)\n",
        "\n",
        "# Predicting the values of Y using the model\n",
        "Y_pred = reg.predict(X)\n",
        "\n",
        "# Model Evaluation - RMSE\n",
        "rmse = np.sqrt(mean_squared_error(Y, Y_pred))\n",
        "print(\"Root Mean Squared Error:\", rmse)\n",
        "\n",
        "# Model Evaluation - R2 Score\n",
        "r2 = r2_score(Y, Y_pred)\n",
        "print(\"R Squared Error:\", r2)\n"
      ],
      "metadata": {
        "id": "cQANp-1gThSX",
        "colab": {
          "base_uri": "https://localhost:8080/"
        },
        "outputId": "5dceeefd-35f0-453b-912d-eb265eb7d41a"
      },
      "execution_count": 497,
      "outputs": [
        {
          "output_type": "stream",
          "name": "stdout",
          "text": [
            "Root Mean Squared Error: 0.3052122870402905\n",
            "R Squared Error: 0.9614740105083633\n"
          ]
        }
      ]
    },
    {
      "cell_type": "markdown",
      "source": [
        "##**6. Conclusion:**"
      ],
      "metadata": {
        "id": "Cc4TnPa4TQ3A"
      }
    },
    {
      "cell_type": "markdown",
      "source": [
        "##**Conclude the result of the comparison.**"
      ],
      "metadata": {
        "id": "KYwXZwnnTUtv"
      }
    },
    {
      "cell_type": "markdown",
      "source": [
        "It may be stated that the value was predicted rather accurately based on the Root Mean Squared Error of 0.305 and the R Squared Error of 0.962. Therefore, PCA was useful for decreasing dimensionality and improving model accuracy."
      ],
      "metadata": {
        "id": "h_ew-SPM7ly0"
      }
    },
    {
      "cell_type": "markdown",
      "source": [
        "#**Part-II: Logistic Regression:**"
      ],
      "metadata": {
        "id": "W0JrMQZLTWDI"
      }
    },
    {
      "cell_type": "markdown",
      "source": [
        "##**1. Data Understanding, Cleaning and Transformation:**"
      ],
      "metadata": {
        "id": "2aUy_tCbTaIY"
      }
    },
    {
      "cell_type": "markdown",
      "source": [
        "Understand what is data about and why do you think the data was collected, and what research questions\n",
        "data can answers."
      ],
      "metadata": {
        "id": "9qBgc7LyTdSX"
      }
    },
    {
      "cell_type": "markdown",
      "source": [
        "##(a) You can explain your logic in the text cell of your notebook.\n",
        "\n"
      ],
      "metadata": {
        "id": "YcnxBSDrToWQ"
      }
    },
    {
      "cell_type": "markdown",
      "source": [
        "Based on my interpretation of the data, it seems to consist of information regarding Pokemon, such as their types, overall health, attack, defense, special attack and special defense. The variables \"Legendary\" and \"Type 1\" seem to be ordinal in nature, meaning they need to be encoded prior to utilizing them in machine learning."
      ],
      "metadata": {
        "id": "ec0HocSMBuIM"
      }
    },
    {
      "cell_type": "markdown",
      "source": [
        "##(b) Based on your research questions Identify Dependent and Independent Variables."
      ],
      "metadata": {
        "id": "0JUJxDYZBl-M"
      }
    },
    {
      "cell_type": "markdown",
      "source": [
        "According to the data, \"Legendary\" is the dependent variable, while the independent factors appear to be \"Number,\" \"Type 1,\" \"Total,\" \"HP,\" \"Attack,\" \"Defense,\" \"Special Attack,\" \"Special Defense,\" \"Speed,\" and \"Generation,\" all of which seem to have a large influence on the \"Legendary\" status."
      ],
      "metadata": {
        "id": "HlUYAd-1Bzh8"
      }
    },
    {
      "cell_type": "markdown",
      "source": [
        "##(c) Use pandas to load your dataset and observe the data."
      ],
      "metadata": {
        "id": "6VrXtB_BBf-N"
      }
    },
    {
      "cell_type": "code",
      "source": [
        "# Read CSV file\n",
        "df2 = pd.read_csv('/content/drive/MyDrive/Regression Portfolio/2.csv')\n",
        "# Set the maximum number of columns to be displayed to \"None\", hence all columns will be shown\n",
        "pd.options.display.max_columns = None\n",
        "# Show the dataframe\n",
        "df2"
      ],
      "metadata": {
        "colab": {
          "base_uri": "https://localhost:8080/",
          "height": 424
        },
        "id": "Rrxrm_pmAW5n",
        "outputId": "181be854-8d07-4144-8cca-840b662b3cab"
      },
      "execution_count": 498,
      "outputs": [
        {
          "output_type": "execute_result",
          "data": {
            "text/plain": [
              "      number    type1  total   hp  attack  defense  sp_attack  sp_defense  \\\n",
              "0          1    Grass    318   45      49       49         65          65   \n",
              "1          2    Grass    405   60      62       63         80          80   \n",
              "2          3    Grass    525   80      82       83        100         100   \n",
              "3          3    Grass    625   80     100      123        122         120   \n",
              "4          3    Grass    525   80      82       83        100         100   \n",
              "...      ...      ...    ...  ...     ...      ...        ...         ...   \n",
              "1067     896      Ice    580  100     145      130         65         110   \n",
              "1068     897    Ghost    580  100      65       60        145          80   \n",
              "1069     898  Psychic    500  100      80       80         80          80   \n",
              "1070     898  Psychic    680  100     165      150         85         130   \n",
              "1071     898  Psychic    680  100      85       80        165         100   \n",
              "\n",
              "      speed  generation  legendary  \n",
              "0        45           1      False  \n",
              "1        60           1      False  \n",
              "2        80           1      False  \n",
              "3        80           1      False  \n",
              "4        80           1      False  \n",
              "...     ...         ...        ...  \n",
              "1067     30           8       True  \n",
              "1068    130           8       True  \n",
              "1069     80           8       True  \n",
              "1070     50           8       True  \n",
              "1071    150           8       True  \n",
              "\n",
              "[1072 rows x 11 columns]"
            ],
            "text/html": [
              "\n",
              "  <div id=\"df-2fcc2061-df74-44dd-97ec-a43033107e0a\">\n",
              "    <div class=\"colab-df-container\">\n",
              "      <div>\n",
              "<style scoped>\n",
              "    .dataframe tbody tr th:only-of-type {\n",
              "        vertical-align: middle;\n",
              "    }\n",
              "\n",
              "    .dataframe tbody tr th {\n",
              "        vertical-align: top;\n",
              "    }\n",
              "\n",
              "    .dataframe thead th {\n",
              "        text-align: right;\n",
              "    }\n",
              "</style>\n",
              "<table border=\"1\" class=\"dataframe\">\n",
              "  <thead>\n",
              "    <tr style=\"text-align: right;\">\n",
              "      <th></th>\n",
              "      <th>number</th>\n",
              "      <th>type1</th>\n",
              "      <th>total</th>\n",
              "      <th>hp</th>\n",
              "      <th>attack</th>\n",
              "      <th>defense</th>\n",
              "      <th>sp_attack</th>\n",
              "      <th>sp_defense</th>\n",
              "      <th>speed</th>\n",
              "      <th>generation</th>\n",
              "      <th>legendary</th>\n",
              "    </tr>\n",
              "  </thead>\n",
              "  <tbody>\n",
              "    <tr>\n",
              "      <th>0</th>\n",
              "      <td>1</td>\n",
              "      <td>Grass</td>\n",
              "      <td>318</td>\n",
              "      <td>45</td>\n",
              "      <td>49</td>\n",
              "      <td>49</td>\n",
              "      <td>65</td>\n",
              "      <td>65</td>\n",
              "      <td>45</td>\n",
              "      <td>1</td>\n",
              "      <td>False</td>\n",
              "    </tr>\n",
              "    <tr>\n",
              "      <th>1</th>\n",
              "      <td>2</td>\n",
              "      <td>Grass</td>\n",
              "      <td>405</td>\n",
              "      <td>60</td>\n",
              "      <td>62</td>\n",
              "      <td>63</td>\n",
              "      <td>80</td>\n",
              "      <td>80</td>\n",
              "      <td>60</td>\n",
              "      <td>1</td>\n",
              "      <td>False</td>\n",
              "    </tr>\n",
              "    <tr>\n",
              "      <th>2</th>\n",
              "      <td>3</td>\n",
              "      <td>Grass</td>\n",
              "      <td>525</td>\n",
              "      <td>80</td>\n",
              "      <td>82</td>\n",
              "      <td>83</td>\n",
              "      <td>100</td>\n",
              "      <td>100</td>\n",
              "      <td>80</td>\n",
              "      <td>1</td>\n",
              "      <td>False</td>\n",
              "    </tr>\n",
              "    <tr>\n",
              "      <th>3</th>\n",
              "      <td>3</td>\n",
              "      <td>Grass</td>\n",
              "      <td>625</td>\n",
              "      <td>80</td>\n",
              "      <td>100</td>\n",
              "      <td>123</td>\n",
              "      <td>122</td>\n",
              "      <td>120</td>\n",
              "      <td>80</td>\n",
              "      <td>1</td>\n",
              "      <td>False</td>\n",
              "    </tr>\n",
              "    <tr>\n",
              "      <th>4</th>\n",
              "      <td>3</td>\n",
              "      <td>Grass</td>\n",
              "      <td>525</td>\n",
              "      <td>80</td>\n",
              "      <td>82</td>\n",
              "      <td>83</td>\n",
              "      <td>100</td>\n",
              "      <td>100</td>\n",
              "      <td>80</td>\n",
              "      <td>1</td>\n",
              "      <td>False</td>\n",
              "    </tr>\n",
              "    <tr>\n",
              "      <th>...</th>\n",
              "      <td>...</td>\n",
              "      <td>...</td>\n",
              "      <td>...</td>\n",
              "      <td>...</td>\n",
              "      <td>...</td>\n",
              "      <td>...</td>\n",
              "      <td>...</td>\n",
              "      <td>...</td>\n",
              "      <td>...</td>\n",
              "      <td>...</td>\n",
              "      <td>...</td>\n",
              "    </tr>\n",
              "    <tr>\n",
              "      <th>1067</th>\n",
              "      <td>896</td>\n",
              "      <td>Ice</td>\n",
              "      <td>580</td>\n",
              "      <td>100</td>\n",
              "      <td>145</td>\n",
              "      <td>130</td>\n",
              "      <td>65</td>\n",
              "      <td>110</td>\n",
              "      <td>30</td>\n",
              "      <td>8</td>\n",
              "      <td>True</td>\n",
              "    </tr>\n",
              "    <tr>\n",
              "      <th>1068</th>\n",
              "      <td>897</td>\n",
              "      <td>Ghost</td>\n",
              "      <td>580</td>\n",
              "      <td>100</td>\n",
              "      <td>65</td>\n",
              "      <td>60</td>\n",
              "      <td>145</td>\n",
              "      <td>80</td>\n",
              "      <td>130</td>\n",
              "      <td>8</td>\n",
              "      <td>True</td>\n",
              "    </tr>\n",
              "    <tr>\n",
              "      <th>1069</th>\n",
              "      <td>898</td>\n",
              "      <td>Psychic</td>\n",
              "      <td>500</td>\n",
              "      <td>100</td>\n",
              "      <td>80</td>\n",
              "      <td>80</td>\n",
              "      <td>80</td>\n",
              "      <td>80</td>\n",
              "      <td>80</td>\n",
              "      <td>8</td>\n",
              "      <td>True</td>\n",
              "    </tr>\n",
              "    <tr>\n",
              "      <th>1070</th>\n",
              "      <td>898</td>\n",
              "      <td>Psychic</td>\n",
              "      <td>680</td>\n",
              "      <td>100</td>\n",
              "      <td>165</td>\n",
              "      <td>150</td>\n",
              "      <td>85</td>\n",
              "      <td>130</td>\n",
              "      <td>50</td>\n",
              "      <td>8</td>\n",
              "      <td>True</td>\n",
              "    </tr>\n",
              "    <tr>\n",
              "      <th>1071</th>\n",
              "      <td>898</td>\n",
              "      <td>Psychic</td>\n",
              "      <td>680</td>\n",
              "      <td>100</td>\n",
              "      <td>85</td>\n",
              "      <td>80</td>\n",
              "      <td>165</td>\n",
              "      <td>100</td>\n",
              "      <td>150</td>\n",
              "      <td>8</td>\n",
              "      <td>True</td>\n",
              "    </tr>\n",
              "  </tbody>\n",
              "</table>\n",
              "<p>1072 rows × 11 columns</p>\n",
              "</div>\n",
              "      <button class=\"colab-df-convert\" onclick=\"convertToInteractive('df-2fcc2061-df74-44dd-97ec-a43033107e0a')\"\n",
              "              title=\"Convert this dataframe to an interactive table.\"\n",
              "              style=\"display:none;\">\n",
              "        \n",
              "  <svg xmlns=\"http://www.w3.org/2000/svg\" height=\"24px\"viewBox=\"0 0 24 24\"\n",
              "       width=\"24px\">\n",
              "    <path d=\"M0 0h24v24H0V0z\" fill=\"none\"/>\n",
              "    <path d=\"M18.56 5.44l.94 2.06.94-2.06 2.06-.94-2.06-.94-.94-2.06-.94 2.06-2.06.94zm-11 1L8.5 8.5l.94-2.06 2.06-.94-2.06-.94L8.5 2.5l-.94 2.06-2.06.94zm10 10l.94 2.06.94-2.06 2.06-.94-2.06-.94-.94-2.06-.94 2.06-2.06.94z\"/><path d=\"M17.41 7.96l-1.37-1.37c-.4-.4-.92-.59-1.43-.59-.52 0-1.04.2-1.43.59L10.3 9.45l-7.72 7.72c-.78.78-.78 2.05 0 2.83L4 21.41c.39.39.9.59 1.41.59.51 0 1.02-.2 1.41-.59l7.78-7.78 2.81-2.81c.8-.78.8-2.07 0-2.86zM5.41 20L4 18.59l7.72-7.72 1.47 1.35L5.41 20z\"/>\n",
              "  </svg>\n",
              "      </button>\n",
              "      \n",
              "  <style>\n",
              "    .colab-df-container {\n",
              "      display:flex;\n",
              "      flex-wrap:wrap;\n",
              "      gap: 12px;\n",
              "    }\n",
              "\n",
              "    .colab-df-convert {\n",
              "      background-color: #E8F0FE;\n",
              "      border: none;\n",
              "      border-radius: 50%;\n",
              "      cursor: pointer;\n",
              "      display: none;\n",
              "      fill: #1967D2;\n",
              "      height: 32px;\n",
              "      padding: 0 0 0 0;\n",
              "      width: 32px;\n",
              "    }\n",
              "\n",
              "    .colab-df-convert:hover {\n",
              "      background-color: #E2EBFA;\n",
              "      box-shadow: 0px 1px 2px rgba(60, 64, 67, 0.3), 0px 1px 3px 1px rgba(60, 64, 67, 0.15);\n",
              "      fill: #174EA6;\n",
              "    }\n",
              "\n",
              "    [theme=dark] .colab-df-convert {\n",
              "      background-color: #3B4455;\n",
              "      fill: #D2E3FC;\n",
              "    }\n",
              "\n",
              "    [theme=dark] .colab-df-convert:hover {\n",
              "      background-color: #434B5C;\n",
              "      box-shadow: 0px 1px 3px 1px rgba(0, 0, 0, 0.15);\n",
              "      filter: drop-shadow(0px 1px 2px rgba(0, 0, 0, 0.3));\n",
              "      fill: #FFFFFF;\n",
              "    }\n",
              "  </style>\n",
              "\n",
              "      <script>\n",
              "        const buttonEl =\n",
              "          document.querySelector('#df-2fcc2061-df74-44dd-97ec-a43033107e0a button.colab-df-convert');\n",
              "        buttonEl.style.display =\n",
              "          google.colab.kernel.accessAllowed ? 'block' : 'none';\n",
              "\n",
              "        async function convertToInteractive(key) {\n",
              "          const element = document.querySelector('#df-2fcc2061-df74-44dd-97ec-a43033107e0a');\n",
              "          const dataTable =\n",
              "            await google.colab.kernel.invokeFunction('convertToInteractive',\n",
              "                                                     [key], {});\n",
              "          if (!dataTable) return;\n",
              "\n",
              "          const docLinkHtml = 'Like what you see? Visit the ' +\n",
              "            '<a target=\"_blank\" href=https://colab.research.google.com/notebooks/data_table.ipynb>data table notebook</a>'\n",
              "            + ' to learn more about interactive tables.';\n",
              "          element.innerHTML = '';\n",
              "          dataTable['output_type'] = 'display_data';\n",
              "          await google.colab.output.renderOutput(dataTable, element);\n",
              "          const docLink = document.createElement('div');\n",
              "          docLink.innerHTML = docLinkHtml;\n",
              "          element.appendChild(docLink);\n",
              "        }\n",
              "      </script>\n",
              "    </div>\n",
              "  </div>\n",
              "  "
            ]
          },
          "metadata": {},
          "execution_count": 498
        }
      ]
    },
    {
      "cell_type": "markdown",
      "source": [
        "##If required perform basic data cleaning and Transformation the way you fits your task requirements."
      ],
      "metadata": {
        "id": "Fv1hTcEzTsG4"
      }
    },
    {
      "cell_type": "code",
      "source": [
        "# Return data types of the columns \n",
        "df2.dtypes"
      ],
      "metadata": {
        "id": "h89rO-BfTtln",
        "colab": {
          "base_uri": "https://localhost:8080/"
        },
        "outputId": "cfb2353f-0652-49bb-9364-298c98e2ccc8"
      },
      "execution_count": 499,
      "outputs": [
        {
          "output_type": "execute_result",
          "data": {
            "text/plain": [
              "number         int64\n",
              "type1         object\n",
              "total          int64\n",
              "hp             int64\n",
              "attack         int64\n",
              "defense        int64\n",
              "sp_attack      int64\n",
              "sp_defense     int64\n",
              "speed          int64\n",
              "generation     int64\n",
              "legendary       bool\n",
              "dtype: object"
            ]
          },
          "metadata": {},
          "execution_count": 499
        }
      ]
    },
    {
      "cell_type": "code",
      "source": [
        "# Create a dictionary to map the types to numbers\n",
        "type_mapping = {'Grass': 1, 'Fire': 2, 'Water': 3, 'Blastoise': 4, 'Bug': 5, 'Normal': 6, 'Dark': 7, \n",
        "                'Poison': 8, 'Electric': 9, 'Ground': 10, 'Ice': 11, 'Fairy': 12, 'Fighting': 13,\n",
        "                'Psychic': 14, 'Rock': 15, 'Ghost': 16, 'Dragon': 17, 'Steel': 18}\n",
        "\n",
        "# Use the map() function to apply the mapping to each element in the column\n",
        "df2['type1_num'] = df2['type1'].map(type_mapping)"
      ],
      "metadata": {
        "id": "LXG7Z131DSLa"
      },
      "execution_count": 500,
      "outputs": []
    },
    {
      "cell_type": "code",
      "source": [
        "# Define a dictionary that maps the values True and False to 1 and 0\n",
        "legendary_mapping = {True: 1, False: 0}\n",
        "# Create a new column in the DataFrame called 'legendary_num' that maps the values of the 'legendary' column\n",
        "df2['legendary_num'] = df2['legendary'].map(legendary_mapping)\n",
        "# Show the dataframe\n",
        "df2"
      ],
      "metadata": {
        "colab": {
          "base_uri": "https://localhost:8080/",
          "height": 424
        },
        "id": "P--4DSXfVd-x",
        "outputId": "83131b14-e008-4b35-f917-69027495c729"
      },
      "execution_count": 501,
      "outputs": [
        {
          "output_type": "execute_result",
          "data": {
            "text/plain": [
              "      number    type1  total   hp  attack  defense  sp_attack  sp_defense  \\\n",
              "0          1    Grass    318   45      49       49         65          65   \n",
              "1          2    Grass    405   60      62       63         80          80   \n",
              "2          3    Grass    525   80      82       83        100         100   \n",
              "3          3    Grass    625   80     100      123        122         120   \n",
              "4          3    Grass    525   80      82       83        100         100   \n",
              "...      ...      ...    ...  ...     ...      ...        ...         ...   \n",
              "1067     896      Ice    580  100     145      130         65         110   \n",
              "1068     897    Ghost    580  100      65       60        145          80   \n",
              "1069     898  Psychic    500  100      80       80         80          80   \n",
              "1070     898  Psychic    680  100     165      150         85         130   \n",
              "1071     898  Psychic    680  100      85       80        165         100   \n",
              "\n",
              "      speed  generation  legendary  type1_num  legendary_num  \n",
              "0        45           1      False        1.0              0  \n",
              "1        60           1      False        1.0              0  \n",
              "2        80           1      False        1.0              0  \n",
              "3        80           1      False        1.0              0  \n",
              "4        80           1      False        1.0              0  \n",
              "...     ...         ...        ...        ...            ...  \n",
              "1067     30           8       True       11.0              1  \n",
              "1068    130           8       True       16.0              1  \n",
              "1069     80           8       True       14.0              1  \n",
              "1070     50           8       True       14.0              1  \n",
              "1071    150           8       True       14.0              1  \n",
              "\n",
              "[1072 rows x 13 columns]"
            ],
            "text/html": [
              "\n",
              "  <div id=\"df-7c9fe3b9-4c83-4186-9d6d-785d8a1f68d3\">\n",
              "    <div class=\"colab-df-container\">\n",
              "      <div>\n",
              "<style scoped>\n",
              "    .dataframe tbody tr th:only-of-type {\n",
              "        vertical-align: middle;\n",
              "    }\n",
              "\n",
              "    .dataframe tbody tr th {\n",
              "        vertical-align: top;\n",
              "    }\n",
              "\n",
              "    .dataframe thead th {\n",
              "        text-align: right;\n",
              "    }\n",
              "</style>\n",
              "<table border=\"1\" class=\"dataframe\">\n",
              "  <thead>\n",
              "    <tr style=\"text-align: right;\">\n",
              "      <th></th>\n",
              "      <th>number</th>\n",
              "      <th>type1</th>\n",
              "      <th>total</th>\n",
              "      <th>hp</th>\n",
              "      <th>attack</th>\n",
              "      <th>defense</th>\n",
              "      <th>sp_attack</th>\n",
              "      <th>sp_defense</th>\n",
              "      <th>speed</th>\n",
              "      <th>generation</th>\n",
              "      <th>legendary</th>\n",
              "      <th>type1_num</th>\n",
              "      <th>legendary_num</th>\n",
              "    </tr>\n",
              "  </thead>\n",
              "  <tbody>\n",
              "    <tr>\n",
              "      <th>0</th>\n",
              "      <td>1</td>\n",
              "      <td>Grass</td>\n",
              "      <td>318</td>\n",
              "      <td>45</td>\n",
              "      <td>49</td>\n",
              "      <td>49</td>\n",
              "      <td>65</td>\n",
              "      <td>65</td>\n",
              "      <td>45</td>\n",
              "      <td>1</td>\n",
              "      <td>False</td>\n",
              "      <td>1.0</td>\n",
              "      <td>0</td>\n",
              "    </tr>\n",
              "    <tr>\n",
              "      <th>1</th>\n",
              "      <td>2</td>\n",
              "      <td>Grass</td>\n",
              "      <td>405</td>\n",
              "      <td>60</td>\n",
              "      <td>62</td>\n",
              "      <td>63</td>\n",
              "      <td>80</td>\n",
              "      <td>80</td>\n",
              "      <td>60</td>\n",
              "      <td>1</td>\n",
              "      <td>False</td>\n",
              "      <td>1.0</td>\n",
              "      <td>0</td>\n",
              "    </tr>\n",
              "    <tr>\n",
              "      <th>2</th>\n",
              "      <td>3</td>\n",
              "      <td>Grass</td>\n",
              "      <td>525</td>\n",
              "      <td>80</td>\n",
              "      <td>82</td>\n",
              "      <td>83</td>\n",
              "      <td>100</td>\n",
              "      <td>100</td>\n",
              "      <td>80</td>\n",
              "      <td>1</td>\n",
              "      <td>False</td>\n",
              "      <td>1.0</td>\n",
              "      <td>0</td>\n",
              "    </tr>\n",
              "    <tr>\n",
              "      <th>3</th>\n",
              "      <td>3</td>\n",
              "      <td>Grass</td>\n",
              "      <td>625</td>\n",
              "      <td>80</td>\n",
              "      <td>100</td>\n",
              "      <td>123</td>\n",
              "      <td>122</td>\n",
              "      <td>120</td>\n",
              "      <td>80</td>\n",
              "      <td>1</td>\n",
              "      <td>False</td>\n",
              "      <td>1.0</td>\n",
              "      <td>0</td>\n",
              "    </tr>\n",
              "    <tr>\n",
              "      <th>4</th>\n",
              "      <td>3</td>\n",
              "      <td>Grass</td>\n",
              "      <td>525</td>\n",
              "      <td>80</td>\n",
              "      <td>82</td>\n",
              "      <td>83</td>\n",
              "      <td>100</td>\n",
              "      <td>100</td>\n",
              "      <td>80</td>\n",
              "      <td>1</td>\n",
              "      <td>False</td>\n",
              "      <td>1.0</td>\n",
              "      <td>0</td>\n",
              "    </tr>\n",
              "    <tr>\n",
              "      <th>...</th>\n",
              "      <td>...</td>\n",
              "      <td>...</td>\n",
              "      <td>...</td>\n",
              "      <td>...</td>\n",
              "      <td>...</td>\n",
              "      <td>...</td>\n",
              "      <td>...</td>\n",
              "      <td>...</td>\n",
              "      <td>...</td>\n",
              "      <td>...</td>\n",
              "      <td>...</td>\n",
              "      <td>...</td>\n",
              "      <td>...</td>\n",
              "    </tr>\n",
              "    <tr>\n",
              "      <th>1067</th>\n",
              "      <td>896</td>\n",
              "      <td>Ice</td>\n",
              "      <td>580</td>\n",
              "      <td>100</td>\n",
              "      <td>145</td>\n",
              "      <td>130</td>\n",
              "      <td>65</td>\n",
              "      <td>110</td>\n",
              "      <td>30</td>\n",
              "      <td>8</td>\n",
              "      <td>True</td>\n",
              "      <td>11.0</td>\n",
              "      <td>1</td>\n",
              "    </tr>\n",
              "    <tr>\n",
              "      <th>1068</th>\n",
              "      <td>897</td>\n",
              "      <td>Ghost</td>\n",
              "      <td>580</td>\n",
              "      <td>100</td>\n",
              "      <td>65</td>\n",
              "      <td>60</td>\n",
              "      <td>145</td>\n",
              "      <td>80</td>\n",
              "      <td>130</td>\n",
              "      <td>8</td>\n",
              "      <td>True</td>\n",
              "      <td>16.0</td>\n",
              "      <td>1</td>\n",
              "    </tr>\n",
              "    <tr>\n",
              "      <th>1069</th>\n",
              "      <td>898</td>\n",
              "      <td>Psychic</td>\n",
              "      <td>500</td>\n",
              "      <td>100</td>\n",
              "      <td>80</td>\n",
              "      <td>80</td>\n",
              "      <td>80</td>\n",
              "      <td>80</td>\n",
              "      <td>80</td>\n",
              "      <td>8</td>\n",
              "      <td>True</td>\n",
              "      <td>14.0</td>\n",
              "      <td>1</td>\n",
              "    </tr>\n",
              "    <tr>\n",
              "      <th>1070</th>\n",
              "      <td>898</td>\n",
              "      <td>Psychic</td>\n",
              "      <td>680</td>\n",
              "      <td>100</td>\n",
              "      <td>165</td>\n",
              "      <td>150</td>\n",
              "      <td>85</td>\n",
              "      <td>130</td>\n",
              "      <td>50</td>\n",
              "      <td>8</td>\n",
              "      <td>True</td>\n",
              "      <td>14.0</td>\n",
              "      <td>1</td>\n",
              "    </tr>\n",
              "    <tr>\n",
              "      <th>1071</th>\n",
              "      <td>898</td>\n",
              "      <td>Psychic</td>\n",
              "      <td>680</td>\n",
              "      <td>100</td>\n",
              "      <td>85</td>\n",
              "      <td>80</td>\n",
              "      <td>165</td>\n",
              "      <td>100</td>\n",
              "      <td>150</td>\n",
              "      <td>8</td>\n",
              "      <td>True</td>\n",
              "      <td>14.0</td>\n",
              "      <td>1</td>\n",
              "    </tr>\n",
              "  </tbody>\n",
              "</table>\n",
              "<p>1072 rows × 13 columns</p>\n",
              "</div>\n",
              "      <button class=\"colab-df-convert\" onclick=\"convertToInteractive('df-7c9fe3b9-4c83-4186-9d6d-785d8a1f68d3')\"\n",
              "              title=\"Convert this dataframe to an interactive table.\"\n",
              "              style=\"display:none;\">\n",
              "        \n",
              "  <svg xmlns=\"http://www.w3.org/2000/svg\" height=\"24px\"viewBox=\"0 0 24 24\"\n",
              "       width=\"24px\">\n",
              "    <path d=\"M0 0h24v24H0V0z\" fill=\"none\"/>\n",
              "    <path d=\"M18.56 5.44l.94 2.06.94-2.06 2.06-.94-2.06-.94-.94-2.06-.94 2.06-2.06.94zm-11 1L8.5 8.5l.94-2.06 2.06-.94-2.06-.94L8.5 2.5l-.94 2.06-2.06.94zm10 10l.94 2.06.94-2.06 2.06-.94-2.06-.94-.94-2.06-.94 2.06-2.06.94z\"/><path d=\"M17.41 7.96l-1.37-1.37c-.4-.4-.92-.59-1.43-.59-.52 0-1.04.2-1.43.59L10.3 9.45l-7.72 7.72c-.78.78-.78 2.05 0 2.83L4 21.41c.39.39.9.59 1.41.59.51 0 1.02-.2 1.41-.59l7.78-7.78 2.81-2.81c.8-.78.8-2.07 0-2.86zM5.41 20L4 18.59l7.72-7.72 1.47 1.35L5.41 20z\"/>\n",
              "  </svg>\n",
              "      </button>\n",
              "      \n",
              "  <style>\n",
              "    .colab-df-container {\n",
              "      display:flex;\n",
              "      flex-wrap:wrap;\n",
              "      gap: 12px;\n",
              "    }\n",
              "\n",
              "    .colab-df-convert {\n",
              "      background-color: #E8F0FE;\n",
              "      border: none;\n",
              "      border-radius: 50%;\n",
              "      cursor: pointer;\n",
              "      display: none;\n",
              "      fill: #1967D2;\n",
              "      height: 32px;\n",
              "      padding: 0 0 0 0;\n",
              "      width: 32px;\n",
              "    }\n",
              "\n",
              "    .colab-df-convert:hover {\n",
              "      background-color: #E2EBFA;\n",
              "      box-shadow: 0px 1px 2px rgba(60, 64, 67, 0.3), 0px 1px 3px 1px rgba(60, 64, 67, 0.15);\n",
              "      fill: #174EA6;\n",
              "    }\n",
              "\n",
              "    [theme=dark] .colab-df-convert {\n",
              "      background-color: #3B4455;\n",
              "      fill: #D2E3FC;\n",
              "    }\n",
              "\n",
              "    [theme=dark] .colab-df-convert:hover {\n",
              "      background-color: #434B5C;\n",
              "      box-shadow: 0px 1px 3px 1px rgba(0, 0, 0, 0.15);\n",
              "      filter: drop-shadow(0px 1px 2px rgba(0, 0, 0, 0.3));\n",
              "      fill: #FFFFFF;\n",
              "    }\n",
              "  </style>\n",
              "\n",
              "      <script>\n",
              "        const buttonEl =\n",
              "          document.querySelector('#df-7c9fe3b9-4c83-4186-9d6d-785d8a1f68d3 button.colab-df-convert');\n",
              "        buttonEl.style.display =\n",
              "          google.colab.kernel.accessAllowed ? 'block' : 'none';\n",
              "\n",
              "        async function convertToInteractive(key) {\n",
              "          const element = document.querySelector('#df-7c9fe3b9-4c83-4186-9d6d-785d8a1f68d3');\n",
              "          const dataTable =\n",
              "            await google.colab.kernel.invokeFunction('convertToInteractive',\n",
              "                                                     [key], {});\n",
              "          if (!dataTable) return;\n",
              "\n",
              "          const docLinkHtml = 'Like what you see? Visit the ' +\n",
              "            '<a target=\"_blank\" href=https://colab.research.google.com/notebooks/data_table.ipynb>data table notebook</a>'\n",
              "            + ' to learn more about interactive tables.';\n",
              "          element.innerHTML = '';\n",
              "          dataTable['output_type'] = 'display_data';\n",
              "          await google.colab.output.renderOutput(dataTable, element);\n",
              "          const docLink = document.createElement('div');\n",
              "          docLink.innerHTML = docLinkHtml;\n",
              "          element.appendChild(docLink);\n",
              "        }\n",
              "      </script>\n",
              "    </div>\n",
              "  </div>\n",
              "  "
            ]
          },
          "metadata": {},
          "execution_count": 501
        }
      ]
    },
    {
      "cell_type": "markdown",
      "source": [
        "##**2. Data Analysis and Visualization:**"
      ],
      "metadata": {
        "id": "GBImvZmSTuCn"
      }
    },
    {
      "cell_type": "markdown",
      "source": [
        "Find the descriptive statistics of your data using pandas and use matplotlib or any other library to make\n",
        "various plots to generate insights from dataset."
      ],
      "metadata": {
        "id": "G21P3ft_TyLf"
      }
    },
    {
      "cell_type": "code",
      "source": [
        "# Generate descriptive statistics of the DataFrame\n",
        "df2.describe()"
      ],
      "metadata": {
        "id": "jWogcO6JT2fv",
        "colab": {
          "base_uri": "https://localhost:8080/",
          "height": 300
        },
        "outputId": "68afa964-bcd3-46f4-a017-03824c1924b3"
      },
      "execution_count": 502,
      "outputs": [
        {
          "output_type": "execute_result",
          "data": {
            "text/plain": [
              "            number        total           hp       attack      defense  \\\n",
              "count  1072.000000  1072.000000  1072.000000  1072.000000  1072.000000   \n",
              "mean    445.219216   440.885261    70.486940    80.938433    74.968284   \n",
              "std     267.772806   121.379077    26.868039    32.463582    31.208059   \n",
              "min       1.000000   175.000000     1.000000     5.000000     5.000000   \n",
              "25%     209.750000   330.000000    50.000000    56.000000    52.000000   \n",
              "50%     442.500000   460.500000    68.000000    80.000000    70.000000   \n",
              "75%     681.250000   519.250000    84.000000   100.000000    90.000000   \n",
              "max     898.000000  1125.000000   255.000000   190.000000   250.000000   \n",
              "\n",
              "         sp_attack   sp_defense        speed   generation    type1_num  \\\n",
              "count  1072.000000  1072.000000  1072.000000  1072.000000  1062.000000   \n",
              "mean     73.273321    72.476679    68.792910     4.294776     8.288136   \n",
              "std      32.643119    27.934253    30.076281     2.346472     5.270070   \n",
              "min      10.000000    20.000000     5.000000     0.000000     1.000000   \n",
              "25%      50.000000    50.000000    45.000000     2.000000     3.000000   \n",
              "50%      65.000000    70.000000    65.000000     4.000000     7.000000   \n",
              "75%      95.000000    90.000000    90.000000     6.000000    13.000000   \n",
              "max     194.000000   250.000000   200.000000     8.000000    18.000000   \n",
              "\n",
              "       legendary_num  \n",
              "count    1072.000000  \n",
              "mean        0.110075  \n",
              "std         0.313129  \n",
              "min         0.000000  \n",
              "25%         0.000000  \n",
              "50%         0.000000  \n",
              "75%         0.000000  \n",
              "max         1.000000  "
            ],
            "text/html": [
              "\n",
              "  <div id=\"df-2c1d1c23-de79-448d-8c8e-f5746fbd5942\">\n",
              "    <div class=\"colab-df-container\">\n",
              "      <div>\n",
              "<style scoped>\n",
              "    .dataframe tbody tr th:only-of-type {\n",
              "        vertical-align: middle;\n",
              "    }\n",
              "\n",
              "    .dataframe tbody tr th {\n",
              "        vertical-align: top;\n",
              "    }\n",
              "\n",
              "    .dataframe thead th {\n",
              "        text-align: right;\n",
              "    }\n",
              "</style>\n",
              "<table border=\"1\" class=\"dataframe\">\n",
              "  <thead>\n",
              "    <tr style=\"text-align: right;\">\n",
              "      <th></th>\n",
              "      <th>number</th>\n",
              "      <th>total</th>\n",
              "      <th>hp</th>\n",
              "      <th>attack</th>\n",
              "      <th>defense</th>\n",
              "      <th>sp_attack</th>\n",
              "      <th>sp_defense</th>\n",
              "      <th>speed</th>\n",
              "      <th>generation</th>\n",
              "      <th>type1_num</th>\n",
              "      <th>legendary_num</th>\n",
              "    </tr>\n",
              "  </thead>\n",
              "  <tbody>\n",
              "    <tr>\n",
              "      <th>count</th>\n",
              "      <td>1072.000000</td>\n",
              "      <td>1072.000000</td>\n",
              "      <td>1072.000000</td>\n",
              "      <td>1072.000000</td>\n",
              "      <td>1072.000000</td>\n",
              "      <td>1072.000000</td>\n",
              "      <td>1072.000000</td>\n",
              "      <td>1072.000000</td>\n",
              "      <td>1072.000000</td>\n",
              "      <td>1062.000000</td>\n",
              "      <td>1072.000000</td>\n",
              "    </tr>\n",
              "    <tr>\n",
              "      <th>mean</th>\n",
              "      <td>445.219216</td>\n",
              "      <td>440.885261</td>\n",
              "      <td>70.486940</td>\n",
              "      <td>80.938433</td>\n",
              "      <td>74.968284</td>\n",
              "      <td>73.273321</td>\n",
              "      <td>72.476679</td>\n",
              "      <td>68.792910</td>\n",
              "      <td>4.294776</td>\n",
              "      <td>8.288136</td>\n",
              "      <td>0.110075</td>\n",
              "    </tr>\n",
              "    <tr>\n",
              "      <th>std</th>\n",
              "      <td>267.772806</td>\n",
              "      <td>121.379077</td>\n",
              "      <td>26.868039</td>\n",
              "      <td>32.463582</td>\n",
              "      <td>31.208059</td>\n",
              "      <td>32.643119</td>\n",
              "      <td>27.934253</td>\n",
              "      <td>30.076281</td>\n",
              "      <td>2.346472</td>\n",
              "      <td>5.270070</td>\n",
              "      <td>0.313129</td>\n",
              "    </tr>\n",
              "    <tr>\n",
              "      <th>min</th>\n",
              "      <td>1.000000</td>\n",
              "      <td>175.000000</td>\n",
              "      <td>1.000000</td>\n",
              "      <td>5.000000</td>\n",
              "      <td>5.000000</td>\n",
              "      <td>10.000000</td>\n",
              "      <td>20.000000</td>\n",
              "      <td>5.000000</td>\n",
              "      <td>0.000000</td>\n",
              "      <td>1.000000</td>\n",
              "      <td>0.000000</td>\n",
              "    </tr>\n",
              "    <tr>\n",
              "      <th>25%</th>\n",
              "      <td>209.750000</td>\n",
              "      <td>330.000000</td>\n",
              "      <td>50.000000</td>\n",
              "      <td>56.000000</td>\n",
              "      <td>52.000000</td>\n",
              "      <td>50.000000</td>\n",
              "      <td>50.000000</td>\n",
              "      <td>45.000000</td>\n",
              "      <td>2.000000</td>\n",
              "      <td>3.000000</td>\n",
              "      <td>0.000000</td>\n",
              "    </tr>\n",
              "    <tr>\n",
              "      <th>50%</th>\n",
              "      <td>442.500000</td>\n",
              "      <td>460.500000</td>\n",
              "      <td>68.000000</td>\n",
              "      <td>80.000000</td>\n",
              "      <td>70.000000</td>\n",
              "      <td>65.000000</td>\n",
              "      <td>70.000000</td>\n",
              "      <td>65.000000</td>\n",
              "      <td>4.000000</td>\n",
              "      <td>7.000000</td>\n",
              "      <td>0.000000</td>\n",
              "    </tr>\n",
              "    <tr>\n",
              "      <th>75%</th>\n",
              "      <td>681.250000</td>\n",
              "      <td>519.250000</td>\n",
              "      <td>84.000000</td>\n",
              "      <td>100.000000</td>\n",
              "      <td>90.000000</td>\n",
              "      <td>95.000000</td>\n",
              "      <td>90.000000</td>\n",
              "      <td>90.000000</td>\n",
              "      <td>6.000000</td>\n",
              "      <td>13.000000</td>\n",
              "      <td>0.000000</td>\n",
              "    </tr>\n",
              "    <tr>\n",
              "      <th>max</th>\n",
              "      <td>898.000000</td>\n",
              "      <td>1125.000000</td>\n",
              "      <td>255.000000</td>\n",
              "      <td>190.000000</td>\n",
              "      <td>250.000000</td>\n",
              "      <td>194.000000</td>\n",
              "      <td>250.000000</td>\n",
              "      <td>200.000000</td>\n",
              "      <td>8.000000</td>\n",
              "      <td>18.000000</td>\n",
              "      <td>1.000000</td>\n",
              "    </tr>\n",
              "  </tbody>\n",
              "</table>\n",
              "</div>\n",
              "      <button class=\"colab-df-convert\" onclick=\"convertToInteractive('df-2c1d1c23-de79-448d-8c8e-f5746fbd5942')\"\n",
              "              title=\"Convert this dataframe to an interactive table.\"\n",
              "              style=\"display:none;\">\n",
              "        \n",
              "  <svg xmlns=\"http://www.w3.org/2000/svg\" height=\"24px\"viewBox=\"0 0 24 24\"\n",
              "       width=\"24px\">\n",
              "    <path d=\"M0 0h24v24H0V0z\" fill=\"none\"/>\n",
              "    <path d=\"M18.56 5.44l.94 2.06.94-2.06 2.06-.94-2.06-.94-.94-2.06-.94 2.06-2.06.94zm-11 1L8.5 8.5l.94-2.06 2.06-.94-2.06-.94L8.5 2.5l-.94 2.06-2.06.94zm10 10l.94 2.06.94-2.06 2.06-.94-2.06-.94-.94-2.06-.94 2.06-2.06.94z\"/><path d=\"M17.41 7.96l-1.37-1.37c-.4-.4-.92-.59-1.43-.59-.52 0-1.04.2-1.43.59L10.3 9.45l-7.72 7.72c-.78.78-.78 2.05 0 2.83L4 21.41c.39.39.9.59 1.41.59.51 0 1.02-.2 1.41-.59l7.78-7.78 2.81-2.81c.8-.78.8-2.07 0-2.86zM5.41 20L4 18.59l7.72-7.72 1.47 1.35L5.41 20z\"/>\n",
              "  </svg>\n",
              "      </button>\n",
              "      \n",
              "  <style>\n",
              "    .colab-df-container {\n",
              "      display:flex;\n",
              "      flex-wrap:wrap;\n",
              "      gap: 12px;\n",
              "    }\n",
              "\n",
              "    .colab-df-convert {\n",
              "      background-color: #E8F0FE;\n",
              "      border: none;\n",
              "      border-radius: 50%;\n",
              "      cursor: pointer;\n",
              "      display: none;\n",
              "      fill: #1967D2;\n",
              "      height: 32px;\n",
              "      padding: 0 0 0 0;\n",
              "      width: 32px;\n",
              "    }\n",
              "\n",
              "    .colab-df-convert:hover {\n",
              "      background-color: #E2EBFA;\n",
              "      box-shadow: 0px 1px 2px rgba(60, 64, 67, 0.3), 0px 1px 3px 1px rgba(60, 64, 67, 0.15);\n",
              "      fill: #174EA6;\n",
              "    }\n",
              "\n",
              "    [theme=dark] .colab-df-convert {\n",
              "      background-color: #3B4455;\n",
              "      fill: #D2E3FC;\n",
              "    }\n",
              "\n",
              "    [theme=dark] .colab-df-convert:hover {\n",
              "      background-color: #434B5C;\n",
              "      box-shadow: 0px 1px 3px 1px rgba(0, 0, 0, 0.15);\n",
              "      filter: drop-shadow(0px 1px 2px rgba(0, 0, 0, 0.3));\n",
              "      fill: #FFFFFF;\n",
              "    }\n",
              "  </style>\n",
              "\n",
              "      <script>\n",
              "        const buttonEl =\n",
              "          document.querySelector('#df-2c1d1c23-de79-448d-8c8e-f5746fbd5942 button.colab-df-convert');\n",
              "        buttonEl.style.display =\n",
              "          google.colab.kernel.accessAllowed ? 'block' : 'none';\n",
              "\n",
              "        async function convertToInteractive(key) {\n",
              "          const element = document.querySelector('#df-2c1d1c23-de79-448d-8c8e-f5746fbd5942');\n",
              "          const dataTable =\n",
              "            await google.colab.kernel.invokeFunction('convertToInteractive',\n",
              "                                                     [key], {});\n",
              "          if (!dataTable) return;\n",
              "\n",
              "          const docLinkHtml = 'Like what you see? Visit the ' +\n",
              "            '<a target=\"_blank\" href=https://colab.research.google.com/notebooks/data_table.ipynb>data table notebook</a>'\n",
              "            + ' to learn more about interactive tables.';\n",
              "          element.innerHTML = '';\n",
              "          dataTable['output_type'] = 'display_data';\n",
              "          await google.colab.output.renderOutput(dataTable, element);\n",
              "          const docLink = document.createElement('div');\n",
              "          docLink.innerHTML = docLinkHtml;\n",
              "          element.appendChild(docLink);\n",
              "        }\n",
              "      </script>\n",
              "    </div>\n",
              "  </div>\n",
              "  "
            ]
          },
          "metadata": {},
          "execution_count": 502
        }
      ]
    },
    {
      "cell_type": "markdown",
      "source": [
        "To generate better insights from the data make visualization and plot of your Independent variable against\n",
        "Dependent variable."
      ],
      "metadata": {
        "id": "cRsx5UqpTy7-"
      }
    },
    {
      "cell_type": "code",
      "source": [
        "# Create a figure with width 10 inches and height 6 inches\n",
        "plt.figure(figsize=(10, 6))\n",
        "# Plot a scatter plot of the 'generation' column on the x-axis and the 'legendary_num' column on the y-axis\n",
        "plt.scatter(df2['generation'], df2['legendary_num'])\n",
        "# Set x-axis label and y-axis label \n",
        "plt.xlabel('Generation')\n",
        "plt.ylabel('Legendary Status (0: Not Legendary, 1: Legendary)')\n",
        "# Set the title of the plot\n",
        "plt.title('Relationship between Generation and Legendary Status')\n",
        "# Show the plot\n",
        "plt.show()"
      ],
      "metadata": {
        "colab": {
          "base_uri": "https://localhost:8080/",
          "height": 404
        },
        "id": "2eMEySSygytk",
        "outputId": "2584ba93-fdc4-4985-fe8c-d283c2b9ffd2"
      },
      "execution_count": 503,
      "outputs": [
        {
          "output_type": "display_data",
          "data": {
            "text/plain": [
              "<Figure size 720x432 with 1 Axes>"
            ],
            "image/png": "[encoded data removed]"
          },
          "metadata": {
            "needs_background": "light"
          }
        }
      ]
    },
    {
      "cell_type": "code",
      "source": [
        "# Create a figure with width 10 inches and height 6 inches\n",
        "plt.figure(figsize=(10, 6))\n",
        "# Plot a scatter plot of the 'total' column on the x-axis and the 'legendary_num' column on the y-axis\n",
        "plt.scatter(df2['total'], df2['legendary_num'])\n",
        "# Set x-axis label and y-axis label \n",
        "plt.xlabel('total')\n",
        "plt.ylabel('Legendary Status (0: Not Legendary, 1: Legendary)')\n",
        "# Set the title of the plot\n",
        "plt.title('Relationship between total and Legendary Status')\n",
        "# Show the plot\n",
        "plt.show()"
      ],
      "metadata": {
        "colab": {
          "base_uri": "https://localhost:8080/",
          "height": 404
        },
        "id": "QxbCGrOKg46k",
        "outputId": "44f47955-5c08-4548-9403-c72d582c6ee6"
      },
      "execution_count": 504,
      "outputs": [
        {
          "output_type": "display_data",
          "data": {
            "text/plain": [
              "<Figure size 720x432 with 1 Axes>"
            ],
            "image/png": "[encoded data removed]"
          },
          "metadata": {
            "needs_background": "light"
          }
        }
      ]
    },
    {
      "cell_type": "code",
      "source": [
        "# Create a subplot with a width of 12 inches and a height of 8 inches\n",
        "fig,ax = plt.subplots(figsize=(12,8))\n",
        "# Create a countplot\n",
        "sns.countplot(df2.legendary_num,hue=df2[\"type1\"],ax=ax)\n",
        "# Show the plot\n",
        "plt.show()"
      ],
      "metadata": {
        "colab": {
          "base_uri": "https://localhost:8080/",
          "height": 553
        },
        "id": "phxf6Y087eJl",
        "outputId": "092431b0-c479-4ddb-fa50-80257d513516"
      },
      "execution_count": 505,
      "outputs": [
        {
          "output_type": "stream",
          "name": "stderr",
          "text": [
            "/usr/local/lib/python3.8/dist-packages/seaborn/_decorators.py:36: FutureWarning: Pass the following variable as a keyword arg: x. From version 0.12, the only valid positional argument will be `data`, and passing other arguments without an explicit keyword will result in an error or misinterpretation.\n",
            "  warnings.warn(\n"
          ]
        },
        {
          "output_type": "display_data",
          "data": {
            "text/plain": [
              "<Figure size 864x576 with 1 Axes>"
            ],
            "image/png": "[encoded data removed]"
          },
          "metadata": {
            "needs_background": "light"
          }
        }
      ]
    },
    {
      "cell_type": "code",
      "source": [
        "# List of columns to be created\n",
        "columns = ['number', 'type1_num', 'total', 'hp', 'attack', 'defense', 'sp_attack', 'sp_defense', 'speed', 'generation']\n",
        "# Loop through the columns list and plot a histogram for each column\n",
        "for column in columns:\n",
        "    plt.figure()\n",
        "    df2[column].hist(bins=20)\n",
        "    plt.xlabel(column)\n",
        "    plt.ylabel('Frequency')\n",
        "# Plot a histogram for the legendary_num column\n",
        "df2['legendary_num'].hist(bins=20)\n",
        "# Label x and y respectively\n",
        "plt.xlabel('legendary_num')\n",
        "plt.ylabel('Frequency')\n",
        "# Show the plot\n",
        "plt.show()"
      ],
      "metadata": {
        "colab": {
          "base_uri": "https://localhost:8080/",
          "height": 1000
        },
        "id": "PSk6Tok7hw01",
        "outputId": "ad438fe5-f666-426f-e53e-25ff4a6d9fc9"
      },
      "execution_count": 506,
      "outputs": [
        {
          "output_type": "display_data",
          "data": {
            "text/plain": [
              "<Figure size 432x288 with 1 Axes>"
            ],
            "image/png": "[encoded data removed]"
          },
          "metadata": {
            "needs_background": "light"
          }
        },
        {
          "output_type": "display_data",
          "data": {
            "text/plain": [
              "<Figure size 432x288 with 1 Axes>"
            ],
            "image/png": "[encoded data removed]"
          },
          "metadata": {
            "needs_background": "light"
          }
        },
        {
          "output_type": "display_data",
          "data": {
            "text/plain": [
              "<Figure size 432x288 with 1 Axes>"
            ],
            "image/png": "[encoded data removed]"
          },
          "metadata": {
            "needs_background": "light"
          }
        },
        {
          "output_type": "display_data",
          "data": {
            "text/plain": [
              "<Figure size 432x288 with 1 Axes>"
            ],
            "image/png": "[encoded data removed]"
          },
          "metadata": {
            "needs_background": "light"
          }
        },
        {
          "output_type": "display_data",
          "data": {
            "text/plain": [
              "<Figure size 432x288 with 1 Axes>"
            ],
            "image/png": "[encoded data removed]"
          },
          "metadata": {
            "needs_background": "light"
          }
        },
        {
          "output_type": "display_data",
          "data": {
            "text/plain": [
              "<Figure size 432x288 with 1 Axes>"
            ],
            "image/png": "[encoded data removed]"
          },
          "metadata": {
            "needs_background": "light"
          }
        },
        {
          "output_type": "display_data",
          "data": {
            "text/plain": [
              "<Figure size 432x288 with 1 Axes>"
            ],
            "image/png": "[encoded data removed]"
          },
          "metadata": {
            "needs_background": "light"
          }
        },
        {
          "output_type": "display_data",
          "data": {
            "text/plain": [
              "<Figure size 432x288 with 1 Axes>"
            ],
            "image/png": "[encoded data removed]"
          },
          "metadata": {
            "needs_background": "light"
          }
        },
        {
          "output_type": "display_data",
          "data": {
            "text/plain": [
              "<Figure size 432x288 with 1 Axes>"
            ],
            "image/png": "[encoded data removed]"
          },
          "metadata": {
            "needs_background": "light"
          }
        },
        {
          "output_type": "display_data",
          "data": {
            "text/plain": [
              "<Figure size 432x288 with 1 Axes>"
            ],
            "image/png": "[encoded data removed]"
          },
          "metadata": {
            "needs_background": "light"
          }
        }
      ]
    },
    {
      "cell_type": "code",
      "source": [
        "# Drop column 'type1' since it has ordinal datas and above we have already created 'type1_num' column which contains data in numerical format\n",
        "df2 = df2.drop(\"type1\", axis=1)"
      ],
      "metadata": {
        "id": "xKVWTCWZDCbP"
      },
      "execution_count": 507,
      "outputs": []
    },
    {
      "cell_type": "code",
      "source": [
        "# Drop column 'legendary' since it has ordinal datas and above we have already created 'legendary_num' column which contains data in numerical format\n",
        "df2 = df2.drop('legendary', axis=1)"
      ],
      "metadata": {
        "id": "TJ3lQNyTDP5W"
      },
      "execution_count": 508,
      "outputs": []
    },
    {
      "cell_type": "code",
      "source": [
        "# Normalize the values in the DataFrame\n",
        "df2 = (df2 - df2.min()) / (df2.max() - df2.min())\n",
        "df2"
      ],
      "metadata": {
        "colab": {
          "base_uri": "https://localhost:8080/",
          "height": 424
        },
        "id": "qvSJ3UQQ_lp9",
        "outputId": "27679d26-0253-4887-f93e-6354b9c349d7"
      },
      "execution_count": 509,
      "outputs": [
        {
          "output_type": "execute_result",
          "data": {
            "text/plain": [
              "        number     total        hp    attack   defense  sp_attack  sp_defense  \\\n",
              "0     0.000000  0.150526  0.173228  0.237838  0.179592   0.298913    0.195652   \n",
              "1     0.001115  0.242105  0.232283  0.308108  0.236735   0.380435    0.260870   \n",
              "2     0.002230  0.368421  0.311024  0.416216  0.318367   0.489130    0.347826   \n",
              "3     0.002230  0.473684  0.311024  0.513514  0.481633   0.608696    0.434783   \n",
              "4     0.002230  0.368421  0.311024  0.416216  0.318367   0.489130    0.347826   \n",
              "...        ...       ...       ...       ...       ...        ...         ...   \n",
              "1067  0.997770  0.426316  0.389764  0.756757  0.510204   0.298913    0.391304   \n",
              "1068  0.998885  0.426316  0.389764  0.324324  0.224490   0.733696    0.260870   \n",
              "1069  1.000000  0.342105  0.389764  0.405405  0.306122   0.380435    0.260870   \n",
              "1070  1.000000  0.531579  0.389764  0.864865  0.591837   0.407609    0.478261   \n",
              "1071  1.000000  0.531579  0.389764  0.432432  0.306122   0.842391    0.347826   \n",
              "\n",
              "         speed  generation  type1_num  legendary_num  \n",
              "0     0.205128       0.125   0.000000            0.0  \n",
              "1     0.282051       0.125   0.000000            0.0  \n",
              "2     0.384615       0.125   0.000000            0.0  \n",
              "3     0.384615       0.125   0.000000            0.0  \n",
              "4     0.384615       0.125   0.000000            0.0  \n",
              "...        ...         ...        ...            ...  \n",
              "1067  0.128205       1.000   0.588235            1.0  \n",
              "1068  0.641026       1.000   0.882353            1.0  \n",
              "1069  0.384615       1.000   0.764706            1.0  \n",
              "1070  0.230769       1.000   0.764706            1.0  \n",
              "1071  0.743590       1.000   0.764706            1.0  \n",
              "\n",
              "[1072 rows x 11 columns]"
            ],
            "text/html": [
              "\n",
              "  <div id=\"df-036a5654-8f33-4cec-a0a5-8f4502793ace\">\n",
              "    <div class=\"colab-df-container\">\n",
              "      <div>\n",
              "<style scoped>\n",
              "    .dataframe tbody tr th:only-of-type {\n",
              "        vertical-align: middle;\n",
              "    }\n",
              "\n",
              "    .dataframe tbody tr th {\n",
              "        vertical-align: top;\n",
              "    }\n",
              "\n",
              "    .dataframe thead th {\n",
              "        text-align: right;\n",
              "    }\n",
              "</style>\n",
              "<table border=\"1\" class=\"dataframe\">\n",
              "  <thead>\n",
              "    <tr style=\"text-align: right;\">\n",
              "      <th></th>\n",
              "      <th>number</th>\n",
              "      <th>total</th>\n",
              "      <th>hp</th>\n",
              "      <th>attack</th>\n",
              "      <th>defense</th>\n",
              "      <th>sp_attack</th>\n",
              "      <th>sp_defense</th>\n",
              "      <th>speed</th>\n",
              "      <th>generation</th>\n",
              "      <th>type1_num</th>\n",
              "      <th>legendary_num</th>\n",
              "    </tr>\n",
              "  </thead>\n",
              "  <tbody>\n",
              "    <tr>\n",
              "      <th>0</th>\n",
              "      <td>0.000000</td>\n",
              "      <td>0.150526</td>\n",
              "      <td>0.173228</td>\n",
              "      <td>0.237838</td>\n",
              "      <td>0.179592</td>\n",
              "      <td>0.298913</td>\n",
              "      <td>0.195652</td>\n",
              "      <td>0.205128</td>\n",
              "      <td>0.125</td>\n",
              "      <td>0.000000</td>\n",
              "      <td>0.0</td>\n",
              "    </tr>\n",
              "    <tr>\n",
              "      <th>1</th>\n",
              "      <td>0.001115</td>\n",
              "      <td>0.242105</td>\n",
              "      <td>0.232283</td>\n",
              "      <td>0.308108</td>\n",
              "      <td>0.236735</td>\n",
              "      <td>0.380435</td>\n",
              "      <td>0.260870</td>\n",
              "      <td>0.282051</td>\n",
              "      <td>0.125</td>\n",
              "      <td>0.000000</td>\n",
              "      <td>0.0</td>\n",
              "    </tr>\n",
              "    <tr>\n",
              "      <th>2</th>\n",
              "      <td>0.002230</td>\n",
              "      <td>0.368421</td>\n",
              "      <td>0.311024</td>\n",
              "      <td>0.416216</td>\n",
              "      <td>0.318367</td>\n",
              "      <td>0.489130</td>\n",
              "      <td>0.347826</td>\n",
              "      <td>0.384615</td>\n",
              "      <td>0.125</td>\n",
              "      <td>0.000000</td>\n",
              "      <td>0.0</td>\n",
              "    </tr>\n",
              "    <tr>\n",
              "      <th>3</th>\n",
              "      <td>0.002230</td>\n",
              "      <td>0.473684</td>\n",
              "      <td>0.311024</td>\n",
              "      <td>0.513514</td>\n",
              "      <td>0.481633</td>\n",
              "      <td>0.608696</td>\n",
              "      <td>0.434783</td>\n",
              "      <td>0.384615</td>\n",
              "      <td>0.125</td>\n",
              "      <td>0.000000</td>\n",
              "      <td>0.0</td>\n",
              "    </tr>\n",
              "    <tr>\n",
              "      <th>4</th>\n",
              "      <td>0.002230</td>\n",
              "      <td>0.368421</td>\n",
              "      <td>0.311024</td>\n",
              "      <td>0.416216</td>\n",
              "      <td>0.318367</td>\n",
              "      <td>0.489130</td>\n",
              "      <td>0.347826</td>\n",
              "      <td>0.384615</td>\n",
              "      <td>0.125</td>\n",
              "      <td>0.000000</td>\n",
              "      <td>0.0</td>\n",
              "    </tr>\n",
              "    <tr>\n",
              "      <th>...</th>\n",
              "      <td>...</td>\n",
              "      <td>...</td>\n",
              "      <td>...</td>\n",
              "      <td>...</td>\n",
              "      <td>...</td>\n",
              "      <td>...</td>\n",
              "      <td>...</td>\n",
              "      <td>...</td>\n",
              "      <td>...</td>\n",
              "      <td>...</td>\n",
              "      <td>...</td>\n",
              "    </tr>\n",
              "    <tr>\n",
              "      <th>1067</th>\n",
              "      <td>0.997770</td>\n",
              "      <td>0.426316</td>\n",
              "      <td>0.389764</td>\n",
              "      <td>0.756757</td>\n",
              "      <td>0.510204</td>\n",
              "      <td>0.298913</td>\n",
              "      <td>0.391304</td>\n",
              "      <td>0.128205</td>\n",
              "      <td>1.000</td>\n",
              "      <td>0.588235</td>\n",
              "      <td>1.0</td>\n",
              "    </tr>\n",
              "    <tr>\n",
              "      <th>1068</th>\n",
              "      <td>0.998885</td>\n",
              "      <td>0.426316</td>\n",
              "      <td>0.389764</td>\n",
              "      <td>0.324324</td>\n",
              "      <td>0.224490</td>\n",
              "      <td>0.733696</td>\n",
              "      <td>0.260870</td>\n",
              "      <td>0.641026</td>\n",
              "      <td>1.000</td>\n",
              "      <td>0.882353</td>\n",
              "      <td>1.0</td>\n",
              "    </tr>\n",
              "    <tr>\n",
              "      <th>1069</th>\n",
              "      <td>1.000000</td>\n",
              "      <td>0.342105</td>\n",
              "      <td>0.389764</td>\n",
              "      <td>0.405405</td>\n",
              "      <td>0.306122</td>\n",
              "      <td>0.380435</td>\n",
              "      <td>0.260870</td>\n",
              "      <td>0.384615</td>\n",
              "      <td>1.000</td>\n",
              "      <td>0.764706</td>\n",
              "      <td>1.0</td>\n",
              "    </tr>\n",
              "    <tr>\n",
              "      <th>1070</th>\n",
              "      <td>1.000000</td>\n",
              "      <td>0.531579</td>\n",
              "      <td>0.389764</td>\n",
              "      <td>0.864865</td>\n",
              "      <td>0.591837</td>\n",
              "      <td>0.407609</td>\n",
              "      <td>0.478261</td>\n",
              "      <td>0.230769</td>\n",
              "      <td>1.000</td>\n",
              "      <td>0.764706</td>\n",
              "      <td>1.0</td>\n",
              "    </tr>\n",
              "    <tr>\n",
              "      <th>1071</th>\n",
              "      <td>1.000000</td>\n",
              "      <td>0.531579</td>\n",
              "      <td>0.389764</td>\n",
              "      <td>0.432432</td>\n",
              "      <td>0.306122</td>\n",
              "      <td>0.842391</td>\n",
              "      <td>0.347826</td>\n",
              "      <td>0.743590</td>\n",
              "      <td>1.000</td>\n",
              "      <td>0.764706</td>\n",
              "      <td>1.0</td>\n",
              "    </tr>\n",
              "  </tbody>\n",
              "</table>\n",
              "<p>1072 rows × 11 columns</p>\n",
              "</div>\n",
              "      <button class=\"colab-df-convert\" onclick=\"convertToInteractive('df-036a5654-8f33-4cec-a0a5-8f4502793ace')\"\n",
              "              title=\"Convert this dataframe to an interactive table.\"\n",
              "              style=\"display:none;\">\n",
              "        \n",
              "  <svg xmlns=\"http://www.w3.org/2000/svg\" height=\"24px\"viewBox=\"0 0 24 24\"\n",
              "       width=\"24px\">\n",
              "    <path d=\"M0 0h24v24H0V0z\" fill=\"none\"/>\n",
              "    <path d=\"M18.56 5.44l.94 2.06.94-2.06 2.06-.94-2.06-.94-.94-2.06-.94 2.06-2.06.94zm-11 1L8.5 8.5l.94-2.06 2.06-.94-2.06-.94L8.5 2.5l-.94 2.06-2.06.94zm10 10l.94 2.06.94-2.06 2.06-.94-2.06-.94-.94-2.06-.94 2.06-2.06.94z\"/><path d=\"M17.41 7.96l-1.37-1.37c-.4-.4-.92-.59-1.43-.59-.52 0-1.04.2-1.43.59L10.3 9.45l-7.72 7.72c-.78.78-.78 2.05 0 2.83L4 21.41c.39.39.9.59 1.41.59.51 0 1.02-.2 1.41-.59l7.78-7.78 2.81-2.81c.8-.78.8-2.07 0-2.86zM5.41 20L4 18.59l7.72-7.72 1.47 1.35L5.41 20z\"/>\n",
              "  </svg>\n",
              "      </button>\n",
              "      \n",
              "  <style>\n",
              "    .colab-df-container {\n",
              "      display:flex;\n",
              "      flex-wrap:wrap;\n",
              "      gap: 12px;\n",
              "    }\n",
              "\n",
              "    .colab-df-convert {\n",
              "      background-color: #E8F0FE;\n",
              "      border: none;\n",
              "      border-radius: 50%;\n",
              "      cursor: pointer;\n",
              "      display: none;\n",
              "      fill: #1967D2;\n",
              "      height: 32px;\n",
              "      padding: 0 0 0 0;\n",
              "      width: 32px;\n",
              "    }\n",
              "\n",
              "    .colab-df-convert:hover {\n",
              "      background-color: #E2EBFA;\n",
              "      box-shadow: 0px 1px 2px rgba(60, 64, 67, 0.3), 0px 1px 3px 1px rgba(60, 64, 67, 0.15);\n",
              "      fill: #174EA6;\n",
              "    }\n",
              "\n",
              "    [theme=dark] .colab-df-convert {\n",
              "      background-color: #3B4455;\n",
              "      fill: #D2E3FC;\n",
              "    }\n",
              "\n",
              "    [theme=dark] .colab-df-convert:hover {\n",
              "      background-color: #434B5C;\n",
              "      box-shadow: 0px 1px 3px 1px rgba(0, 0, 0, 0.15);\n",
              "      filter: drop-shadow(0px 1px 2px rgba(0, 0, 0, 0.3));\n",
              "      fill: #FFFFFF;\n",
              "    }\n",
              "  </style>\n",
              "\n",
              "      <script>\n",
              "        const buttonEl =\n",
              "          document.querySelector('#df-036a5654-8f33-4cec-a0a5-8f4502793ace button.colab-df-convert');\n",
              "        buttonEl.style.display =\n",
              "          google.colab.kernel.accessAllowed ? 'block' : 'none';\n",
              "\n",
              "        async function convertToInteractive(key) {\n",
              "          const element = document.querySelector('#df-036a5654-8f33-4cec-a0a5-8f4502793ace');\n",
              "          const dataTable =\n",
              "            await google.colab.kernel.invokeFunction('convertToInteractive',\n",
              "                                                     [key], {});\n",
              "          if (!dataTable) return;\n",
              "\n",
              "          const docLinkHtml = 'Like what you see? Visit the ' +\n",
              "            '<a target=\"_blank\" href=https://colab.research.google.com/notebooks/data_table.ipynb>data table notebook</a>'\n",
              "            + ' to learn more about interactive tables.';\n",
              "          element.innerHTML = '';\n",
              "          dataTable['output_type'] = 'display_data';\n",
              "          await google.colab.output.renderOutput(dataTable, element);\n",
              "          const docLink = document.createElement('div');\n",
              "          docLink.innerHTML = docLinkHtml;\n",
              "          element.appendChild(docLink);\n",
              "        }\n",
              "      </script>\n",
              "    </div>\n",
              "  </div>\n",
              "  "
            ]
          },
          "metadata": {},
          "execution_count": 509
        }
      ]
    },
    {
      "cell_type": "markdown",
      "source": [
        "##**3. Build Primary Model[Logistic Regression]:**"
      ],
      "metadata": {
        "id": "Y4fHA9NWT182"
      }
    },
    {
      "cell_type": "markdown",
      "source": [
        "Once you have cleaned, transformed and Visualize your data build Logistic Regression Model from Scratch."
      ],
      "metadata": {
        "id": "J-JavpMoT8bf"
      }
    },
    {
      "cell_type": "code",
      "source": [
        "# Replace NaN values with the mean of the respective column\n",
        "df2.fillna(df2.mean(), inplace=True)\n",
        "\n",
        "# Split the data into features and target variables\n",
        "x = df2.drop(\"legendary_num\",axis=1)\n",
        "y = df2[\"legendary_num\"]\n",
        "\n",
        "# Split the data into training and testing sets\n",
        "x_train, x_test, y_train, y_test = train_test_split(x, y, test_size=0.2, random_state=1)\n",
        "\n",
        "# Create a logistic regression model\n",
        "lr = LogisticRegression()\n",
        "\n",
        "# Fit the model with the training data\n",
        "lr.fit(x_train, y_train)\n",
        "\n",
        "# Evaluate the model on the test data\n",
        "print(lr.score(x_test, y_test))"
      ],
      "metadata": {
        "colab": {
          "base_uri": "https://localhost:8080/"
        },
        "id": "aRQzqCSpDktm",
        "outputId": "5c64ae9f-dd7a-4ee8-ad49-1fddb9a21047"
      },
      "execution_count": 510,
      "outputs": [
        {
          "output_type": "stream",
          "name": "stdout",
          "text": [
            "0.9209302325581395\n"
          ]
        }
      ]
    },
    {
      "cell_type": "code",
      "source": [
        "# Create an instance of logistic regression model\n",
        "lr = LogisticRegression()\n",
        "# Train the test data\n",
        "lr.fit(x_train,y_train)\n",
        "# Print accuracy score\n",
        "print(lr.score(x_test,y_test)) "
      ],
      "metadata": {
        "id": "ZaQLWdGFT-A2",
        "colab": {
          "base_uri": "https://localhost:8080/"
        },
        "outputId": "44938536-e444-4aaa-b3bd-dc671c85438e"
      },
      "execution_count": 511,
      "outputs": [
        {
          "output_type": "stream",
          "name": "stdout",
          "text": [
            "0.9209302325581395\n"
          ]
        }
      ]
    },
    {
      "cell_type": "markdown",
      "source": [
        "Therefore, 92% is the KNN score, which appears to be a good result for the trained model."
      ],
      "metadata": {
        "id": "1iKqeuTDHo-e"
      }
    },
    {
      "cell_type": "markdown",
      "source": [
        "##**4. Model Evaluation:**"
      ],
      "metadata": {
        "id": "3cCUL1qgT-VR"
      }
    },
    {
      "cell_type": "markdown",
      "source": [
        "Pick an appropriate evaluation metric to evaluate your model on the test set."
      ],
      "metadata": {
        "id": "oQV7DjUZUBae"
      }
    },
    {
      "cell_type": "code",
      "source": [
        "# Evaluate the accuracy of the model\n",
        "y_pred = lr.predict(x_test)\n",
        "accuracy = accuracy_score(y_test, y_pred)\n",
        "print(\"Accuracy:\", accuracy)"
      ],
      "metadata": {
        "id": "3Kp6_c1FUCrX",
        "colab": {
          "base_uri": "https://localhost:8080/"
        },
        "outputId": "f11759c6-d4b1-4c90-8214-27bc18de7c3e"
      },
      "execution_count": 512,
      "outputs": [
        {
          "output_type": "stream",
          "name": "stdout",
          "text": [
            "Accuracy: 0.9209302325581395\n"
          ]
        }
      ]
    },
    {
      "cell_type": "markdown",
      "source": [
        "##**5. Dimensionality Reduction:**"
      ],
      "metadata": {
        "id": "at76ufF_UC92"
      }
    },
    {
      "cell_type": "markdown",
      "source": [
        "Apply Principal Component Analysis to reduce the dimension and rebuild the model with reduced fea-\n",
        "tures,evaluate the model and Compare the output with the evaluation from step 4."
      ],
      "metadata": {
        "id": "PFKf1zMHUGjN"
      }
    },
    {
      "cell_type": "code",
      "source": [
        "# Initialize the PCA class and fit it to the data\n",
        "pca = PCA()\n",
        "pca.fit(x)\n",
        "# Transform the original data into a lower-dimensional representation\n",
        "x_reduced = pca.transform(x)\n",
        "# Split the reduced data and the target variable into training and testing sets\n",
        "x_train_reduced, x_test_reduced, y_train, y_test = train_test_split(x_reduced, y, test_size=0.2, random_state=1)\n",
        "# Initialize a logistic regression classifier and fit it to the training data\n",
        "lr = LogisticRegression()\n",
        "lr.fit(x_train_reduced, y_train)\n",
        "# Evaluate the performance of the model on the test data\n",
        "print(lr.score(x_test_reduced, y_test))\n",
        "# Predict the target variable for the test data\n",
        "y_pred = lr.predict(x_test_reduced)\n",
        "# Calculate the accuracy of the model\n",
        "accuracy = accuracy_score(y_test, y_pred)\n",
        "print(\"Accuracy:\", accuracy)\n",
        "# Compare the accuracy of the model before and after dimensionality reduction\n",
        "if accuracy > accuracy:\n",
        "    print(\"After utilizing PCA to reduce the amount of features, the accuracy has improved.\")\n",
        "else:\n",
        "    print(\"After utilizing PCA to reduce the amount of features, the accuracy has not improved.\")"
      ],
      "metadata": {
        "id": "Mn7NO6beUIOm",
        "colab": {
          "base_uri": "https://localhost:8080/"
        },
        "outputId": "d339d2a4-f441-4b54-ca1a-3792402171d7"
      },
      "execution_count": 513,
      "outputs": [
        {
          "output_type": "stream",
          "name": "stdout",
          "text": [
            "0.9209302325581395\n",
            "Accuracy: 0.9209302325581395\n",
            "After utilizing PCA to reduce the amount of features, the accuracy has not improved.\n"
          ]
        }
      ]
    },
    {
      "cell_type": "markdown",
      "source": [
        "##**6. Conclusion:**"
      ],
      "metadata": {
        "id": "clDBu1lsUIhe"
      }
    },
    {
      "cell_type": "markdown",
      "source": [
        "Conclude the result of the comparison."
      ],
      "metadata": {
        "id": "gqYMDH78ULfX"
      }
    },
    {
      "cell_type": "markdown",
      "source": [
        "The results suggest that the accuracy of the logistic regression model was unaffected by lowering the number of features using PCA. The accuracy score remained constant, which indicates that the reduced features still capture the important information needed to make predictions."
      ],
      "metadata": {
        "id": "1ZiIQ9DkJ9p7"
      }
    }
  ]
}