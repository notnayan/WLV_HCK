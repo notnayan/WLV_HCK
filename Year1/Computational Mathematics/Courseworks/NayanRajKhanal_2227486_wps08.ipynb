{
 "cells": [
  {
   "cell_type": "markdown",
   "metadata": {},
   "source": [
    "## Python Workshop 8 (Coursework -2)"
   ]
  },
  {
   "cell_type": "markdown",
   "metadata": {},
   "source": [
    "<div class=\"alert alert-block alert-info\">Read and examine the text below and then answer the 8 questions that follow <b>and submit your work to the Canvas 2nd assesment portal provided, towards your portfolio.</b></div>"
   ]
  },
  {
   "cell_type": "markdown",
   "metadata": {},
   "source": [
    "#### Please enter your name in the cell below:"
   ]
  },
  {
   "cell_type": "markdown",
   "metadata": {},
   "source": [
    "Name: Nayan Raj Khanal   <br>\n",
    "ID: 2227486"
   ]
  },
  {
   "cell_type": "markdown",
   "metadata": {},
   "source": [
    "<div class=\"alert alert-block alert-danger\">\n",
    "Try to write the Python code to answer the following questions in the cells below. <i>You may use Python built-in or library functions that might help but <b>not</b> third-party libraries such as Numpy.</i> </div>"
   ]
  },
  {
   "cell_type": "markdown",
   "metadata": {},
   "source": [
    "#### <font color=\"red\"><b>1.</b></font> Identify the base case in the my_len recursive function below then convert the function into an iterative version.\n",
    "<code>\n",
    "def my_len(p, n):\n",
    "    if p == []: return n\n",
    "    else: return my_len(p[1:], n+1)\n",
    "</code>"
   ]
  },
  {
   "cell_type": "code",
   "execution_count": 10,
   "metadata": {},
   "outputs": [],
   "source": [
    "# If p == []: return n, is the base case!"
   ]
  },
  {
   "cell_type": "code",
   "execution_count": 70,
   "metadata": {},
   "outputs": [
    {
     "data": {
      "text/plain": [
       "7"
      ]
     },
     "execution_count": 70,
     "metadata": {},
     "output_type": "execute_result"
    }
   ],
   "source": [
    "# Creating a function\n",
    "def my_len(p):\n",
    "    \n",
    "    # Initializing the variable\n",
    "    count = 0\n",
    "    \n",
    "    # Looping i through p\n",
    "    for i in p:\n",
    "        count += 1\n",
    "    return count\n",
    "\n",
    "my_len([2,2,2,7,4,8,6])"
   ]
  },
  {
   "cell_type": "markdown",
   "metadata": {},
   "source": [
    "#### <font color=\"red\"><b>2.</b></font> Convert the following iterative (non-recursive) functions into the equivalent recursive functions.\n",
    "<code>\n",
    "def sum_even(n):\n",
    "    total = 0\n",
    "    for i in range(2, n+1, 2):\n",
    "        total += i\n",
    "    return total\n",
    "\n",
    "def min(t):\n",
    "    m = 0\n",
    "    for i in t:\n",
    "        if i < m: m = i\n",
    "    return m\n",
    "</code>\n",
    "<b><i>Hint: You may find it necessary to add an extra parameter for the recursive version.</i></b>"
   ]
  },
  {
   "cell_type": "code",
   "execution_count": 71,
   "metadata": {},
   "outputs": [
    {
     "data": {
      "text/plain": [
       "12"
      ]
     },
     "execution_count": 71,
     "metadata": {},
     "output_type": "execute_result"
    }
   ],
   "source": [
    "# Creating a function\n",
    "def sum_even(n):\n",
    "    \n",
    "    # Creating a terminating condition(base case)\n",
    "    if n < 1:\n",
    "        return 0\n",
    "    \n",
    "    # If the remainder is zero\n",
    "    if (n % 2) == 0: \n",
    "        \n",
    "        # Calling the same function inside itself that carries out the given calculation simplyfying its data\n",
    "        return n + sum_even(n - 1)\n",
    "    return sum_even(n - 1)\n",
    "\n",
    "sum_even(7)"
   ]
  },
  {
   "cell_type": "code",
   "execution_count": 72,
   "metadata": {},
   "outputs": [
    {
     "name": "stdout",
     "output_type": "stream",
     "text": [
      "-25\n"
     ]
    }
   ],
   "source": [
    "# Creating a function\n",
    "def min(t):\n",
    "    \n",
    "    # Initializing the variable\n",
    "    m=0\n",
    "    \n",
    "    # Creating a terminating conition(base case) i.e. if the list is empty\n",
    "    if t==[]:\n",
    "        return m\n",
    "    \n",
    "    else:\n",
    "        # If the list element is less than variable make that element the smallest number\n",
    "        if t[0]<m:\n",
    "            m=t[0]\n",
    "            \n",
    "        # Truncating the 1st index\n",
    "        min(t[1:])\n",
    "        \n",
    "min([5,-25,-10,60,45])\n",
    "print(m)"
   ]
  },
  {
   "cell_type": "markdown",
   "metadata": {},
   "source": [
    "#### <font color=\"red\"><b>3.</b></font> Consider a function:<br><br>  $ f(n) = \\begin{equation} \\left\\{ \\begin{array} \\text{1,} \\mathrm{if n=1} \\\\ \\text{2.} f(n-1)+1, \\mathrm{if n>1} \\end{array} \\right. \\end{equation} $\n",
    "<b>What is</b> $ f(5) $ ?<br> \n",
    "<b>Write the equivalent python function and confirm your answer.</b>"
   ]
  },
  {
   "cell_type": "code",
   "execution_count": 73,
   "metadata": {},
   "outputs": [
    {
     "data": {
      "text/plain": [
       "31"
      ]
     },
     "execution_count": 73,
     "metadata": {},
     "output_type": "execute_result"
    }
   ],
   "source": [
    "# Creating a function\n",
    "def f(n):\n",
    "    \n",
    "    # Creating a terminating condition(base case)\n",
    "    if n == 1:\n",
    "        return 1\n",
    "    \n",
    "    # Calling the same function inside itself that carries out the given calculation simplyfying its data\n",
    "    if (n > 1):\n",
    "        return 2 * f(n - 1) + 1\n",
    "\n",
    "f(5)"
   ]
  },
  {
   "cell_type": "markdown",
   "metadata": {},
   "source": [
    "#### <font color=\"red\"><b>4.</b></font> A function operating on positive integers is described by:<br><br> $ f(n) = \\begin{equation} \\left\\{ \\begin{array} \\text{1,} \\mathrm{if n=1} \\\\ f(n-1)+2, \\mathrm{if n>1} \\end{array} \\right. \\end{equation} $\n",
    "\n",
    "<b>Redefine the function above into a simple non-recursive formula.</b>\n"
   ]
  },
  {
   "cell_type": "code",
   "execution_count": 74,
   "metadata": {},
   "outputs": [
    {
     "data": {
      "text/plain": [
       "13"
      ]
     },
     "execution_count": 74,
     "metadata": {},
     "output_type": "execute_result"
    }
   ],
   "source": [
    "# Creating a function\n",
    "def f(n):\n",
    "    \n",
    "    # Looping i through 1st index till nth index\n",
    "    for i in range (1,n):\n",
    "        n+=1\n",
    "    return n\n",
    "\n",
    "f(7)"
   ]
  },
  {
   "cell_type": "markdown",
   "metadata": {},
   "source": [
    "#### <font color=\"red\"><b>5.</b></font> Convert the following recursive functions into iterative functions.\n",
    "<code>\n",
    "def max(k, n):\n",
    "    if k == []: return n\n",
    "    elif k[0] > n: return max(k[1:], k[0])\n",
    "    else: return max(k[1:], n)\n",
    "\n",
    "def sum_odd(n, total):\n",
    "    if n == 1: return total\n",
    "    elif n % 2 == 0: return sum_odd(n – 1, total)\n",
    "    else: return sum_odd(n – 2, total + n)\n",
    "</code>\n",
    "<b><i>Hint: You may find it necessary to reduce the number of parameters for the iterative version.</i></b>"
   ]
  },
  {
   "cell_type": "code",
   "execution_count": 75,
   "metadata": {},
   "outputs": [
    {
     "data": {
      "text/plain": [
       "11111"
      ]
     },
     "execution_count": 75,
     "metadata": {},
     "output_type": "execute_result"
    }
   ],
   "source": [
    "# Creating a function\n",
    "def max(k):\n",
    "    \n",
    "    # Initializing the variable\n",
    "    n = k[0]\n",
    "    \n",
    "    # Looping i through k\n",
    "    for i in k:\n",
    "        \n",
    "        # If the condition is satisfied, making the value of n as i or vice-versa\n",
    "        if i > n:\n",
    "            n = i\n",
    "    return n\n",
    "\n",
    "max([1, 11, 111, 1111, 11111])"
   ]
  },
  {
   "cell_type": "code",
   "execution_count": 76,
   "metadata": {},
   "outputs": [
    {
     "data": {
      "text/plain": [
       "1225"
      ]
     },
     "execution_count": 76,
     "metadata": {},
     "output_type": "execute_result"
    }
   ],
   "source": [
    "# Creating a function\n",
    "def sum_odd(n):\n",
    "    \n",
    "    # Initializing the variable\n",
    "    total = 0\n",
    "    \n",
    "    # Looping i through n+1 starting from 1st index jumping 2 steps at a time\n",
    "    for i in range(1, n+1, 2):\n",
    "        total += i\n",
    "    return total\n",
    "\n",
    "sum_odd(69)"
   ]
  },
  {
   "cell_type": "markdown",
   "metadata": {},
   "source": [
    "#### <font color=\"red\"><b>6.</b></font> Define $ f(n) = 2^n $  recursively, in terms of $ f(n-1) $, for all integers. Write a Python program to implement your solution."
   ]
  },
  {
   "cell_type": "code",
   "execution_count": 77,
   "metadata": {},
   "outputs": [
    {
     "data": {
      "text/plain": [
       "128"
      ]
     },
     "execution_count": 77,
     "metadata": {},
     "output_type": "execute_result"
    }
   ],
   "source": [
    "# Creating a function\n",
    "def f(n):\n",
    "    \n",
    "    # Creating a terminating condition(base case)\n",
    "    if n == 1:\n",
    "        return 2\n",
    "\n",
    "    # Calling the same function inside itself that carries out the given calculation simplyfying its data\n",
    "    else:\n",
    "        return 2 * powTwo(n - 1)\n",
    "\n",
    "f(7)"
   ]
  },
  {
   "cell_type": "markdown",
   "metadata": {},
   "source": [
    "#### <font color=\"red\"><b>7.</b></font> Ackermann's function is defined as:<br><br> $ A(m, n) = \\begin{equation} \\left\\{ \\begin{array} \\text{n + 1,} \\text{  if m=0} \\\\ A(m \\text{-1,1}), \\text{ if m>0 and n=0} \\\\ A(m \\text{-1,}A(m,n \\text{-1})), \\text{  if m>0 and n> 0}  \\end{array} \\right. \\end{equation} $\n",
    "<b>Write a recursive Python function to implement Ackermann's function. How many recursive calls will be required to evaluate <font color=\"red\"><i>A(2,3)</i></font>?</b> <b><i>Hint: You may need to use a <font color=\"blue\">trace table</font> to calculate the calls</i></b>"
   ]
  },
  {
   "cell_type": "code",
   "execution_count": 78,
   "metadata": {},
   "outputs": [
    {
     "name": "stdout",
     "output_type": "stream",
     "text": [
      "recursive_time  m   n\n",
      " 0              2   3\n",
      " 1              2   2\n",
      " 2              2   1\n",
      " 3              2   0\n",
      " 4              1   1\n",
      " 5              1   0\n",
      " 6              0   1\n",
      " 7              0   2\n",
      " 8              1   3\n",
      " 9              1   2\n",
      "10              1   1\n",
      "11              1   0\n",
      "12              0   1\n",
      "13              0   2\n",
      "14              0   3\n",
      "15              0   4\n",
      "16              1   5\n",
      "17              1   4\n",
      "18              1   3\n",
      "19              1   2\n",
      "20              1   1\n",
      "21              1   0\n",
      "22              0   1\n",
      "23              0   2\n",
      "24              0   3\n",
      "25              0   4\n",
      "26              0   5\n",
      "27              0   6\n",
      "28              1   7\n",
      "29              1   6\n",
      "30              1   5\n",
      "31              1   4\n",
      "32              1   3\n",
      "33              1   2\n",
      "34              1   1\n",
      "35              1   0\n",
      "36              0   1\n",
      "37              0   2\n",
      "38              0   3\n",
      "39              0   4\n",
      "40              0   5\n",
      "41              0   6\n",
      "42              0   7\n",
      "43              0   8\n",
      "Solution:  9\n",
      "Recursive Time:  44\n"
     ]
    }
   ],
   "source": [
    "# Creating the headings for the trace table\n",
    "print(\"recursive_time  m   n\")\n",
    "\n",
    "# Initializing the variable \n",
    "recursive_time=0\n",
    "\n",
    "# Creating a function\n",
    "def A(m, n):\n",
    "    \n",
    "    # Calling the variable from outside the function \n",
    "    global recursive_time\n",
    "    \n",
    "    # Implementing the correct spacing and formatting\n",
    "    print(\"{:2d}{:15d}{:4d}\".format(recursive_time,m,n))\n",
    "    \n",
    "    # Incrementing the variable by 1\n",
    "    recursive_time+=1\n",
    "    \n",
    "    # Implementing the 1st base case \n",
    "    if m == 0:\n",
    "        \n",
    "        # Returns the given calculation of the non-negative integer if the condition is satisfied \n",
    "        return n + 1\n",
    "    \n",
    "    # Implementing the 2nd base case\n",
    "    if (m > 0 and n == 0):\n",
    "        \n",
    "        # Returns the given calculation of two non-negative intergers if the condition is satisfied \n",
    "        return A(m-1, 1)\n",
    "    \n",
    "    #Implementing the 3rd base case\n",
    "    if (m > 0 and n > 0):\n",
    "        \n",
    "        # Returns the given calculation of two non-negative intergers if the condition is satisfied\n",
    "        return A(m - 1, A(m, n - 1))\n",
    "\n",
    "print(\"Solution: \", A(2, 3))\n",
    "print(\"Recursive Time: \", recursive_time)"
   ]
  },
  {
   "cell_type": "markdown",
   "metadata": {},
   "source": [
    "<b>... and the number of calls?</b>"
   ]
  },
  {
   "cell_type": "code",
   "execution_count": 79,
   "metadata": {},
   "outputs": [
    {
     "data": {
      "text/plain": [
       "44"
      ]
     },
     "execution_count": 79,
     "metadata": {},
     "output_type": "execute_result"
    }
   ],
   "source": [
    "44"
   ]
  },
  {
   "cell_type": "markdown",
   "metadata": {},
   "source": [
    "#### <font color=\"red\"><b>8.</b></font> Create a recursive function <i>intToBin(n)</i> that takes a non-negative integer and returns a string of its binary digits.  For example, intToBin(6) returns '110'. <i>Hint: implement two base cases: n == 0 and n == 1: as they cover the situations when n has only one binary digit.</i>"
   ]
  },
  {
   "cell_type": "code",
   "execution_count": 80,
   "metadata": {},
   "outputs": [
    {
     "name": "stdout",
     "output_type": "stream",
     "text": [
      "110\n"
     ]
    }
   ],
   "source": [
    "# Creating a recursive function\n",
    "def intToBin(n):\n",
    "    \n",
    "    # Implementing two terminating conditions(base cases)\n",
    "    if n==0 or n==1:\n",
    "        return n\n",
    "    \n",
    "    # Calling the function itself and typecasting it as string and then converting the integer as binary \n",
    "    else:\n",
    "        return (str(intToBin(int(n/2)))+str(n%2))\n",
    "    \n",
    "print(intToBin(6))"
   ]
  },
  {
   "cell_type": "markdown",
   "metadata": {},
   "source": [
    "### Downloading your workbook"
   ]
  },
  {
   "cell_type": "markdown",
   "metadata": {},
   "source": [
    "Please note even if you are running Jupyter on your computer (ie. not on a network) the Jupyter notebook runs as a server, so you are editing and running a file that is not easily accessed on your filing system. So to obtain your workbook (to use on a different computer or upload as an assignment, etc.) it must be downloaded to your file system. To do this..."
   ]
  },
  {
   "cell_type": "markdown",
   "metadata": {},
   "source": [
    "<div class=\"alert alert-block alert-info\">Goto the <b>\"File\"</b> menu and select the <b>\"Download as\"</b> item. You can then select <b>\"notebook (ipynb)\"</b> to download.</div>"
   ]
  }
 ],
 "metadata": {
  "kernelspec": {
   "display_name": "Python 3 (ipykernel)",
   "language": "python",
   "name": "python3"
  },
  "language_info": {
   "codemirror_mode": {
    "name": "ipython",
    "version": 3
   },
   "file_extension": ".py",
   "mimetype": "text/x-python",
   "name": "python",
   "nbconvert_exporter": "python",
   "pygments_lexer": "ipython3",
   "version": "3.9.12"
  }
 },
 "nbformat": 4,
 "nbformat_minor": 2
}
