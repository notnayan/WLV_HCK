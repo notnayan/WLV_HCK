{
 "cells": [
  {
   "cell_type": "markdown",
   "metadata": {},
   "source": [
    "## Python Workshop 4 Exercises"
   ]
  },
  {
   "cell_type": "markdown",
   "metadata": {},
   "source": [
    "<div class=\"alert alert-block alert-info\">Examine and test the example code below, then devise and write your code to answer the 5 questions that follow <b>and submit your work to the Canvas portal provided, for assesment, towards your portfolio.</b></div>"
   ]
  },
  {
   "cell_type": "markdown",
   "metadata": {},
   "source": [
    "#### Please enter your name in the cell below:"
   ]
  },
  {
   "cell_type": "markdown",
   "metadata": {},
   "source": [
    "Name: Nayan Raj Khanal  \n",
    "ID: 2227486"
   ]
  },
  {
   "cell_type": "markdown",
   "metadata": {},
   "source": [
    "#### Lists, vectors and maticies in Python"
   ]
  },
  {
   "cell_type": "markdown",
   "metadata": {},
   "source": [
    "There is no special structure in Python for representing a two-dimensional table.  Typically each row of a table is represented as a list, and the whole table is represented as a list of lists, its rows.  For example,\n",
    "\n",
    "              1  2  3\n",
    "              4  5  6\n",
    "\n",
    "can be defined as:\n",
    "\n"
   ]
  },
  {
   "cell_type": "markdown",
   "metadata": {},
   "source": [
    "<code> >>> m = [[1, 2, 3], [4, 5, 6]]</code>\n",
    "\n",
    "Actually, Python lets you split lists over multiple lines, so you can write\n",
    "\n",
    "<code> >>> m =[[1, 2, 3],\n",
    "        [4, 5, 6]]</code>"
   ]
  },
  {
   "cell_type": "markdown",
   "metadata": {},
   "source": [
    "m[0] is the first row of the table, m[1] is the second row, and so on.  m[r] refers to the row with the index r (the (r+1) th row of the table — recall that in Python indices start from 0).  The elements in the row with the index r are m[r][0], m[r][1],  m[r][2], and so on.  In the above example, the value of the element m[0][2] is 3."
   ]
  },
  {
   "cell_type": "markdown",
   "metadata": {},
   "source": [
    "<div class=\"alert alert-block alert-danger\">\n",
    "Now try to write the Python code to answer the following questions in the cells below. <i>You may use Python built-in or library functions that might help but <b>not</b> third-party libraries such as Numpy.</i> </div>"
   ]
  },
  {
   "cell_type": "markdown",
   "metadata": {},
   "source": [
    "#### <font color=\"red\"><b>1.</b></font> Write a Python function that returns the sum of all the elements of a given vector.  Call the function <i>sumOfvectorEle</i>, it should take one argument, the vector x and return a single value. ie [1,2,3,4,5,6] would return 21. <font color=\"blue\">Test your solution using a vector made-up of your university student id\n",
    "   .</font> "
   ]
  },
  {
   "cell_type": "code",
   "execution_count": 1,
   "metadata": {},
   "outputs": [
    {
     "name": "stdout",
     "output_type": "stream",
     "text": [
      "31\n"
     ]
    }
   ],
   "source": [
    "# Creating a function for calculating the vector's total value i.e. in this case the student's id\n",
    "def sumOfvectorEle(vector):\n",
    "    \n",
    "    # Initializing the variable named sum\n",
    "    sum =0\n",
    "    \n",
    "    # Looping through the items in the vector \n",
    "    for items in vector:\n",
    "        \n",
    "        # Calculating the vector's total value requires adding the values to the sum variable.\n",
    "        sum += items\n",
    "        \n",
    "    # Returning the outcome\n",
    "    return sum\n",
    "\n",
    "\n",
    "print(sumOfvectorEle([2, 2, 2, 7, 4, 8, 6]))"
   ]
  },
  {
   "cell_type": "markdown",
   "metadata": {},
   "source": [
    "#### <font color=\"red\"><b>2.</b></font> Write a Python function that returns the sum of all the elements of a given matrix.  Call the function <i>sumOfElements</i>, it should take one argument, the matrix m and return a single value. ie [[1,2,3],[4,5,6]] would return 21.  Write your own solution do not use the Numpy library."
   ]
  },
  {
   "cell_type": "code",
   "execution_count": 5,
   "metadata": {},
   "outputs": [
    {
     "name": "stdout",
     "output_type": "stream",
     "text": [
      "21\n"
     ]
    }
   ],
   "source": [
    "# Creating a function for calculating the sum of all the elements in the matrix\n",
    "def sumOfElements(m):\n",
    "\n",
    "    # Initializing the variable named sum\n",
    "    sum = 0\n",
    "\n",
    "    # Looping through the rows of the matrix\n",
    "    for n in range(len(m)):\n",
    "        \n",
    "        # Looping through the columns of the matrix\n",
    "        for o in range(len(m[0])):\n",
    "            \n",
    "            # Adding the value of the present element to the sum to get the sum of all the elements\n",
    "            sum += m[n][o]\n",
    "\n",
    "    # Returning the result\n",
    "    return sum\n",
    "\n",
    "\n",
    "print(sumOfElements([[1, 2, 3], [4, 5, 6]])) "
   ]
  },
  {
   "cell_type": "markdown",
   "metadata": {},
   "source": [
    "#### <font color=\"red\"><b>3.</b></font> Write a Python function that returns the position of the element in a vector of numbers nearest the mean value for that vector.  ie for the vector [2, 7, 9, 5, 1, 7, 3, 1] would return 3 <i>(as the value 5 is closest to the mean)</i>.  Call the function <i>vector_mean_pos</i>, it should take one argument, the vector x and return a single integer value.  <font color=\"blue\">Again test your solution using a vector made-up of your student number.</font> "
   ]
  },
  {
   "cell_type": "code",
   "execution_count": 28,
   "metadata": {},
   "outputs": [
    {
     "name": "stdout",
     "output_type": "stream",
     "text": [
      "4\n"
     ]
    }
   ],
   "source": [
    "# Creating a function for finding the index of nearest value to the mean of the vector\n",
    "def vector_mean_pos(x):\n",
    "    \n",
    "    # Initializing the variable named sum\n",
    "    sum = 0\n",
    "    \n",
    "    # looping through the elements in the vector\n",
    "    for ele in x:\n",
    "        \n",
    "        # Adding resultant values to the sum variable to calculate the vector's sum\n",
    "        sum += ele\n",
    "        \n",
    "    # Dividing the sum of elements by the number of elements to determine the vector's mean\n",
    "    mean = sum / len(x)\n",
    "    \n",
    "    # Initializing the variable named difference that stores the absolute value of the difference of the vector and the mean\n",
    "    difference = abs(x[0] - mean)\n",
    "    \n",
    "    # Initializing the variable named nearest_mean_value\n",
    "    nearest_mean_value = 0\n",
    "    \n",
    "    # looping through the items in the vector by truncating the first element\n",
    "    for item in x[1:]:\n",
    "        if abs(item-mean) < difference:\n",
    "            difference = abs(item-mean)\n",
    "            nearest_mean_value = x.index(item)\n",
    "            \n",
    "    # Printing the nearest_mean_value \n",
    "    print(nearest_mean_value)\n",
    "\n",
    "\n",
    "vector_mean_pos([2, 2, 2, 7, 4, 8, 6])"
   ]
  },
  {
   "cell_type": "markdown",
   "metadata": {},
   "source": [
    "#### <font color=\"red\"><b>4.</b></font> An n by n matrix defines a linear transformation (function) on n-dimensional vectors.<br>  If $ A = \\begin{pmatrix} a_{11} & a_{12} & ... & a_{1n} \\\\ a_{21} & a_{22} & ... & a_{2n} \\\\ ... \\\\ a_{n1} & a_{n2} & ... & a_{nn} \\end{pmatrix} $ and $ \\bar{x} = (x_{1},x_{2}...x_{n}) $, then $ A.\\bar{x} $ is a new vector $ \\bar{y} = (y_{1},y_{2}...y_{n}) $, such that  $ y_{i} = (a_{i1}x_{1}+a_{i2}x_{2}+...+a_{in}x_{n}) $.  In other words, $ y_{i} $ is the dot product of the <i>i-th</i> row of the matrix and $ \\bar{x} $.  Write and test a Python function, called <i>dotProduct</i>, that takes an <i>n</i> by <i>n</i> matrix <i>A</i> and an n-dimensional vector $ \\bar{x} $  and returns the vector $ A.\\bar{x} $."
   ]
  },
  {
   "cell_type": "code",
   "execution_count": 33,
   "metadata": {},
   "outputs": [
    {
     "name": "stdout",
     "output_type": "stream",
     "text": [
      "[8, 50, 86]\n"
     ]
    }
   ],
   "source": [
    "# Creating a function for calculating the dot product of a matrix and a vector\n",
    "def dotProduct(a, x):\n",
    "\n",
    "    # Initializing the variable named length as the length of the vector\n",
    "    length = len(x)\n",
    "    \n",
    "    # Initializing the variable named result with 0 as the resulting vector of the dot product\n",
    "    result = [0] * length\n",
    "    \n",
    "    #  Looping through rows of the matrix\n",
    "    for y in range(0, length):\n",
    "        \n",
    "        # Looping through columns of the matrix\n",
    "        for z in range(0, length):\n",
    "            \n",
    "            # Calculating the matrix's and the vector's dot product\n",
    "            # Multiplying the matrix's value by the vector's corresponding value\n",
    "            result[y] += a[y][z] * x[z]\n",
    "\n",
    "    # Returning the result\n",
    "    return result\n",
    "\n",
    "\n",
    "a = [[1, 2, 3,], \n",
    "     [8, 9, 10,],\n",
    "     [14, 15, 16,], \n",
    "     [21, 22, 23,]]\n",
    "\n",
    "x = [4, 2, 0]\n",
    "\n",
    "print(dotProduct(a, x))"
   ]
  },
  {
   "cell_type": "markdown",
   "metadata": {},
   "source": [
    "#### <font color=\"red\"><b>5.</b></font> Suppose we have two  matrices:<br> $ P = \\begin{pmatrix} a_{11} & a_{12} & ... & a_{1n} \\\\ a_{21} & a_{22} & ... & a_{2n} \\\\ ... \\\\ a_{n1} & a_{n2} & ... & a_{nn} \\end{pmatrix} $   and     $ Q = \\begin{pmatrix} b_{11} & b_{12} & ... & b_{1n} \\\\ b_{21} & b_{22} & ... & b_{2n} \\\\ ... \\\\ b_{n1} & b_{n2} & ... & b_{nn} \\end{pmatrix} $<br> The matrix <i>r</i> in which $ r_{ij} = (p_{i1}q_{1j}+p_{i2}q_{2j}+...+p_{in}q_{nj}) $ is called the product of <i>P</i> and <i>Q</i> and denoted as <i>P.Q</i> or simply $PQ . c_{ij}$ is the dot product of the i th row in P and the j-th column in Q.  Write and test a Python function, called <i>matrixProduct</i>, that takes two  matrices and returns their product, if exists.  <i>Hint: don’t forget to create the resulting matrix before you put values into it.</i>\n"
   ]
  },
  {
   "cell_type": "code",
   "execution_count": 45,
   "metadata": {},
   "outputs": [
    {
     "name": "stdout",
     "output_type": "stream",
     "text": [
      "[[77, 89, 101], [192, 219, 246], [307, 349, 391]]\n"
     ]
    }
   ],
   "source": [
    "# Creating a function for calculating the of product of two matrices\n",
    "def matrixProduct(p, q):\n",
    "\n",
    "    # Initializing the variable named rP and cP as the rows and columns of first matrix respectively \n",
    "    rP = len(p)\n",
    "    cP = len(p[0])\n",
    "    \n",
    "    # Initializing the variable named rQ and cQ as the rows and columns of first matrix respectively\n",
    "    rQ = len(q)\n",
    "    cQ = len(q[0])\n",
    "\n",
    "    # Printing an error if the rows and columns of the matrices do not match\n",
    "    if cP != rQ:\n",
    "        return \"\"\"Error: The first matrix's column and second matrix's row are not equal.\n",
    "       It is impossible to calculate matrix multiplication!\"\"\"\n",
    "\n",
    "    else:\n",
    "        #  Initializing the variable named result which contains resulting matrix of required dimensions \n",
    "        result = [[0 for _ in range(cQ)] for _ in range(rP)]\n",
    "\n",
    "        # Looping through the rows of first matrix\n",
    "        for r in range(rP):\n",
    "\n",
    "            # Looping through the column of second matrix\n",
    "            for s in range(cQ):\n",
    "\n",
    "                # Looping through the rows of second matrix\n",
    "                for t in range(rQ):\n",
    "                    \n",
    "                    # Multiplying the elements of rows of p matrix with the elements of columns of q matrix \n",
    "                    # and adding it to the resulting matrix\n",
    "                    result[r][s] += p[r][t] * q[t][s]\n",
    "\n",
    "        # Returning the resulting matrix\n",
    "        return result\n",
    "\n",
    "\n",
    "p = [[5,4,3],\n",
    "     [10,9,8], \n",
    "     [15,14,13]]\n",
    "\n",
    "q = [[1,2,3],\n",
    "     [6,7,8],\n",
    "     [16,17,18]]\n",
    "\n",
    "print(matrixProduct(p, q))"
   ]
  },
  {
   "cell_type": "markdown",
   "metadata": {},
   "source": [
    "### Downloading your workbook"
   ]
  },
  {
   "cell_type": "markdown",
   "metadata": {},
   "source": [
    "Please note even if you are Jupyter on your computer (ie. not on a network) the Jupyter notebook runs as a server, so you are editing and running a file that is not easily accessed on your filing system. So to obtain your workbook (to use on a different computer or upload as an assignment, etc.) it must be downloaded to your file system. To do this..."
   ]
  },
  {
   "cell_type": "markdown",
   "metadata": {},
   "source": [
    "<div class=\"alert alert-block alert-info\">Goto the <b>\"File\"</b> menu and select the <b>\"Download as\"</b> item. You can then select <b>\"notebook (ipynb)\"</b> to download.</div>"
   ]
  }
 ],
 "metadata": {
  "kernelspec": {
   "display_name": "Python 3 (ipykernel)",
   "language": "python",
   "name": "python3"
  },
  "language_info": {
   "codemirror_mode": {
    "name": "ipython",
    "version": 3
   },
   "file_extension": ".py",
   "mimetype": "text/x-python",
   "name": "python",
   "nbconvert_exporter": "python",
   "pygments_lexer": "ipython3",
   "version": "3.9.12"
  }
 },
 "nbformat": 4,
 "nbformat_minor": 2
}
