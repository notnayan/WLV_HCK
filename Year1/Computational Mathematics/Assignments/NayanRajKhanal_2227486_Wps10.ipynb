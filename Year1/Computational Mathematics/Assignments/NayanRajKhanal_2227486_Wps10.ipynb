{
 "cells": [
  {
   "cell_type": "markdown",
   "metadata": {},
   "source": [
    "## Python Workshop 10 Exercises"
   ]
  },
  {
   "cell_type": "markdown",
   "metadata": {},
   "source": [
    "<div class=\"alert alert-block alert-info\">Read and examine the text below and then answer the 8 questions that follow. Note: not all of the answers require a coded solution</div>"
   ]
  },
  {
   "cell_type": "markdown",
   "metadata": {},
   "source": [
    "### Dictionaries"
   ]
  },
  {
   "cell_type": "markdown",
   "metadata": {},
   "source": [
    "Like an array (or list) a dictionary is a Python data structure that allows the storage (and retrieval) of collections of data.\n",
    "\n",
    "|<font color=\"blue\">0|<font color=\"blue\">1|<font color=\"blue\">2|<font color=\"blue\">3|<font color=\"blue\">4|\n",
    "| :-: | :-: | :-: | :-: | :-: |\n",
    "|'Scott|'Virgil'|'Alan'|'Gordon'|'John'|\n",
    "\n",
    "However some data does not fit so easily into a numerical index.  It might be easier to use a label (or key) to index the data  \n",
    "\n",
    "|<font color=\"red\">'vocals'|<font color=\"red\">'bass_guitar'|<font color=\"red\">'lead_guitar'|<font color=\"red\">'drums'|<font color=\"red\">'Creative'|\n",
    "| :-: | :-: | :-: | :-: | :-: |\n",
    "|'Chris'|'Guy'|'Johnny'|'Will'|'Phil'|\n",
    "\n",
    "A dictionary in Python data structure allows associations between a set of keys and a set of values.  Only one value corresponds to each key.  (In some other programming languages, such a data structure is called a map or hash table).  In mathematical terms, a dictionary defines a function on a set of keys.  In practical terms, a dictionary lets you quickly look up a value (an object, a data record, a text segment) associated with a given key.  In a database of taxpayers, for example, the key may be a taxpayer’s social security number, and his or her record may be the associated value.  In the post code lookup program, the key may be a post code, and the name of the city or town for that post code will be the associated value.  The set of keys is implemented as a hash table.\n",
    "\n",
    "You can create a dictionary with initial entries by listing the key : value pairs within curly braces.  For example:\n",
    "\n",
    "<code>games = {'Athens': 2004, 'Atlanta': 1996, 'Beijing': 2008,\n",
    "                'London': 2012, 'Rio': 2016, 'Sydney': 2000}</code>\n"
   ]
  },
  {
   "cell_type": "markdown",
   "metadata": {},
   "source": [
    "Another example:\n",
    "<code>\n",
    "domains = {\n",
    "           '.ac' : 'Ascension Island',\n",
    "           '.ad' : 'Andorra',\n",
    "         ...\n",
    "           '.uk' : 'United Kingdom',\n",
    "         ...\n",
    "           '.zw' : 'Zimbabwe'\n",
    "         }</code>\n",
    "\n",
    "Sometimes a short dictionary is used to name the fields of a data record for convenience.  For example:\n",
    "<code>\n",
    "book = {'title' : 'Green Eggs and Ham',\n",
    "        'author' : 'Dr. Seuss',\n",
    "        'isbn' : '0545002850'}</code>\n",
    "\n",
    "<code>d = {}  #sets d to an empty dictionary.</code>"
   ]
  },
  {
   "cell_type": "markdown",
   "metadata": {},
   "source": [
    "Once a dictionary is defined, you can refer to its values using a key as an “index.”  For example:\n",
    "<code>\n",
    "'>>>' book['author']\n",
    "'Dr. Seuss'\n",
    "'>>>' book['isbn']\n",
    "'0545002850'</code>\n",
    "\n",
    "You can modify the value associated with a key and add new key-value pairs using similar syntax:\n",
    "<code>\n",
    "'>>>' book['isbn'] = '9780583324205'\n",
    "'>>>' book['price'] = 7.99\n",
    "'>>>' book['price']\n",
    "7.99</code>\n",
    "\n",
    "<b>Note:</b> <i>If the key does not exist simply assigning a value to a key will create the key/value pair in the dictionary for you.</i>"
   ]
  },
  {
   "cell_type": "markdown",
   "metadata": {},
   "source": [
    "We said earlier that a dictionary associates a single value with each key.  However, nothing prevents us from making that value a list or a tuple, if necessary.  For example:\n",
    "<code>\n",
    "spanishEnglish = {\n",
    "    'abajo' : ['down', 'below', 'downstairs'],\n",
    "    'presto' : ['quick', 'prompt', 'ready', 'soon']\n",
    "  }</code><br>\n",
    "...\n",
    "\n",
    "<code>translations = spanishEnglish['presto']\n",
    "print(translations)</code>\n",
    "\n",
    "The output will be:\n",
    "\n",
    "<code>[quick, prompt, ready, soon]</code>"
   ]
  },
  {
   "cell_type": "markdown",
   "metadata": {},
   "source": [
    "### Simple file handling\n",
    "\n",
    "To open a file in the computers filing system, for reading, all you have to do is is call the open function with the (full) path to the required file. eg: \n",
    "\n",
    "<code>handle = open('c:/some/complex/path/bitcoinStash.txt')</code>\n",
    "\n",
    "This will open the file for reading and return a handle that you can use to access the content of the file such as:\n",
    "\n",
    "<code>line = handle.readline()\n",
    "print(\"first line: {}\".format(line))\n",
    "line = handle.readline()\n",
    "print(\"second line: {}\".format(line))\n",
    "</code>\n",
    "\n",
    "you can print whole file line by line in a for loop:\n",
    "<code>for line in handle:\n",
    "    print(\"line: {}\".format(line))\n",
    "</code>\n",
    "\n",
    "or even load the whole file into a list of strings in one go, using the readlines method:\n",
    "\n",
    "<code>print(\"whole file: {}\".format(handle.readlines()))\n",
    "</code>\n"
   ]
  },
  {
   "cell_type": "markdown",
   "metadata": {},
   "source": [
    "<div class=\"alert alert-block alert-danger\">\n",
    "Now try to write the Python code to answer the following questions in the cells below. <i>You may use Python built-in or library functions that might help but <b>not</b> third-party libraries such as Numpy.</i> </div>"
   ]
  },
  {
   "cell_type": "markdown",
   "metadata": {},
   "source": [
    "#### <font color=\"red\"><b>1.</b></font> Define a dictionary that holds several name-password pairs (with the name used as the key).  Write and test a function, <i>checkPassword</i>, that takes such a dictionary and a (name, password) pair (represented as a tuple) and returns True if the name is in the dictionary and the password matches the one in the dictionary."
   ]
  },
  {
   "cell_type": "code",
   "execution_count": 14,
   "metadata": {},
   "outputs": [
    {
     "data": {
      "text/plain": [
       "True"
      ]
     },
     "execution_count": 14,
     "metadata": {},
     "output_type": "execute_result"
    }
   ],
   "source": [
    "# Defining a dictionary \n",
    "npd={\"ABC\":\"123\",\"BCD\":\"234\",\"DEF\":\"345\"}\n",
    "\n",
    "# Initializing the input\n",
    "tup=(\"ABC\",\"123\")\n",
    "\n",
    "# Creating a function\n",
    "def checkPassword():\n",
    "    \n",
    "    # If the name and password is found in the dictionary return true else return false\n",
    "    if tup[0] in npd:\n",
    "        if tup[1]==npd[tup[0]]:\n",
    "            return True\n",
    "    else:\n",
    "        return False\n",
    "    \n",
    "checkPassword()"
   ]
  },
  {
   "cell_type": "markdown",
   "metadata": {},
   "source": [
    "#### <font color=\"red\"><b>2.</b></font> A tune (track, record, single) is described by its title, band, and duration in seconds.  Define a dictionary for “Alligator” by The Nationals, 4:05."
   ]
  },
  {
   "cell_type": "code",
   "execution_count": 15,
   "metadata": {},
   "outputs": [],
   "source": [
    "Alligator = {\n",
    "    1: [\"Secret Meeting\" , \"Nationals\" , \"3:44\"],\n",
    "    2: [\"Karen\" , \"Nationals\" , \"3:59\"],\n",
    "    3: [\"Lit Up\" , \"Nationals\" , \"2:55\"],\n",
    "}"
   ]
  },
  {
   "cell_type": "markdown",
   "metadata": {},
   "source": [
    "#### <font color=\"red\"><b>3.</b></font> Suppose in a dictionary all values associated with keys are different.  Write a function <i>reverseDictionary(d)</i> that takes such a dictionary and returns a “reverse” dictionary in which each value becomes a key and its key becomes the associated value.  For example, reverseDictionary({1:'A', 2:'B', 3:'C'}) should return {'A':1, 'B':2, 'C':3}"
   ]
  },
  {
   "cell_type": "code",
   "execution_count": 16,
   "metadata": {},
   "outputs": [
    {
     "data": {
      "text/plain": [
       "{'A': '1', 'B': '2', 'C': '3'}"
      ]
     },
     "execution_count": 16,
     "metadata": {},
     "output_type": "execute_result"
    }
   ],
   "source": [
    "# Defining a dictionary\n",
    "d={'1':'A', '2':'B', '3':'C'}\n",
    "\n",
    "# Creating a function\n",
    "def reverseDictionary(d):\n",
    "    \n",
    "    # Initializing an empty dictionary\n",
    "    rev_d={}\n",
    "    \n",
    "    # Looping through key, value in dictionary\n",
    "    for key, value in d.items():\n",
    "        \n",
    "        # Adding the value to the key in the dictionary to the reverse dictionary\n",
    "        rev_d[value]=key\n",
    "    return rev_d\n",
    "\n",
    "reverseDictionary(d)"
   ]
  },
  {
   "cell_type": "markdown",
   "metadata": {},
   "source": [
    "#### <font color=\"red\"><b>4.</b></font> Define a dictionary that can serve as an index for a book.  Each key is a word; the associated value is a list of the page numbers of all the pages on which that word occurs.  Write and test a function <i>addEntry(d, word, page)</i> that takes such  a dictionary d and adds page to the list of page numbers associated with word.  If word is already in the dictionary and page is in its list, then page should not be added.  If word is not yet in the dictionary, then <i>addEntry</i> should create a new entry for word with page in its list."
   ]
  },
  {
   "cell_type": "code",
   "execution_count": 17,
   "metadata": {},
   "outputs": [
    {
     "data": {
      "text/plain": [
       "{'c#': [1, 7, 14], 'flutter': [2, 8], 'javascript': [7]}"
      ]
     },
     "execution_count": 17,
     "metadata": {},
     "output_type": "execute_result"
    }
   ],
   "source": [
    "# Defining a dictionary\n",
    "d = {\n",
    "    \"c#\":[1,7,14],\n",
    "    \"flutter\" : [2,8]\n",
    "}\n",
    "\n",
    "# Setting up variables\n",
    "word = 'javascript'\n",
    "page= 7\n",
    "\n",
    "# Creating a function\n",
    "def addEntry(d, word, page):\n",
    "    \n",
    "    # Checking if the word is in the dictionary\n",
    "    if word in d.keys():\n",
    "        \n",
    "        # Display already exists if page is in the list\n",
    "        if page in d[word]:\n",
    "            return \"Already exists\"\n",
    "        \n",
    "        # If page is not in the list then add the word and page \n",
    "        else:\n",
    "            d[word].append(page)\n",
    "            \n",
    "    else:\n",
    "        \n",
    "        # If word and page are the same then return dictionary\n",
    "        d[word]=[page]    \n",
    "    return d\n",
    "\n",
    "addEntry(d, word, page)"
   ]
  },
  {
   "cell_type": "markdown",
   "metadata": {},
   "source": [
    "#### <font color=\"red\"><b>5.</b></font> Write a program that quizzes a student on the capitals of the 27 E.U. countries.  Create a text file that lists all the states and their capitals.  The program reads the file line by line and puts all the state-capital pairs into a dictionary.  The program then extracts a set of all the states from the dictionary, and ten times presents a randomly chosen state to the student (without repetition).  The program matches each answer (case blind) against the state capital in the dictionary and keeps track of the number of correct answers.  At the end, the program displays the number of correct answers."
   ]
  },
  {
   "cell_type": "code",
   "execution_count": 11,
   "metadata": {},
   "outputs": [
    {
     "name": "stderr",
     "output_type": "stream",
     "text": [
      "C:\\Users\\Acer\\AppData\\Local\\Temp\\ipykernel_13728\\3912652725.py:11: DeprecationWarning: Sampling from a set deprecated\n",
      "since Python 3.9 and will be removed in a subsequent version.\n",
      "  question = random.sample(quiz.keys(), 10)\n"
     ]
    },
    {
     "name": "stdout",
     "output_type": "stream",
     "text": [
      "Enter the capital city of Germany: Berlin\n",
      "Enter the capital city of Ireland: \n",
      "Enter the capital city of Cyprus: \n",
      "Enter the capital city of Lithuania: \n",
      "Enter the capital city of Finland: \n",
      "Enter the capital city of Austria: \n",
      "Enter the capital city of Latvia: \n",
      "Enter the capital city of Hungary: \n",
      "Enter the capital city of Estonia: \n",
      "Enter the capital city of France: Paris\n",
      "Your score is 2.\n"
     ]
    }
   ],
   "source": [
    "# Importing random\n",
    "import random\n",
    "\n",
    "# Initializing the variable\n",
    "score = 0\n",
    "\n",
    "# Reading the contents of the file after opening it\n",
    "with open(\"euStates.txt\") as file:\n",
    "    \n",
    "    # Converting the contents to a dictionary\n",
    "    quiz = dict(items.strip().split(\":\") for items in file)\n",
    "    \n",
    "    # Choosing 10 random questions from the dictionary\n",
    "    question = random.sample(quiz.keys(), 10)\n",
    "\n",
    "    # Looping through the questions\n",
    "    for i in question:\n",
    "        \n",
    "        # Asking for the answer\n",
    "        answer = input(\"Enter the capital city of {}: \".format(i))\n",
    "        \n",
    "        # Checking if the answer is equal to the capital city of the question\n",
    "        if answer.capitalize() == quiz[i].strip():\n",
    "            \n",
    "            # If it is equal then add 1 to the score\n",
    "            score += 1\n",
    "            \n",
    "print(\"Your score is {}.\".format(score))"
   ]
  },
  {
   "cell_type": "markdown",
   "metadata": {},
   "source": [
    "### Downloading your workbook"
   ]
  },
  {
   "cell_type": "markdown",
   "metadata": {},
   "source": [
    "Please note even if you are Jupyter on your computer (ie. not on a network) the Jupyter notebook runs as a server, so you are editing and running a file that is not easily accessed on your filing system. So to obtain your workbook (to use on a different computer or upload as an assignment, etc.) it must be downloaded to your file system. To do this..."
   ]
  },
  {
   "cell_type": "markdown",
   "metadata": {},
   "source": [
    "<div class=\"alert alert-block alert-info\">Goto the <b>\"File\"</b> menu and select the <b>\"Download as\"</b> item. You can then select <b>\"notebook (ipynb)\"</b> to download.</div>"
   ]
  }
 ],
 "metadata": {
  "kernelspec": {
   "display_name": "Python 3 (ipykernel)",
   "language": "python",
   "name": "python3"
  },
  "language_info": {
   "codemirror_mode": {
    "name": "ipython",
    "version": 3
   },
   "file_extension": ".py",
   "mimetype": "text/x-python",
   "name": "python",
   "nbconvert_exporter": "python",
   "pygments_lexer": "ipython3",
   "version": "3.9.12"
  }
 },
 "nbformat": 4,
 "nbformat_minor": 2
}
