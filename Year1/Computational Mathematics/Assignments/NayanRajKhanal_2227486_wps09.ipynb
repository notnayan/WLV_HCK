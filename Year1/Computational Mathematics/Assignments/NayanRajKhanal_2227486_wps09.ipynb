{
 "cells": [
  {
   "cell_type": "markdown",
   "metadata": {
    "id": "hPfXQ5uFCkRu"
   },
   "source": [
    "## Python Workshop 10 Exercises"
   ]
  },
  {
   "cell_type": "markdown",
   "metadata": {
    "id": "80wm55McCkR0"
   },
   "source": [
    "<div class=\"alert alert-block alert-info\">Read and examine the text below and then answer the 8 questions that follow. Note: not all of the answers require a coded solution</div>"
   ]
  },
  {
   "cell_type": "markdown",
   "metadata": {
    "id": "zGjop6fqCkR1"
   },
   "source": [
    "### Introduction to cryptology"
   ]
  },
  {
   "cell_type": "markdown",
   "metadata": {
    "id": "hwW9GAXQCkR1"
   },
   "source": [
    "Cryptology is a science of making and analyzing ciphers.  In a simple case, if Alice and Bob want to send each other encrypted messages, all they have to do is agree on which encryption method they are going to use.  (“Alice” and “Bob” are often used in cryptology literature to explain secure communications between two people or organizations.  There is a third character, eavesdropper “Eve,” who monitors all exchanges between Alice and Bob.  Eve will try to guess which method Alice and Bob are using.)"
   ]
  },
  {
   "cell_type": "markdown",
   "metadata": {
    "id": "NPYOb0bJCkR2"
   },
   "source": [
    "### Example 1"
   ]
  },
  {
   "cell_type": "markdown",
   "metadata": {
    "id": "iSeVRRw4CkR2"
   },
   "source": [
    "In a simple substitution cipher, a secret key tells which letter should replace ‘A’, ‘B’, ..., ‘Z’.  For example:\n",
    "\n",
    "\tLetter to encrypt:\tABCDEFGHIJKLMNOPQRSTUVWXYZ\n",
    "\tKey:\tQEKUOYMBJXRCDZNVTGFASHWPLI\n",
    "\n",
    "“On time” is encrypted as “Nz ajdo.”  This cipher is easy to break by comparing the frequencies of occurrence of different letters in the plain text and encoded text and by guessing about the common short words (articles, prepositions, etc.)."
   ]
  },
  {
   "cell_type": "markdown",
   "metadata": {
    "id": "_A6MAf4KCkR3"
   },
   "source": [
    "To address this problem, cryptographers, over the years have, developed more robust cyphers such as the Vigenère cipher (https://en.wikipedia.org/wiki/Vigen%C3%A8re_cipher) but eventually even these were defeated.  Current cryptography standard (used in commerce, banking and security) rely on public key algorithms such as RSA."
   ]
  },
  {
   "cell_type": "markdown",
   "metadata": {
    "id": "v1LHm4xzCkR4"
   },
   "source": [
    "#### The RSA Algorithm"
   ]
  },
  {
   "cell_type": "markdown",
   "metadata": {
    "id": "iYkZ4lcrCkR4"
   },
   "source": [
    "The name of the RSA algorithm is formed by the first letters Ron Rivest, Adi Shamir, and Leonard Adleman at MIT, who invented the algorithm in 1977.  The RSA algorithm is now widely used for secure communications and e-commerce on the Internet.<br>\n",
    "\n",
    "The main idea of the RSA scheme is simple.  Suppose Alice wants to send a secret message to Bob.  Alice asks Bob to send her an open padlock to which only Bob has a key.  (Bob, like every other member of the community, has an unlimited supply of such locks and sends them out for free on request.)  When Alice receives the lock, she puts her message in a box, puts the lock on it, clicks it locked, and sends the box to Bob."
   ]
  },
  {
   "cell_type": "markdown",
   "metadata": {
    "id": "OX6-WvgZCkR5"
   },
   "source": [
    "<div class=\"alert alert-block alert-danger\">\n",
    "Now try to write the Python code to answer the following questions in the cells below. <i>You may use Python built-in or library functions that might help but <b>not</b> third-party libraries such as Numpy.</i> </div>"
   ]
  },
  {
   "cell_type": "markdown",
   "metadata": {
    "id": "zBYSZ2g5CkR5"
   },
   "source": [
    "#### <font color=\"red\"><b>1.</b></font> Write and test a function letterCounts(text) that calculates how many times each letter of the alphabet occurs in text and returns a list of these 26 counts. For example, letterCounts('the fat cat') should return [2,0,1,0,1,0,0,1,0,0,0,0,0,1,0,0,0,0,0,3,0,0,0,0,0,0]."
   ]
  },
  {
   "cell_type": "code",
   "execution_count": 1,
   "metadata": {
    "id": "oFoOdtKonLHi"
   },
   "outputs": [
    {
     "name": "stdout",
     "output_type": "stream",
     "text": [
      "[2, 0, 0, 0, 1, 1, 0, 1, 0, 0, 0, 0, 0, 0, 0, 0, 0, 1, 0, 3, 0, 0, 0, 0, 0, 0]\n"
     ]
    }
   ],
   "source": [
    "import string\n",
    "\n",
    "# Creating a function\n",
    "def letterCounts(text):\n",
    "    \n",
    "    # Initializing empty list\n",
    "    listt = []\n",
    "    \n",
    "    # Strong all letters of alphabet in a variable \n",
    "    alphabet = string.ascii_lowercase\n",
    "    \n",
    "    # Looping i through alphabet\n",
    "    for i in alphabet:\n",
    "        \n",
    "        # Add the counted item from iteration to the listt\n",
    "        listt.append(text.count(i))\n",
    "    print(listt)\n",
    "\n",
    "letterCounts('the fat rat')"
   ]
  },
  {
   "cell_type": "markdown",
   "metadata": {
    "id": "PR2eBjf6CkR6"
   },
   "source": [
    "#### <font color=\"red\"><b>2.</b></font> Write and test two functions, encode(text, key) and decode(code, key), that implement a substitution cipher with a key.  text, code, and key are strings, and each of the functions returns a string."
   ]
  },
  {
   "cell_type": "code",
   "execution_count": 2,
   "metadata": {
    "id": "se81I_prnL1h"
   },
   "outputs": [
    {
     "name": "stdout",
     "output_type": "stream",
     "text": [
      "qdbdq\n"
     ]
    }
   ],
   "source": [
    "def encode(text,key):\n",
    "    \n",
    "    # Strong all letters of alphabet in a variable\n",
    "    alp = string.ascii_lowercase\n",
    "    \n",
    "    # Creating the key\n",
    "    key = alp[key:] + alp[:key]\n",
    "    encoded = ''\n",
    "    \n",
    "    # Looping i through the text\n",
    "    for i in text:\n",
    "        \n",
    "        # If the letter is in the alphabet\n",
    "        if i.lower() in alp:\n",
    "            \n",
    "            # The encoded text is then added with the encrypted letter\n",
    "            encoded += key[alp.index(i.lower())]\n",
    "            \n",
    "        else:\n",
    "            \n",
    "            # Adding the letter exactly as it is if it is not in the alphabet\n",
    "            encoded += i\n",
    "    print(encoded)\n",
    "\n",
    "encode('Nayan', 3)"
   ]
  },
  {
   "cell_type": "code",
   "execution_count": 3,
   "metadata": {},
   "outputs": [
    {
     "name": "stdout",
     "output_type": "stream",
     "text": [
      "nayan\n"
     ]
    }
   ],
   "source": [
    "def decode(code,key):\n",
    "    \n",
    "    # Putting all letters of alphabet in a variable\n",
    "    alp = string.ascii_lowercase\n",
    "    \n",
    "    # Creating a key\n",
    "    key = alp[key:] + alp[:key]\n",
    "    decoded = ''\n",
    "    \n",
    "    # Looping i through the code\n",
    "    for i in code:\n",
    "        \n",
    "        # If the letter is in the alphabet\n",
    "        if i.lower() in alp:\n",
    "            \n",
    "            # The decoded letter is then added with the decrypted string\n",
    "            decoded += alp[key.index(i)]\n",
    "        else:\n",
    "            \n",
    "            # Adding the letter to the decoded string if the letter is not in the alphabet\n",
    "            decoded += i\n",
    "    print(decoded)\n",
    "\n",
    "decode('qdbdq', 3)"
   ]
  },
  {
   "cell_type": "markdown",
   "metadata": {
    "id": "QUhVpTyxCkR7"
   },
   "source": [
    "#### <font color=\"red\"><b>3.</b></font> Research the working of the Vigenere cipher algorithm on the Internet.  From that implement an encode(text, key) and decode(code, key) function for the Vigenere cipher.  Test your encription and decription functions using any favourite quote of your choice."
   ]
  },
  {
   "cell_type": "code",
   "execution_count": 5,
   "metadata": {
    "id": "JKGRBprYCkR8"
   },
   "outputs": [],
   "source": [
    "# Creating a function\n",
    "def generateKey(string, key):\n",
    "    \n",
    "    # Creating a list of keys and storing it in a variable\n",
    "    key = list(key)\n",
    "    \n",
    "    # Returning the key if the length of the string matches the length of the key\n",
    "    if len(string) == len(key):\n",
    "        return(key)\n",
    "    \n",
    "    else:\n",
    "        \n",
    "        # Looping i through the difference in length between the string and the key\n",
    "        for i in range(len(string) - len(key)):\n",
    "            \n",
    "            # Adding extra keys to the key \n",
    "            key.append(key[i % len(key)])\n",
    "    return(\"\" . join(key))"
   ]
  },
  {
   "cell_type": "code",
   "execution_count": 7,
   "metadata": {},
   "outputs": [
    {
     "name": "stdout",
     "output_type": "stream",
     "text": [
      "FEARRKKNIZEPRP\n"
     ]
    }
   ],
   "source": [
    "# Initializing the variables\n",
    "text = \"NAYANRAJKHANAL\"\n",
    "secretKey = \"SECRETKEY\"\n",
    "key = generateKey(text, secretKey)\n",
    "\n",
    "# Creating a function\n",
    "def encode(text, key):\n",
    "    \n",
    "    # Initializing the variable as empty list\n",
    "    encoded = []\n",
    "    \n",
    "    # Looping i through the length of text\n",
    "    for i in range(len(text)):\n",
    "        \n",
    "        # ord() returns the number representing the unicode code of a specified character\n",
    "        x = (ord(text[i]) + ord(key[i])) % 26\n",
    "        x += ord('A')\n",
    "        \n",
    "        # The encoded text is then added with the encrypted letter\n",
    "        encoded.append(chr(x))\n",
    "    return(\"\" . join(encoded))\n",
    "print(encode(text, key))"
   ]
  },
  {
   "cell_type": "markdown",
   "metadata": {
    "id": "If3h4GGACkR8"
   },
   "source": [
    "#### <font color=\"red\"><b>4.</b></font> Write and test a function getDigits(s) that returns a string of all digits found in s (in the same order).  For example, getDigits('**1.23a-42') should return '12342'."
   ]
  },
  {
   "cell_type": "code",
   "execution_count": 4,
   "metadata": {
    "colab": {
     "base_uri": "https://localhost:8080/"
    },
    "id": "jZ8F7BkgCkR8",
    "outputId": "0c595354-719f-4a7d-c981-caa0a5657c49"
   },
   "outputs": [
    {
     "data": {
      "text/plain": [
       "'97988'"
      ]
     },
     "execution_count": 4,
     "metadata": {},
     "output_type": "execute_result"
    }
   ],
   "source": [
    "# Creating a function\n",
    "def getDigits(s):\n",
    "    \n",
    "    # Initializing the variable\n",
    "    result=''\n",
    "    \n",
    "    # Looping i through s\n",
    "    for i in s:\n",
    "        \n",
    "        # If the item is numeric \n",
    "        if i.isnumeric():\n",
    "            \n",
    "            # Add the item to the result\n",
    "            result+=i\n",
    "    return result\n",
    "\n",
    "getDigits('aaso9d798eyasdsbacdas8das')"
   ]
  },
  {
   "cell_type": "markdown",
   "metadata": {
    "id": "Cc5wVAedCkR8"
   },
   "source": [
    "#### <font color=\"red\"><b>5.</b></font> Recall that a valid name in Python can have letters, digits, and underscore characters and cannot start with a digit.  Write a function isValidName(s) that returns True if s represents a valid name in Python; otherwise your function should return False.  Test your function on the following strings:\n",
    "\n",
    "|<font color=\"blue\">Valid|<font color=\"red\">Invalid|\n",
    "| :-: | :-: |\n",
    "|'bDay'|'1a'|\n",
    "|'A0'|'#A'|\n",
    "|'_a_1'|'1_a'|\n",
    "|'_1amt'|'[a]'|\n",
    "|'__'|' ABC'|\n",
    "|'_'|''|\n",
    "| |'A#'|\n",
    "| |'A-2'|\n",
    "| |'a 5+'|\n"
   ]
  },
  {
   "cell_type": "code",
   "execution_count": 8,
   "metadata": {
    "id": "8XCNbt-bCkR9"
   },
   "outputs": [
    {
     "data": {
      "text/plain": [
       "True"
      ]
     },
     "execution_count": 8,
     "metadata": {},
     "output_type": "execute_result"
    }
   ],
   "source": [
    "# Creating a function\n",
    "def ValidName(s):\n",
    "    \n",
    "    # If the 0th index element is not an alphabet, '_' or an uppercase \n",
    "    if not s[0].isalpha() and s[0] !='_' or s.isupper():\n",
    "        return False\n",
    "    \n",
    "    # Looping i through the element after 1st index\n",
    "    for i in s[1:]:\n",
    "        \n",
    "        # If the item is not alphabet and numerical and '_'\n",
    "        if not i.isalnum() and i!='_':\n",
    "            return False\n",
    "    \n",
    "    else:\n",
    "        return True\n",
    "    \n",
    "        \n",
    "ValidName('bDay')"
   ]
  },
  {
   "cell_type": "markdown",
   "metadata": {
    "id": "0NF6EyKUCkR9"
   },
   "source": [
    "#### <font color=\"red\"><b>6.</b></font> Write a new function <i>getDigitsR(s)</i> in answer to question 4, but this time as recursive function.  For example, getDigitsR('+2.93x**4.2') should return '29342'."
   ]
  },
  {
   "cell_type": "code",
   "execution_count": 36,
   "metadata": {
    "id": "fZ-hFJg2CkR-"
   },
   "outputs": [
    {
     "data": {
      "text/plain": [
       "'97988'"
      ]
     },
     "execution_count": 36,
     "metadata": {},
     "output_type": "execute_result"
    }
   ],
   "source": [
    "# Creating a function\n",
    "def getDigitsR(s):\n",
    "    \n",
    "    if len(s)<1:\n",
    "        return \"\"\n",
    "    \n",
    "     # If the 0th index element is numeric\n",
    "    if s[0].isnumeric():\n",
    "        \n",
    "        # Display the 0th element with elements after the 1st index \n",
    "        return s[0]+getDigitsR(s[1:])\n",
    "    else:\n",
    "        \n",
    "        # Otherwise just return elements after 1st index\n",
    "        return getDigitsR(s[1:])\n",
    "\n",
    "getDigitsR('aaso9d798eyasdsbacdas8das')"
   ]
  },
  {
   "cell_type": "markdown",
   "metadata": {
    "id": "b-kW2E_8CkR-"
   },
   "source": [
    "### Downloading your workbook"
   ]
  },
  {
   "cell_type": "markdown",
   "metadata": {
    "id": "VxN7QQzfCkR-"
   },
   "source": [
    "Please note even if you are Jupyter on your computer (ie. not on a network) the Jupyter notebook runs as a server, so you are editing and running a file that is not easily accessed on your filing system. So to obtain your workbook (to use on a different computer or upload as an assignment, etc.) it must be downloaded to your file system. To do this..."
   ]
  },
  {
   "cell_type": "markdown",
   "metadata": {
    "id": "eP8bqtdNCkR-"
   },
   "source": [
    "<div class=\"alert alert-block alert-info\">Goto the <b>\"File\"</b> menu and select the <b>\"Download as\"</b> item. You can then select <b>\"notebook (ipynb)\"</b> to download.</div>"
   ]
  }
 ],
 "metadata": {
  "colab": {
   "collapsed_sections": [],
   "name": "09_Workshop9.ipynb",
   "provenance": []
  },
  "kernelspec": {
   "display_name": "Python 3 (ipykernel)",
   "language": "python",
   "name": "python3"
  },
  "language_info": {
   "codemirror_mode": {
    "name": "ipython",
    "version": 3
   },
   "file_extension": ".py",
   "mimetype": "text/x-python",
   "name": "python",
   "nbconvert_exporter": "python",
   "pygments_lexer": "ipython3",
   "version": "3.9.12"
  }
 },
 "nbformat": 4,
 "nbformat_minor": 1
}
