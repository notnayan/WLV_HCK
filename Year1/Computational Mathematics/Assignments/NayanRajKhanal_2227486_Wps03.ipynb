{
 "cells": [
  {
   "cell_type": "markdown",
   "metadata": {
    "id": "EwbmvxL9P7ik"
   },
   "source": [
    "## Python Workshop 3 Exercises"
   ]
  },
  {
   "cell_type": "markdown",
   "metadata": {
    "id": "l6atmj7WP7jF"
   },
   "source": [
    "<div class=\"alert alert-block alert-info\">Examine and test the example code below, then design and write your code to answer the 7 questions that follow.</div>"
   ]
  },
  {
   "cell_type": "markdown",
   "metadata": {
    "id": "djCe6JtVP7jL"
   },
   "source": [
    "#### Lists and indexing in Python"
   ]
  },
  {
   "cell_type": "markdown",
   "metadata": {
    "id": "boZmksIaP7jP"
   },
   "source": [
    "Consider a list of numbers:  nums = [90, 80, 70, 60, 50, 40, 30, 20, 10]\n",
    "    \n",
    "|90|80|70|60|50|40|30|20|10|\n",
    "| :-: | :-: | :-: | :-: | :-: | :-: | :-: | :-: | :-: |\n",
    "|<font color=\"blue\">0|<font color=\"blue\">1|<font color=\"blue\">2|<font color=\"blue\">3|<font color=\"blue\">4|<font color=\"blue\">5|<font color=\"blue\">6|<font color=\"blue\">7|<font color=\"blue\">8|\n",
    "|<font color=\"red\">-9|<font color=\"red\">-8|<font color=\"red\">-7|<font color=\"red\">-6|<font color=\"red\">-5|<font color=\"red\">-4|<font color=\"red\">-3|<font color=\"red\">-2|<font color=\"red\">-1|\n",
    "\n",
    "Each character in the list has a notional position called <font color=\"blue\">the index</font>,  \n",
    "to access one of the elements, the name of the list with the index (in square brackets) must be provided E.g:<br>\n",
    "<code>print(nums[<font color=\"blue\">2</font>])    # <font color=\"blue\">index from the front => 70</font></code><br>\n",
    "In Python lists may also be <font color=\"red\">indexed from the back</font> by using a negative number for the index so<br>\n",
    "<code>print(nums[<font color=\"red\">-2</font>])   # <font color=\"red\">index from the back => 20</font></code><br>   \n",
    "\n",
    "Of course where you use a number in a program, you can replace with a variable to produce interesting results  "
   ]
  },
  {
   "cell_type": "markdown",
   "metadata": {
    "id": "bmSzRtnoP7jU"
   },
   "source": [
    "#### Example 1"
   ]
  },
  {
   "cell_type": "markdown",
   "metadata": {
    "id": "AWLIU2C4P7jb"
   },
   "source": [
    "Write a Python function that returns the sum of two given vectors (represented as lists of the same length)."
   ]
  },
  {
   "cell_type": "markdown",
   "metadata": {
    "id": "H3eQiXdHP7je"
   },
   "source": [
    "#### Solution"
   ]
  },
  {
   "cell_type": "markdown",
   "metadata": {
    "id": "ddO1kGTZP7ji"
   },
   "source": [
    "<code>def sumVectors(x, y):\n",
    "    vect = len(x)*[0]  # create a list of the same length as x, filled with 0s\n",
    "    i = 0\n",
    "    while i < len(x):\n",
    "        vect[i] = x[i] + y[i]\n",
    "        i += 1\n",
    "    return vect</code>"
   ]
  },
  {
   "cell_type": "markdown",
   "metadata": {
    "id": "4Xj0qB2yP7jp"
   },
   "source": [
    "Note that we have to create a vector of the required length before we can store the resulting values in it.  Try a call such as sumVectors([1,2,3],[6,5,4]) to test the working of the function."
   ]
  },
  {
   "cell_type": "markdown",
   "metadata": {
    "id": "WJwZrQ15P7ju"
   },
   "source": [
    "#### Example 2"
   ]
  },
  {
   "cell_type": "markdown",
   "metadata": {
    "id": "hAgwd3NjP7jw"
   },
   "source": [
    "Write a Python function that creates and returns a table with a given numbers of rows and columns, filled with None values."
   ]
  },
  {
   "cell_type": "markdown",
   "metadata": {
    "id": "8u36yXBVP7jy"
   },
   "source": [
    "#### Solution"
   ]
  },
  {
   "cell_type": "markdown",
   "metadata": {
    "id": "TE9eqg2UP7j0"
   },
   "source": [
    "<code>def buildTable(nRows, nCols):\n",
    "    table = []\n",
    "    for r in range(nRows):\n",
    "        table.append(nCols*[None])\n",
    "    return table</code>"
   ]
  },
  {
   "cell_type": "markdown",
   "metadata": {
    "id": "9f1UAlY1P7j2"
   },
   "source": [
    "We start with an empty list of rows table and append a new row to it nRows times.  nCols*[None] creates one row: a list of nCols elements, all set to None. <i>You may want to experiment with the example functions in the space below:</i> "
   ]
  },
  {
   "cell_type": "code",
   "execution_count": null,
   "metadata": {
    "id": "I1WpcWq6P7j8"
   },
   "outputs": [],
   "source": []
  },
  {
   "cell_type": "markdown",
   "metadata": {
    "id": "z4GOc2g8P7kA"
   },
   "source": [
    "<div class=\"alert alert-block alert-danger\">\n",
    "Now try to write the Python code to answer the following questions in the cells below \n",
    "</div>"
   ]
  },
  {
   "cell_type": "markdown",
   "metadata": {
    "id": "DUYqzbVjP7kC"
   },
   "source": [
    "#### <font color=\"red\"><b>1.</b></font>Write and test a function that returns the index of the largest element in the list (or, if several elements have the largest value, the index of the first one of them).  Write your own algorithmn do not use built-in functions max or index or any library functions."
   ]
  },
  {
   "cell_type": "code",
   "execution_count": 1,
   "metadata": {
    "id": "61AYNe76P7kE"
   },
   "outputs": [
    {
     "data": {
      "text/plain": [
       "4"
      ]
     },
     "execution_count": 1,
     "metadata": {},
     "output_type": "execute_result"
    }
   ],
   "source": [
    "# Creating a list with elements\n",
    "li=[0,3,5,7,9]\n",
    "\n",
    "# Creating a function\n",
    "def largestNum():\n",
    "    \n",
    "#   Setting the value of the largest number with the first element of the list  \n",
    "    max_num=li[0]\n",
    "    \n",
    "#   Initialising the variable  \n",
    "    index=0\n",
    "    \n",
    "#   Looping the i through the list  \n",
    "    for i in range(len(li)):\n",
    "        \n",
    "#       If the list element is greater than the largest number\n",
    "        if li[i] > max_num:\n",
    "        \n",
    "#           Then make the list element the largest number\n",
    "            max_num=li[i]\n",
    "    \n",
    "#           Putting the value of i in index\n",
    "            index=i\n",
    "    \n",
    "#   Displaying the index\n",
    "    return index\n",
    "            \n",
    "\n",
    "largestNum()\n",
    "        \n",
    "    "
   ]
  },
  {
   "cell_type": "markdown",
   "metadata": {
    "id": "IjqOFD8JP7kG"
   },
   "source": [
    "#### <font color=\"red\"><b>2.</b></font> Write a python script (ie. does not need to be a function) that swaps the values of three variables x, y, and z, so by the end x gets the value of y, y has the value of z, and z gets the value that was in x.  <i>Note: the swapping can be done is a single line of code if you use good pythonic design.</i>"
   ]
  },
  {
   "cell_type": "code",
   "execution_count": 3,
   "metadata": {
    "id": "xzBU9QyjP7kH"
   },
   "outputs": [
    {
     "name": "stdout",
     "output_type": "stream",
     "text": [
      "Before x=2, y=3, z=4\n",
      "After x=3, y=4, z=2\n"
     ]
    }
   ],
   "source": [
    "# Initialising the variable  \n",
    "x,y,z=2,3,4\n",
    "\n",
    "# Printing the values in proper placement and formatting \n",
    "print(\"Before x={}, y={}, z={}\".format(x,y,z))\n",
    "\n",
    "# Replacing the initials variable values with the required values\n",
    "x,y,z=y,z,x\n",
    "\n",
    "# Printing the values in proper placement and formatting \n",
    "print(\"After x={}, y={}, z={}\".format(x,y,z))"
   ]
  },
  {
   "cell_type": "markdown",
   "metadata": {
    "id": "Up4ZvNc0P7kM"
   },
   "source": [
    "#### <font color=\"red\"><b>3.</b></font> Pretend that list’s reverse method does not exist and write your own function reverseList(lst) that reverses the list in place and returns a None.  <i>Hints: proceed from both ends, but not too far..., the swapping (from Q2) should be useful and no need for a return statement.</i>"
   ]
  },
  {
   "cell_type": "code",
   "execution_count": 23,
   "metadata": {
    "id": "TBM0tIgTP7kO"
   },
   "outputs": [
    {
     "name": "stdout",
     "output_type": "stream",
     "text": [
      "[4, 3, 2, 1]\n"
     ]
    }
   ],
   "source": [
    "# Creating a list with elements\n",
    "l=[1,2,3,4]\n",
    "\n",
    "# Creating a function\n",
    "def reverseList():\n",
    "    \n",
    "#   Looping the i through the half length of list\n",
    "    for i in range(len(l)//2):\n",
    "        \n",
    "#       Reversing the list by replacing the first and last element with each other \n",
    "        l[i],l[-1-i]=l[-1-i],l[i]\n",
    "    \n",
    "#   Printing the list \n",
    "    print(l)\n",
    "        \n",
    "reverseList()\n",
    "    "
   ]
  },
  {
   "cell_type": "markdown",
   "metadata": {
    "id": "xH2qxHftP7kP"
   },
   "source": [
    "#### <font color=\"red\"><b>4.</b></font> Write and test a function that takes a list with four or more elements and returns the index of the element that makes the greatest sum with its left and right neighbors. <i>Hint: a good solution here might be similar to your answer to Q1</i>."
   ]
  },
  {
   "cell_type": "code",
   "execution_count": 45,
   "metadata": {
    "id": "jAJdj2_0P7kR"
   },
   "outputs": [
    {
     "data": {
      "text/plain": [
       "2"
      ]
     },
     "execution_count": 45,
     "metadata": {},
     "output_type": "execute_result"
    }
   ],
   "source": [
    "# Creating a list with elements\n",
    "listt=[2,8,6,7,5,3]\n",
    "\n",
    "# Creating a function\n",
    "def indexSum():\n",
    "    \n",
    "#   Setting the value of the largest number with the first element of the list\n",
    "    max_num=listt[0]\n",
    "    \n",
    "#   Initialising the variable\n",
    "    index=0\n",
    "    \n",
    "#   Looping i from index 1 till one less than the length of the list\n",
    "    for i in range(1, len(listt)-1):\n",
    "        \n",
    "#       If the sum of the element and it's one step behind and ahead is greater than largest number\n",
    "        if listt[i-1]+listt[i]+listt[i+1] > max_num:\n",
    "        \n",
    "#           Then make that the largest number\n",
    "            max_num=listt[i-1]+listt[i]+listt[i+1]\n",
    "    \n",
    "#           Putting the value of i in index\n",
    "            index=i\n",
    "    \n",
    "#   Displaying the index  \n",
    "    return index\n",
    "            \n",
    "\n",
    "indexSum()\n",
    "    \n",
    "    "
   ]
  },
  {
   "cell_type": "markdown",
   "metadata": {
    "id": "1hYiwWJaP7kR"
   },
   "source": [
    "#### <font color=\"red\"><b>5.</b></font>  Write a function called <i>intersection</i> that takes 2 lists of integers and returns a third list values that occur in both lists ie. <i>intersection([2, 3, 4], [1, 2, 5])</i> should return [2]. Write your solution in pure Python to show the logic in your solution, do not use any library functions.¶"
   ]
  },
  {
   "cell_type": "code",
   "execution_count": 52,
   "metadata": {
    "id": "yqv3mncdP7kT"
   },
   "outputs": [
    {
     "data": {
      "text/plain": [
       "[3]"
      ]
     },
     "execution_count": 52,
     "metadata": {},
     "output_type": "execute_result"
    }
   ],
   "source": [
    "# Creating an empty list\n",
    "c=[]\n",
    "\n",
    "# Creating a function which takes two parameters\n",
    "def intersection(a,b):\n",
    "    \n",
    "#   Looping i through list a\n",
    "    for i in a:\n",
    "        \n",
    "#       If i is also found in list b\n",
    "        if i in b:\n",
    "        \n",
    "#           Then add the element to the empty list c\n",
    "            c.append(i)\n",
    "    \n",
    "#   Displaying the third list\n",
    "    return c\n",
    "        \n",
    "\n",
    "intersection([1,2,3],[3,4,5])\n",
    "    \n",
    "    "
   ]
  },
  {
   "cell_type": "markdown",
   "metadata": {
    "id": "ZUuoeDWzP7kU"
   },
   "source": [
    "#### <font color=\"red\"><b>6.</b></font> Let  $ \\bar{x} = (x_{1},x_{2}...x_{n}) $  and $ \\bar{y} = (y_{1},y_{2}...y_{n}) $ be two n dimensional vectors.  Their <i>dot product</i>, denoted  $ \\bar{x}.\\bar{y} $  , is defined as  $ \\bar{x}.\\bar{y} = x_{1}y_{1}+x_{2}y_{2}+x_{3}y_{3}+...+x_{n}y_{n} $  .  Write and test a Python function that returns the dot product of two given vectors (represented as lists of the same length). "
   ]
  },
  {
   "cell_type": "code",
   "execution_count": 53,
   "metadata": {
    "id": "n9Ot71ssP7kX"
   },
   "outputs": [
    {
     "data": {
      "text/plain": [
       "20"
      ]
     },
     "execution_count": 53,
     "metadata": {},
     "output_type": "execute_result"
    }
   ],
   "source": [
    "# Creating two list with elements\n",
    "x=[1,2,3]\n",
    "y=[2,3,4]\n",
    "\n",
    "# Creating a function \n",
    "def dotProduct():\n",
    "    \n",
    "#   Initialising the variable\n",
    "    mul=0\n",
    "    \n",
    "#   Looping i through the first l\n",
    "    for i in range(len(x)):\n",
    "        \n",
    "#       Adding the variable with the product of same index from the two list\n",
    "        mul+=x[i]*y[i]\n",
    "    \n",
    "#   Displaying the product\n",
    "    return mul\n",
    "\n",
    "dotProduct()\n",
    "    "
   ]
  },
  {
   "cell_type": "markdown",
   "metadata": {
    "id": "QwwRs58uP7kY"
   },
   "source": [
    "#### <font color=\"red\"><b>7.</b></font> Write and test a Python function that returns the sum of the elements on the main diagonal (upper left to lower right) of a square matrix (represented as a list of lists <i>eg. [[9, 8, 7], [6, 5, 4], [3, 2, 1]]</i>).  In linear algebra, this value is called the trace of the matrix. Note: your solution should work for any sized square matrix passed to it."
   ]
  },
  {
   "cell_type": "code",
   "execution_count": 56,
   "metadata": {
    "id": "P4ip2F9LP7kf"
   },
   "outputs": [
    {
     "data": {
      "text/plain": [
       "15"
      ]
     },
     "execution_count": 56,
     "metadata": {},
     "output_type": "execute_result"
    }
   ],
   "source": [
    "# Creating a list representing three by three matrix \n",
    "li=[[9,8,7],[6,5,4],[3,2,1]]\n",
    "\n",
    "# Creating a function\n",
    "def sumOfElements():\n",
    "    \n",
    "#   Initialising the variable\n",
    "    trace=0\n",
    "    \n",
    "#   Looping i through the list \n",
    "    for i in range(len(li)):\n",
    "        \n",
    "#       Adding the variable with the list and it's respective index   \n",
    "        trace+=li[i][i]\n",
    "    \n",
    "#   Displaying the diagonal sum\n",
    "    return trace\n",
    "\n",
    "sumOfElements()\n",
    "    "
   ]
  },
  {
   "cell_type": "markdown",
   "metadata": {
    "id": "-G-BGESsP7kg"
   },
   "source": [
    "### Downloading your workbook"
   ]
  },
  {
   "cell_type": "markdown",
   "metadata": {
    "id": "SWHaRntPP7kh"
   },
   "source": [
    "Please note even if you are Jupyter on your computer (ie. not on a network) the Jupyter notebook runs as a server, so you are editing and running a file that is not easily accessed on your filing system. So to obtain your workbook (to use on a different computer or upload as an assignment, etc.) it must be downloaded to your file system. To do this..."
   ]
  },
  {
   "cell_type": "markdown",
   "metadata": {
    "id": "_O-4YldNP7kj"
   },
   "source": [
    "<div class=\"alert alert-block alert-info\">Goto the <b>\"File\"</b> menu and select the <b>\"Download as\"</b> item. You can then select <b>\"notebook (ipynb)\"</b> to download.</div>"
   ]
  }
 ],
 "metadata": {
  "colab": {
   "name": "03_Workshop3.ipynb",
   "provenance": []
  },
  "kernelspec": {
   "display_name": "Python 3 (ipykernel)",
   "language": "python",
   "name": "python3"
  },
  "language_info": {
   "codemirror_mode": {
    "name": "ipython",
    "version": 3
   },
   "file_extension": ".py",
   "mimetype": "text/x-python",
   "name": "python",
   "nbconvert_exporter": "python",
   "pygments_lexer": "ipython3",
   "version": "3.9.12"
  }
 },
 "nbformat": 4,
 "nbformat_minor": 1
}
