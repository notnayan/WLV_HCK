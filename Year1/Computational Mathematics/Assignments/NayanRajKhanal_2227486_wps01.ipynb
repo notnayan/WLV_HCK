{
 "cells": [
  {
   "cell_type": "markdown",
   "metadata": {},
   "source": [
    "Name: Nayan Raj Khanal\n",
    "ID: 2227486"
   ]
  },
  {
   "cell_type": "markdown",
   "metadata": {},
   "source": [
    "<div class=\"alert alert-block alert-info\">\n",
    "<font color=\"black\">Suppose we don’t know the formula for the sum and want to use a “brute force” approach.  We can calculate the sum <i>1 + 2 + ... + n</i>  using a loop:</font> </div>"
   ]
  },
  {
   "cell_type": "markdown",
   "metadata": {},
   "source": [
    "<code>sum1n = 0\n",
    "i = 1\n",
    "while i <= n:\n",
    "    sum1n += i  # same as sum1n = sum1n + i\n",
    "    i += 1 </code>"
   ]
  },
  {
   "cell_type": "markdown",
   "metadata": {},
   "source": [
    "<div class=\"alert alert-block alert-info\"><font color=\"black\">This loop can also be nested within another loop to calculate a series of numbers:</font></div>"
   ]
  },
  {
   "cell_type": "raw",
   "metadata": {},
   "source": [
    "<code>## Sums1toN program\n",
    "nMax = 10\n",
    "n = 1\n",
    "while n <= nMax:\n",
    "    sum1n = 0\n",
    "    i = 1\n",
    "    while i <= n:\n",
    "        sum1n += i\n",
    "        i += 1\n",
    "    print('{0:3d} {1:6d}'.format(n, sum1n))\n",
    "    n += 1 </code>"
   ]
  },
  {
   "cell_type": "markdown",
   "metadata": {},
   "source": [
    "## Sums1toN program\n",
    "nMax = 10\n",
    "n = 1\n",
    "while n <= nMax:\n",
    "    sum1n = 0\n",
    "    i = 1\n",
    "    while i <= n:\n",
    "        sum1n += i\n",
    "        i += 1\n",
    "    print('{0:3d} {1:6d}'.format(n, sum1n))\n",
    "    n += 1 "
   ]
  },
  {
   "cell_type": "markdown",
   "metadata": {},
   "source": [
    "<div class=\"alert alert-block alert-info\"><font color=\"black\">Type in the little program above into the cell below.  To run it select the cell and then press the <b>run-button</b> from the button bar above. Test the program and ensure it runs correctly.</font></div>"
   ]
  },
  {
   "cell_type": "markdown",
   "metadata": {},
   "source": [
    "<div class=\"alert alert-block alert-danger\">\n",
    "Now try to write the Python code to answer the following questions in the cells below \n",
    "</div>"
   ]
  },
  {
   "cell_type": "markdown",
   "metadata": {},
   "source": [
    "#### <font color=\"red\"><b>1.</b></font> Modify the Sums1toN.py program to accept only an odd positive integer nMax from the user and print the sums of positive odd integers for *n = 1, 3, ..., nMax.*"
   ]
  },
  {
   "cell_type": "code",
   "execution_count": 6,
   "metadata": {},
   "outputs": [
    {
     "name": "stdout",
     "output_type": "stream",
     "text": [
      "Enter a number: 7\n",
      "  1      1\n",
      "  3      4\n",
      "  5      9\n",
      "  7     16\n"
     ]
    }
   ],
   "source": [
    "# Asking the user to enter a number\n",
    "nMax = int(input(\"Enter a number: \"))\n",
    "\n",
    "# Initialising the variables\n",
    "sum = 0\n",
    "num = 1\n",
    "\n",
    "\n",
    "if nMax>=0:\n",
    "#   Looping from 1 till user's input\n",
    "    while num <= nMax:\n",
    "        \n",
    "#       Checking for odd number and adding it to the sum\n",
    "        if num%2!=0:\n",
    "            sum += num\n",
    "            \n",
    "#           Printing the result in a formatted way  \n",
    "            print('{0:3d} {1:6d}'.format(num, sum)) \n",
    "        num += 1\n",
    "        \n",
    "# If the user inputs negative number\n",
    "else:\n",
    "    print(\"Please only enter positive number!\")"
   ]
  },
  {
   "cell_type": "markdown",
   "metadata": {},
   "source": [
    "#### <font color=\"red\"><b>2.</b></font> Write a program that prompts the user for a positive integer n and prints all positive multiples of 6 *ie. (6, 12, 18, etc.)* that do not exceed n."
   ]
  },
  {
   "cell_type": "code",
   "execution_count": 7,
   "metadata": {},
   "outputs": [
    {
     "name": "stdout",
     "output_type": "stream",
     "text": [
      "Enter a number: 18\n",
      "6\n",
      "12\n",
      "18\n"
     ]
    }
   ],
   "source": [
    "# Asking the input from the user\n",
    "num = int(input(\"Enter a number: \"))\n",
    "\n",
    "# Initialising the variable\n",
    "six = 6\n",
    "\n",
    "# Displaying the multiples of 6 till n i.e. the user's input\n",
    "while six <= num:\n",
    "    print(six)\n",
    "    six += 6"
   ]
  },
  {
   "cell_type": "markdown",
   "metadata": {},
   "source": [
    "#### <font color=\"red\"><b>3.</b></font> Using Sums1toN.py as a prototype, write a program that prompts the user to enter a positive integer nMax and displays n and n! (n-factorial) for n from 1 to nMax.   .  "
   ]
  },
  {
   "cell_type": "code",
   "execution_count": 4,
   "metadata": {},
   "outputs": [
    {
     "name": "stdout",
     "output_type": "stream",
     "text": [
      "Enter a number: 6\n",
      "  1       1\n",
      "  2       2\n",
      "  3       6\n",
      "  4      24\n",
      "  5     120\n",
      "  6     720\n"
     ]
    }
   ],
   "source": [
    "# Asking the input from the user\n",
    "nMax = int(input(\"Enter a number: \"))\n",
    "\n",
    "# Initialising the variable\n",
    "num = 1\n",
    "\n",
    "# Looping through 1 till user's input\n",
    "while num <= nMax:\n",
    "    facto = 1\n",
    "    start = 1  \n",
    "    while start <= num:\n",
    "        \n",
    "#       Calculating the factorial   \n",
    "        facto *= start\n",
    "        start += 1\n",
    "        \n",
    "#   Printing the result in a formatted way        \n",
    "    print('{0:3d} {1:7d}'.format(num, facto))\n",
    "    num += 1 "
   ]
  },
  {
   "cell_type": "markdown",
   "metadata": {},
   "source": [
    "<div class=\"alert alert-block alert-danger\"><b>Note:</b> most of the programs for this module do not require you to use the <i>input</i> statement to load data into your code. To avoid loosing marks (for over use of the input statement) You should only use input statements where the question includes the phrases like <font color=\"red\"><i>\"prompts the user..\"</i></font>, <font color=\"red\"><i>\"from the user..\"</i></font> or <font color=\"red\"><i>\"ask the user..\"</i></font>. <b>ie. for questions 4,5 & 6 hard code the data in the program</b></div>"
   ]
  },
  {
   "cell_type": "markdown",
   "metadata": {},
   "source": [
    "#### <font color=\"red\"><b>4.</b></font> Write a program that prints n, $ s_{1}(n)=\\sum \\limits _{k=1} ^{n} k $ , $ s_{2}(n)=\\sum \\limits _{k=1} ^{n} k ^{2} $ , and  $ \\frac{3s_{2}(n)}{s_{1}(n)} $ for n = 1, 2, 3, ..., 20.  Try to guess the general formula for  $ \\sum \\limits _{k=1} ^{n} k ^{2} $ from the resulting table."
   ]
  },
  {
   "cell_type": "code",
   "execution_count": 15,
   "metadata": {
    "scrolled": true
   },
   "outputs": [
    {
     "name": "stdout",
     "output_type": "stream",
     "text": [
      "    1     1     1     3\n",
      "    2     3     5     5\n",
      "    3     6    14     7\n",
      "    4    10    30     9\n",
      "    5    15    55    11\n",
      "    6    21    91    13\n",
      "    7    28   140    15\n",
      "    8    36   204    17\n",
      "    9    45   285    19\n",
      "   10    55   385    21\n"
     ]
    }
   ],
   "source": [
    "# Initialising the variables\n",
    "num = 10\n",
    "s1 = 0\n",
    "s2 = 0\n",
    "\n",
    "#Looping from 1 to num+1\n",
    "for start in range(1, num+1):\n",
    "    \n",
    "    #Incrementing s1 by start\n",
    "    s1 += start\n",
    "    \n",
    "    #Incrementing s2 by start * start\n",
    "    s2 += (start * start)\n",
    "    s3 = (3 * s2)/s1\n",
    "    \n",
    "    #Printing the result in a formatted way\n",
    "    print ('{0:5d} {1:5d} {2:5d} {3:5.0f}'.format(start,s1,s2,s3))\n",
    "    "
   ]
  },
  {
   "cell_type": "markdown",
   "metadata": {},
   "source": [
    "#### <font color=\"red\"><b>5.</b></font> Write a function printSquare(n) that displays a “square” whose side has n stars.  For example, for n = 5, the output should be: "
   ]
  },
  {
   "cell_type": "code",
   "execution_count": 17,
   "metadata": {},
   "outputs": [
    {
     "name": "stdout",
     "output_type": "stream",
     "text": [
      "*****\n",
      "*   *\n",
      "*   *\n",
      "*   *\n",
      "*****\n"
     ]
    }
   ],
   "source": [
    "# `*****`<br>\n",
    "# `*   *`<br>\n",
    "# `*   *`<br>\n",
    "# `*   *`<br>\n",
    "# `*****`<br>\n",
    "\n",
    "# Creating a function printSquare\n",
    "def printSquare(n):\n",
    "    \n",
    "#   Printing '*' for the 1st line\n",
    "    print('*'*n)\n",
    "    \n",
    "#   Initialising the variable\n",
    "    start=0\n",
    "    \n",
    "#   Looping through 0 till n-2  \n",
    "    while start<(n-2):\n",
    "        \n",
    "#       Printing '*' then three spaces in between and again '*' \n",
    "        print(\"*\" + \" \"*(n-2) + \"*\")\n",
    "        start+=1\n",
    "        \n",
    "#   Printing '*' for the last line      \n",
    "    print(\"*\"*n)\n",
    "        \n",
    "printSquare(5)"
   ]
  },
  {
   "cell_type": "markdown",
   "metadata": {},
   "source": [
    "##### Use only one while loop.  (Actually, in Python, you can write this function without any loops, on one line.  Can you figure out how?) "
   ]
  },
  {
   "cell_type": "code",
   "execution_count": 16,
   "metadata": {},
   "outputs": [
    {
     "name": "stdout",
     "output_type": "stream",
     "text": [
      "*****\n",
      "*   *\n",
      "*   *\n",
      "*   *\n",
      "*****\n"
     ]
    }
   ],
   "source": [
    "# Creating a function printSquare\n",
    "def printSquare(n):\n",
    "    \n",
    "#   Initialising the variables  \n",
    "    symbol = '*'\n",
    "    start = 0\n",
    "    gap = ' '\n",
    "    \n",
    "#   Looping through 0 till the input  \n",
    "    while start < n:\n",
    "        \n",
    "#       Printing '*' for the first and last line   \n",
    "        if (start == n-1 or start == 0):\n",
    "            print ( symbol * n )\n",
    "            \n",
    "#       Printing '*' between the first and last line       \n",
    "        else:\n",
    "            print (symbol+(gap*(n-2))+symbol)\n",
    "        start = start + 1\n",
    "        \n",
    "printSquare(5)"
   ]
  },
  {
   "cell_type": "markdown",
   "metadata": {},
   "source": [
    "#### <font color=\"red\"><b>6.</b></font> Write a function <i>myPow(x, n)</i> that returns $x ^{n}$, where   and n is a non-negative integer.  Do not use the ** operator or the math.pow function — use one <i>while</i> loop.  Hint:  $ x ^{0} = 1 $.  "
   ]
  },
  {
   "cell_type": "code",
   "execution_count": 9,
   "metadata": {},
   "outputs": [
    {
     "data": {
      "text/plain": [
       "25"
      ]
     },
     "execution_count": 9,
     "metadata": {},
     "output_type": "execute_result"
    }
   ],
   "source": [
    "# Creating a function \n",
    "def myPow(x,n):\n",
    "    \n",
    "#   Initialising the variables\n",
    "    start = 1   \n",
    "    i = x\n",
    "    if n == 0:\n",
    "        \n",
    "#       Any number having 0th power is 1  \n",
    "        return 1\n",
    "\n",
    "#   If the user inputs negative number\n",
    "    elif n < 0:\n",
    "        print(\"Please ensure that n is not negative\")\n",
    "          \n",
    "    else:\n",
    "        \n",
    "#       Looping through 1 till the power  \n",
    "        while start < n:\n",
    "            start += 1\n",
    "            \n",
    "#           Multiplying x with it's own value   \n",
    "            x *= i \n",
    "            return x\n",
    "        \n",
    "myPow(5,5)"
   ]
  },
  {
   "cell_type": "markdown",
   "metadata": {},
   "source": [
    "### Downloading your workbook"
   ]
  },
  {
   "cell_type": "markdown",
   "metadata": {},
   "source": [
    "Please note even if you are Jupyter on your computer (ie. not on a network) the Jupyter notebook runs as a server, so you are not running and editing a file on your filing system. So to obtain your workbook (to use on a different computer or upload as an assignment, etc.) it must be downloaded to your file system. To do this...  "
   ]
  },
  {
   "cell_type": "markdown",
   "metadata": {},
   "source": [
    "<div class=\"alert alert-block alert-info\">Goto the <b>\"File\"</b> menu and select the <b>\"Download as\"</b> item. You can then select <b>\"notebook (ipynb)\"</b> to download.</div>"
   ]
  }
 ],
 "metadata": {
  "kernelspec": {
   "display_name": "Python 3 (ipykernel)",
   "language": "python",
   "name": "python3"
  },
  "language_info": {
   "codemirror_mode": {
    "name": "ipython",
    "version": 3
   },
   "file_extension": ".py",
   "mimetype": "text/x-python",
   "name": "python",
   "nbconvert_exporter": "python",
   "pygments_lexer": "ipython3",
   "version": "3.9.12"
  }
 },
 "nbformat": 4,
 "nbformat_minor": 2
}
