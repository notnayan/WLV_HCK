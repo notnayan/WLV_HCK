{
 "cells": [
  {
   "cell_type": "markdown",
   "metadata": {},
   "source": [
    "## Python Workshop 2 Exercises"
   ]
  },
  {
   "cell_type": "markdown",
   "metadata": {},
   "source": [
    "<div class=\"alert alert-block alert-info\">\n",
    "In this workshop you will practice packaging your code into functions, passing values in arguments and returning results</div>"
   ]
  },
  {
   "cell_type": "markdown",
   "metadata": {},
   "source": [
    "<div class=\"alert alert-block alert-danger\">\n",
    "Say you have the following question to answer...<br><font color=\"red\"><b>Example</b></font> The Python <i>math</i> module contains trig functions but they only work in radians.  Write a sine function that converts from Radians to Degrees.</div>"
   ]
  },
  {
   "cell_type": "markdown",
   "metadata": {},
   "source": [
    "<code>## Sine (in degrees) in a Python script\n",
    "from math import pi, sin                   ## -- these are the components we need from the math libray\n",
    "                                   \n",
    "x = float(input(\"Please input a number \")) ## -- input - not asked for but allows you to test the code \n",
    "answer = sin(pi*x/180)                     ## -- do the calculation\n",
    "print(\"result = {}\".format(answer))        ## -- output to check your solution</code>"
   ]
  },
  {
   "cell_type": "markdown",
   "metadata": {},
   "source": [
    "<div class=\"alert alert-block alert-danger\">The problem with this solution is the question asked for a <b>function</b> and the script above may calculate a value, but the solution does not address the requirement in the question.  So lets try again...</div>"
   ]
  },
  {
   "cell_type": "markdown",
   "metadata": {},
   "source": [
    "<code>from math import pi, sin\n",
    "    \n",
    "def deg_sin():                           ## -- a naive solution\n",
    "    x = float(input(\"Please input a number \"))\n",
    "    answer = sin(pi*x/180) \n",
    "    print(\"result = {}\".format(answer))\n",
    "\n",
    "deg_sin()                                ## -- call the function</code>"
   ]
  },
  {
   "cell_type": "markdown",
   "metadata": {},
   "source": [
    "<div class=\"alert alert-block alert-warning\">This is a poorly designed solution as a well designed function should do one thing and only one thing well <b><i>(actually a function might do multiple things... but it shouldn't do everything)</i></b> this is a poor function it has, input and output and calculation... it's doing too much.<br>So lets improve things by to moving the input outside of the function and then pass the value we want calculated into the function</div>"
   ]
  },
  {
   "cell_type": "markdown",
   "metadata": {},
   "source": [
    "<code>from math import pi, sin\n",
    "    \n",
    "def deg_sin(x):    \n",
    "    answer = sin(pi*x/180) \n",
    "    print(\"result = {}\".format(answer))\n",
    "\n",
    "inp = float(input(\"Please input a number \"))\n",
    "deg_sin(inp)</code>"
   ]
  },
  {
   "cell_type": "markdown",
   "metadata": {},
   "source": [
    "<div class=\"alert alert-block alert-warning\">Ok this is better but still limiting because most of the time the result of a functions calculation is still needed for further calculation, the functions only job is to perform the calculation, i.e. it is not upto the function to decide what to do with the result all it should do is <b>return</b> the result, leaving the decision whether to display the result up to the routine that called it.</div>"
   ]
  },
  {
   "cell_type": "markdown",
   "metadata": {},
   "source": [
    "<code>from math import pi, sin\n",
    "    \n",
    "def deg_sin(x):    \n",
    "    return sin(pi*x/180)\n",
    "\n",
    "inp = float(input(\"Please input a number \"))\n",
    "out = deg_sin(inp)\n",
    "print(\"result = {}\".format(out))</code>"
   ]
  },
  {
   "cell_type": "markdown",
   "metadata": {},
   "source": [
    "<div class=\"alert alert-block alert-success\">So this is a much better answer to the question because we have function that calculates the answer but provides a neat solution as it does not mix it with the code needed to test and demonstrate it working.<br>Of course avoid the faff of inp and out variables in the calling routine you could write it as...</div>"
   ]
  },
  {
   "cell_type": "markdown",
   "metadata": {},
   "source": [
    "<code>from math import pi, sin\n",
    "    \n",
    "def deg_sin(x):    \n",
    "    return sin(pi*x/180)\n",
    "  \n",
    "print(\"result = {}\".format(deg_sin(float(input(\"Please input a number \")))))</code>"
   ]
  },
  {
   "cell_type": "markdown",
   "metadata": {},
   "source": [
    "<div class=\"alert alert-block alert-success\">To maintain a single entry point into the program you could wrap the calling routine in a separate funtion.  But note the calculation is still clear and distinct and in its own function.</div>"
   ]
  },
  {
   "cell_type": "markdown",
   "metadata": {},
   "source": [
    "<code>from math import pi, sin\n",
    "    \n",
    "def deg_sin(x):    \n",
    "    return sin(pi*x/180)\n",
    "\n",
    "def main():\n",
    "    inp = float(input(\"Please input a number \"))\n",
    "    print(\"result = {}\".format(deg_sin(inp)))\n",
    "\n",
    "main()</code>"
   ]
  },
  {
   "cell_type": "markdown",
   "metadata": {},
   "source": [
    "<div class=\"alert alert-block alert-danger\">\n",
    "Now try to write the Python code to answer the following questions in the cells below \n",
    "</div>"
   ]
  },
  {
   "cell_type": "markdown",
   "metadata": {},
   "source": [
    "#### <font color=\"red\"><b>1.</b></font> Write a function called <i>rectangle</i> that takes two integers m and n as arguments and prints out an m × n box consisting of asterisks. Shown below is the output of <i>rectangle(2,4)</i>"
   ]
  },
  {
   "cell_type": "markdown",
   "metadata": {},
   "source": [
    "`****`<br>\n",
    "`****`"
   ]
  },
  {
   "cell_type": "code",
   "execution_count": 1,
   "metadata": {},
   "outputs": [
    {
     "name": "stdout",
     "output_type": "stream",
     "text": [
      "****\n",
      "****\n"
     ]
    }
   ],
   "source": [
    "# Creating a function\n",
    "def rectange(m,n):\n",
    "    \n",
    "#   Looping i through m  \n",
    "    for i in range(m):\n",
    "        \n",
    "#       Printing '*' n times  \n",
    "        print(\"*\"*n)\n",
    "        \n",
    "rectange(2,4)\n"
   ]
  },
  {
   "cell_type": "markdown",
   "metadata": {},
   "source": [
    "#### <font color=\"red\"><b>2.</b></font> Write a function returnSquare(n) that <font color=\"red\"><i>returns</i></font> a string, such that when the string is printed it displays a square whose side has n stars.  For example, for n = 5, the output should be: "
   ]
  },
  {
   "cell_type": "markdown",
   "metadata": {},
   "source": [
    "`*****`<br>\n",
    "`*   *`<br>\n",
    "`*   *`<br>\n",
    "`*   *`<br>\n",
    "`*****`<br>"
   ]
  },
  {
   "cell_type": "code",
   "execution_count": 2,
   "metadata": {},
   "outputs": [
    {
     "name": "stdout",
     "output_type": "stream",
     "text": [
      "*****\n",
      "*   *\n",
      "*   *\n",
      "*   *\n",
      "*****\n"
     ]
    }
   ],
   "source": [
    "# Creating a function\n",
    "def returnSquare(n):\n",
    "    \n",
    "#   returning * for the first line then n lines with n-2 gap and finally last line\n",
    "    return(\"*\"*n+'\\n'+('*'+' '*(n-2)+'*'+'\\n')*(n-2)+\"*\"*n)\n",
    "\n",
    "print(returnSquare(5))\n",
    "    "
   ]
  },
  {
   "cell_type": "markdown",
   "metadata": {},
   "source": [
    "#### <font color=\"red\"><b>3.</b></font> Write a function <i>squaredSum</i> that returns the sum of the squares of an array/list of integers such that <font color=\"blue\"><i>squaredSum([2,3,4])</i></font> gives <font color=\"blue\">29</font>. Write your solution in pure Python to show the logic in your solution, do not use any library functions. <i>There is no need to veryfy the array data.</i>  "
   ]
  },
  {
   "cell_type": "code",
   "execution_count": 1,
   "metadata": {},
   "outputs": [
    {
     "data": {
      "text/plain": [
       "29"
      ]
     },
     "execution_count": 1,
     "metadata": {},
     "output_type": "execute_result"
    }
   ],
   "source": [
    "# Creating a list with items\n",
    "list = [2,3,4]\n",
    "\n",
    "# Creating a function\n",
    "def squaredSum(s):\n",
    "    \n",
    "#   Initialising the variable\n",
    "    sum=0\n",
    "    \n",
    "#   Looping i through s  \n",
    "    for i in s:\n",
    "        \n",
    "#       Adding sum with every iteration of square of i\n",
    "        sum+=i*i\n",
    "    return sum\n",
    "\n",
    "squaredSum(list)\n",
    "        \n",
    "    \n",
    "    "
   ]
  },
  {
   "cell_type": "markdown",
   "metadata": {},
   "source": [
    "#### <font color=\"red\"><b>4.</b></font> Write a function called <i>sumDigits</i> that is given an integer <i>num</i> and returns the sum of the digits of <i>num</i>. Eg. <font color=\"blue\"><i>sumDigits(6)</i></font> gives <font color=\"blue\">21.</font> Do not use any library functions (if there is one). "
   ]
  },
  {
   "cell_type": "code",
   "execution_count": 4,
   "metadata": {},
   "outputs": [
    {
     "data": {
      "text/plain": [
       "21"
      ]
     },
     "execution_count": 4,
     "metadata": {},
     "output_type": "execute_result"
    }
   ],
   "source": [
    "# Creating a function\n",
    "def sumDigits(n):\n",
    "    \n",
    "#   Initialising the variable    \n",
    "    sum = 0\n",
    "    \n",
    "#   Looping i through n+1  \n",
    "    for i in range(n+1):\n",
    "        \n",
    "#       Adding sum with every iteration of i  \n",
    "        sum+=i\n",
    "    return sum\n",
    "    \n",
    "sumDigits(6)\n",
    "        \n",
    "    "
   ]
  },
  {
   "cell_type": "markdown",
   "metadata": {},
   "source": [
    "#### <font color=\"red\"><b>5.</b></font> Write a function <i>smallestDivisor</i> that takes an integer   and returns its smallest divisor that is greater than 1.  For example: smallestDivisor(15) should return 3; smallestDivisor(7) should return 7.   <font color=\"blue\"><i>Hint: d is not a divisor of n if and only if n % d != 0.</i></font>"
   ]
  },
  {
   "cell_type": "code",
   "execution_count": 5,
   "metadata": {},
   "outputs": [
    {
     "name": "stdout",
     "output_type": "stream",
     "text": [
      "7\n"
     ]
    }
   ],
   "source": [
    "# Creating a function\n",
    "def smallestDivisor(n):\n",
    "    \n",
    "#   Looping i through n+1 starting from 2  \n",
    "    for i in range(2, n+1):\n",
    "        if n%i==0:\n",
    "            return i\n",
    "\n",
    "print(smallestDivisor(7))\n",
    "    "
   ]
  },
  {
   "cell_type": "markdown",
   "metadata": {},
   "source": [
    "#### <font color=\"red\"><b>6.</b></font> A positive integer is called a perfect number if it is equal to the sum of all of its divisors, including 1 but excluding the number itself.  For example, 6 = 1 + 2 + 3.  Write a function <i>sumOfDivisors</i> that takes a positive integer n and returns the sum of all its divisors (excluding n).   <i>Hint:</i>\n",
    "<code>\n",
    "    if n % d == 0:\n",
    "        sumDivs += d\n",
    "</code>"
   ]
  },
  {
   "cell_type": "code",
   "execution_count": 5,
   "metadata": {},
   "outputs": [
    {
     "name": "stdout",
     "output_type": "stream",
     "text": [
      "6\n"
     ]
    }
   ],
   "source": [
    "# Creating a function\n",
    "def sumofDivisors(n):\n",
    "    \n",
    "#   Initialising the variable     \n",
    "    sumDiv=0\n",
    "    \n",
    "#   Looping i through n starting from 1   \n",
    "    for i in range(1,n):\n",
    "        if n%i==0:\n",
    "            \n",
    "#           Adding sum with every iteration of i  \n",
    "            sumDiv += i\n",
    "    return sumDiv\n",
    "\n",
    "print(sumofDivisors(6))"
   ]
  },
  {
   "cell_type": "markdown",
   "metadata": {},
   "source": [
    "#### <font color=\"red\"><b>7.</b></font> The smallest perfect number is 6.  Write a program that finds and prints out the next perfect number.  <i>Hint: You should be able your sumOfDiviors function from your solution to question 6</i>"
   ]
  },
  {
   "cell_type": "code",
   "execution_count": 6,
   "metadata": {},
   "outputs": [
    {
     "name": "stdout",
     "output_type": "stream",
     "text": [
      "28\n"
     ]
    }
   ],
   "source": [
    "# Creating a function\n",
    "def perfectnumber():\n",
    "    \n",
    "#   Initialising the variable  \n",
    "    n=7    \n",
    "    \n",
    "#   Setting the condition to be always true  \n",
    "    while (True):\n",
    "        if sumofDivisors(n)==n:\n",
    "            print(n)\n",
    "            \n",
    "#           Breaking the loop after figuring out the value so that it doesn't run indefinitely  \n",
    "            break\n",
    "    \n",
    "#       Incrementing the value of n by 1\n",
    "        n+=1\n",
    "    \n",
    "perfectnumber()\n",
    "\n",
    "#  METHOD-2: When the range is known\n",
    "#     for i in range(7,1000):\n",
    "#         if sumofDivisors(i)==i:\n",
    "#             print(i)\n",
    "    "
   ]
  },
  {
   "cell_type": "markdown",
   "metadata": {},
   "source": [
    "### Downloading your workbook"
   ]
  },
  {
   "cell_type": "markdown",
   "metadata": {},
   "source": [
    "Please note even if you are Jupyter on your computer (ie. not on a network) the Jupyter notebook runs as a server, so you are editing and running a file that is not easily accessed on your filing system. So to obtain your workbook (to use on a different computer or upload as an assignment, etc.) it must be downloaded to your file system. To do this...  "
   ]
  },
  {
   "cell_type": "markdown",
   "metadata": {},
   "source": [
    "<div class=\"alert alert-block alert-info\">Goto the <b>\"File\"</b> menu and select the <b>\"Download as\"</b> item. You can then select <b>\"notebook (ipynb)\"</b> to download.</div>"
   ]
  }
 ],
 "metadata": {
  "kernelspec": {
   "display_name": "Python 3 (ipykernel)",
   "language": "python",
   "name": "python3"
  },
  "language_info": {
   "codemirror_mode": {
    "name": "ipython",
    "version": 3
   },
   "file_extension": ".py",
   "mimetype": "text/x-python",
   "name": "python",
   "nbconvert_exporter": "python",
   "pygments_lexer": "ipython3",
   "version": "3.9.12"
  }
 },
 "nbformat": 4,
 "nbformat_minor": 2
}
